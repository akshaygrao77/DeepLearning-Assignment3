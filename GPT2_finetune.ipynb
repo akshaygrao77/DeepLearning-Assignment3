{
  "nbformat": 4,
  "nbformat_minor": 0,
  "metadata": {
    "colab": {
      "name": "GPT2_finetune.ipynb",
      "provenance": [],
      "collapsed_sections": [],
      "include_colab_link": true
    },
    "kernelspec": {
      "name": "python3",
      "display_name": "Python 3"
    },
    "language_info": {
      "name": "python"
    },
    "accelerator": "GPU",
    "widgets": {
      "application/vnd.jupyter.widget-state+json": {
        "43efe38fb7954210a1046156e142f9cd": {
          "model_module": "@jupyter-widgets/controls",
          "model_name": "HBoxModel",
          "model_module_version": "1.5.0",
          "state": {
            "_dom_classes": [],
            "_model_module": "@jupyter-widgets/controls",
            "_model_module_version": "1.5.0",
            "_model_name": "HBoxModel",
            "_view_count": null,
            "_view_module": "@jupyter-widgets/controls",
            "_view_module_version": "1.5.0",
            "_view_name": "HBoxView",
            "box_style": "",
            "children": [
              "IPY_MODEL_c04a424062474e90b4325991e1d39ab9",
              "IPY_MODEL_0646a9e4bea34d1485b9f15aae491fab",
              "IPY_MODEL_7b2fe8f1d5274af58fb9bd81ed147a97"
            ],
            "layout": "IPY_MODEL_1c59a080323a4996a677a32872f2354e"
          }
        },
        "c04a424062474e90b4325991e1d39ab9": {
          "model_module": "@jupyter-widgets/controls",
          "model_name": "HTMLModel",
          "model_module_version": "1.5.0",
          "state": {
            "_dom_classes": [],
            "_model_module": "@jupyter-widgets/controls",
            "_model_module_version": "1.5.0",
            "_model_name": "HTMLModel",
            "_view_count": null,
            "_view_module": "@jupyter-widgets/controls",
            "_view_module_version": "1.5.0",
            "_view_name": "HTMLView",
            "description": "",
            "description_tooltip": null,
            "layout": "IPY_MODEL_c19e56d095354fb1bf647d32eb082c11",
            "placeholder": "​",
            "style": "IPY_MODEL_bba44b7e8e64446ab79000b77fbd5c72",
            "value": "Downloading: 100%"
          }
        },
        "0646a9e4bea34d1485b9f15aae491fab": {
          "model_module": "@jupyter-widgets/controls",
          "model_name": "FloatProgressModel",
          "model_module_version": "1.5.0",
          "state": {
            "_dom_classes": [],
            "_model_module": "@jupyter-widgets/controls",
            "_model_module_version": "1.5.0",
            "_model_name": "FloatProgressModel",
            "_view_count": null,
            "_view_module": "@jupyter-widgets/controls",
            "_view_module_version": "1.5.0",
            "_view_name": "ProgressView",
            "bar_style": "success",
            "description": "",
            "description_tooltip": null,
            "layout": "IPY_MODEL_4cf38c40570948a1875d638b2b039cfc",
            "max": 1042301,
            "min": 0,
            "orientation": "horizontal",
            "style": "IPY_MODEL_5a8be7917138472fbfd1cf0832b2f394",
            "value": 1042301
          }
        },
        "7b2fe8f1d5274af58fb9bd81ed147a97": {
          "model_module": "@jupyter-widgets/controls",
          "model_name": "HTMLModel",
          "model_module_version": "1.5.0",
          "state": {
            "_dom_classes": [],
            "_model_module": "@jupyter-widgets/controls",
            "_model_module_version": "1.5.0",
            "_model_name": "HTMLModel",
            "_view_count": null,
            "_view_module": "@jupyter-widgets/controls",
            "_view_module_version": "1.5.0",
            "_view_name": "HTMLView",
            "description": "",
            "description_tooltip": null,
            "layout": "IPY_MODEL_2ff3b05eafd84bb6ba32fa8d5e64bf4e",
            "placeholder": "​",
            "style": "IPY_MODEL_4e846ff65f5444728ae175b4ce456d40",
            "value": " 0.99M/0.99M [00:00&lt;00:00, 2.06MB/s]"
          }
        },
        "1c59a080323a4996a677a32872f2354e": {
          "model_module": "@jupyter-widgets/base",
          "model_name": "LayoutModel",
          "model_module_version": "1.2.0",
          "state": {
            "_model_module": "@jupyter-widgets/base",
            "_model_module_version": "1.2.0",
            "_model_name": "LayoutModel",
            "_view_count": null,
            "_view_module": "@jupyter-widgets/base",
            "_view_module_version": "1.2.0",
            "_view_name": "LayoutView",
            "align_content": null,
            "align_items": null,
            "align_self": null,
            "border": null,
            "bottom": null,
            "display": null,
            "flex": null,
            "flex_flow": null,
            "grid_area": null,
            "grid_auto_columns": null,
            "grid_auto_flow": null,
            "grid_auto_rows": null,
            "grid_column": null,
            "grid_gap": null,
            "grid_row": null,
            "grid_template_areas": null,
            "grid_template_columns": null,
            "grid_template_rows": null,
            "height": null,
            "justify_content": null,
            "justify_items": null,
            "left": null,
            "margin": null,
            "max_height": null,
            "max_width": null,
            "min_height": null,
            "min_width": null,
            "object_fit": null,
            "object_position": null,
            "order": null,
            "overflow": null,
            "overflow_x": null,
            "overflow_y": null,
            "padding": null,
            "right": null,
            "top": null,
            "visibility": null,
            "width": null
          }
        },
        "c19e56d095354fb1bf647d32eb082c11": {
          "model_module": "@jupyter-widgets/base",
          "model_name": "LayoutModel",
          "model_module_version": "1.2.0",
          "state": {
            "_model_module": "@jupyter-widgets/base",
            "_model_module_version": "1.2.0",
            "_model_name": "LayoutModel",
            "_view_count": null,
            "_view_module": "@jupyter-widgets/base",
            "_view_module_version": "1.2.0",
            "_view_name": "LayoutView",
            "align_content": null,
            "align_items": null,
            "align_self": null,
            "border": null,
            "bottom": null,
            "display": null,
            "flex": null,
            "flex_flow": null,
            "grid_area": null,
            "grid_auto_columns": null,
            "grid_auto_flow": null,
            "grid_auto_rows": null,
            "grid_column": null,
            "grid_gap": null,
            "grid_row": null,
            "grid_template_areas": null,
            "grid_template_columns": null,
            "grid_template_rows": null,
            "height": null,
            "justify_content": null,
            "justify_items": null,
            "left": null,
            "margin": null,
            "max_height": null,
            "max_width": null,
            "min_height": null,
            "min_width": null,
            "object_fit": null,
            "object_position": null,
            "order": null,
            "overflow": null,
            "overflow_x": null,
            "overflow_y": null,
            "padding": null,
            "right": null,
            "top": null,
            "visibility": null,
            "width": null
          }
        },
        "bba44b7e8e64446ab79000b77fbd5c72": {
          "model_module": "@jupyter-widgets/controls",
          "model_name": "DescriptionStyleModel",
          "model_module_version": "1.5.0",
          "state": {
            "_model_module": "@jupyter-widgets/controls",
            "_model_module_version": "1.5.0",
            "_model_name": "DescriptionStyleModel",
            "_view_count": null,
            "_view_module": "@jupyter-widgets/base",
            "_view_module_version": "1.2.0",
            "_view_name": "StyleView",
            "description_width": ""
          }
        },
        "4cf38c40570948a1875d638b2b039cfc": {
          "model_module": "@jupyter-widgets/base",
          "model_name": "LayoutModel",
          "model_module_version": "1.2.0",
          "state": {
            "_model_module": "@jupyter-widgets/base",
            "_model_module_version": "1.2.0",
            "_model_name": "LayoutModel",
            "_view_count": null,
            "_view_module": "@jupyter-widgets/base",
            "_view_module_version": "1.2.0",
            "_view_name": "LayoutView",
            "align_content": null,
            "align_items": null,
            "align_self": null,
            "border": null,
            "bottom": null,
            "display": null,
            "flex": null,
            "flex_flow": null,
            "grid_area": null,
            "grid_auto_columns": null,
            "grid_auto_flow": null,
            "grid_auto_rows": null,
            "grid_column": null,
            "grid_gap": null,
            "grid_row": null,
            "grid_template_areas": null,
            "grid_template_columns": null,
            "grid_template_rows": null,
            "height": null,
            "justify_content": null,
            "justify_items": null,
            "left": null,
            "margin": null,
            "max_height": null,
            "max_width": null,
            "min_height": null,
            "min_width": null,
            "object_fit": null,
            "object_position": null,
            "order": null,
            "overflow": null,
            "overflow_x": null,
            "overflow_y": null,
            "padding": null,
            "right": null,
            "top": null,
            "visibility": null,
            "width": null
          }
        },
        "5a8be7917138472fbfd1cf0832b2f394": {
          "model_module": "@jupyter-widgets/controls",
          "model_name": "ProgressStyleModel",
          "model_module_version": "1.5.0",
          "state": {
            "_model_module": "@jupyter-widgets/controls",
            "_model_module_version": "1.5.0",
            "_model_name": "ProgressStyleModel",
            "_view_count": null,
            "_view_module": "@jupyter-widgets/base",
            "_view_module_version": "1.2.0",
            "_view_name": "StyleView",
            "bar_color": null,
            "description_width": ""
          }
        },
        "2ff3b05eafd84bb6ba32fa8d5e64bf4e": {
          "model_module": "@jupyter-widgets/base",
          "model_name": "LayoutModel",
          "model_module_version": "1.2.0",
          "state": {
            "_model_module": "@jupyter-widgets/base",
            "_model_module_version": "1.2.0",
            "_model_name": "LayoutModel",
            "_view_count": null,
            "_view_module": "@jupyter-widgets/base",
            "_view_module_version": "1.2.0",
            "_view_name": "LayoutView",
            "align_content": null,
            "align_items": null,
            "align_self": null,
            "border": null,
            "bottom": null,
            "display": null,
            "flex": null,
            "flex_flow": null,
            "grid_area": null,
            "grid_auto_columns": null,
            "grid_auto_flow": null,
            "grid_auto_rows": null,
            "grid_column": null,
            "grid_gap": null,
            "grid_row": null,
            "grid_template_areas": null,
            "grid_template_columns": null,
            "grid_template_rows": null,
            "height": null,
            "justify_content": null,
            "justify_items": null,
            "left": null,
            "margin": null,
            "max_height": null,
            "max_width": null,
            "min_height": null,
            "min_width": null,
            "object_fit": null,
            "object_position": null,
            "order": null,
            "overflow": null,
            "overflow_x": null,
            "overflow_y": null,
            "padding": null,
            "right": null,
            "top": null,
            "visibility": null,
            "width": null
          }
        },
        "4e846ff65f5444728ae175b4ce456d40": {
          "model_module": "@jupyter-widgets/controls",
          "model_name": "DescriptionStyleModel",
          "model_module_version": "1.5.0",
          "state": {
            "_model_module": "@jupyter-widgets/controls",
            "_model_module_version": "1.5.0",
            "_model_name": "DescriptionStyleModel",
            "_view_count": null,
            "_view_module": "@jupyter-widgets/base",
            "_view_module_version": "1.2.0",
            "_view_name": "StyleView",
            "description_width": ""
          }
        },
        "31fceb78155d4aa3977226f8fcbff4cf": {
          "model_module": "@jupyter-widgets/controls",
          "model_name": "HBoxModel",
          "model_module_version": "1.5.0",
          "state": {
            "_dom_classes": [],
            "_model_module": "@jupyter-widgets/controls",
            "_model_module_version": "1.5.0",
            "_model_name": "HBoxModel",
            "_view_count": null,
            "_view_module": "@jupyter-widgets/controls",
            "_view_module_version": "1.5.0",
            "_view_name": "HBoxView",
            "box_style": "",
            "children": [
              "IPY_MODEL_4a60c82eb5b841c29f3aa10eb3555479",
              "IPY_MODEL_b638562a7c4f43f7ac896eb5ddf33158",
              "IPY_MODEL_1db4d43eceb3428a843c96c0e0531199"
            ],
            "layout": "IPY_MODEL_393b070933aa4193bac4653f9e2505f3"
          }
        },
        "4a60c82eb5b841c29f3aa10eb3555479": {
          "model_module": "@jupyter-widgets/controls",
          "model_name": "HTMLModel",
          "model_module_version": "1.5.0",
          "state": {
            "_dom_classes": [],
            "_model_module": "@jupyter-widgets/controls",
            "_model_module_version": "1.5.0",
            "_model_name": "HTMLModel",
            "_view_count": null,
            "_view_module": "@jupyter-widgets/controls",
            "_view_module_version": "1.5.0",
            "_view_name": "HTMLView",
            "description": "",
            "description_tooltip": null,
            "layout": "IPY_MODEL_859586fe870b454ca4c7683947e10e15",
            "placeholder": "​",
            "style": "IPY_MODEL_cf223ec088b24f4da9ace81552bb2281",
            "value": "Downloading: 100%"
          }
        },
        "b638562a7c4f43f7ac896eb5ddf33158": {
          "model_module": "@jupyter-widgets/controls",
          "model_name": "FloatProgressModel",
          "model_module_version": "1.5.0",
          "state": {
            "_dom_classes": [],
            "_model_module": "@jupyter-widgets/controls",
            "_model_module_version": "1.5.0",
            "_model_name": "FloatProgressModel",
            "_view_count": null,
            "_view_module": "@jupyter-widgets/controls",
            "_view_module_version": "1.5.0",
            "_view_name": "ProgressView",
            "bar_style": "success",
            "description": "",
            "description_tooltip": null,
            "layout": "IPY_MODEL_d8638e37d258416188ce800bdb5a61e8",
            "max": 456318,
            "min": 0,
            "orientation": "horizontal",
            "style": "IPY_MODEL_69bc4bd25a25467287df5ce782fbb373",
            "value": 456318
          }
        },
        "1db4d43eceb3428a843c96c0e0531199": {
          "model_module": "@jupyter-widgets/controls",
          "model_name": "HTMLModel",
          "model_module_version": "1.5.0",
          "state": {
            "_dom_classes": [],
            "_model_module": "@jupyter-widgets/controls",
            "_model_module_version": "1.5.0",
            "_model_name": "HTMLModel",
            "_view_count": null,
            "_view_module": "@jupyter-widgets/controls",
            "_view_module_version": "1.5.0",
            "_view_name": "HTMLView",
            "description": "",
            "description_tooltip": null,
            "layout": "IPY_MODEL_35e701bb09264ac3bfdc1d975746de1a",
            "placeholder": "​",
            "style": "IPY_MODEL_6777104d0b1c44a4a9c7e3b9523e49ab",
            "value": " 446k/446k [00:00&lt;00:00, 671kB/s]"
          }
        },
        "393b070933aa4193bac4653f9e2505f3": {
          "model_module": "@jupyter-widgets/base",
          "model_name": "LayoutModel",
          "model_module_version": "1.2.0",
          "state": {
            "_model_module": "@jupyter-widgets/base",
            "_model_module_version": "1.2.0",
            "_model_name": "LayoutModel",
            "_view_count": null,
            "_view_module": "@jupyter-widgets/base",
            "_view_module_version": "1.2.0",
            "_view_name": "LayoutView",
            "align_content": null,
            "align_items": null,
            "align_self": null,
            "border": null,
            "bottom": null,
            "display": null,
            "flex": null,
            "flex_flow": null,
            "grid_area": null,
            "grid_auto_columns": null,
            "grid_auto_flow": null,
            "grid_auto_rows": null,
            "grid_column": null,
            "grid_gap": null,
            "grid_row": null,
            "grid_template_areas": null,
            "grid_template_columns": null,
            "grid_template_rows": null,
            "height": null,
            "justify_content": null,
            "justify_items": null,
            "left": null,
            "margin": null,
            "max_height": null,
            "max_width": null,
            "min_height": null,
            "min_width": null,
            "object_fit": null,
            "object_position": null,
            "order": null,
            "overflow": null,
            "overflow_x": null,
            "overflow_y": null,
            "padding": null,
            "right": null,
            "top": null,
            "visibility": null,
            "width": null
          }
        },
        "859586fe870b454ca4c7683947e10e15": {
          "model_module": "@jupyter-widgets/base",
          "model_name": "LayoutModel",
          "model_module_version": "1.2.0",
          "state": {
            "_model_module": "@jupyter-widgets/base",
            "_model_module_version": "1.2.0",
            "_model_name": "LayoutModel",
            "_view_count": null,
            "_view_module": "@jupyter-widgets/base",
            "_view_module_version": "1.2.0",
            "_view_name": "LayoutView",
            "align_content": null,
            "align_items": null,
            "align_self": null,
            "border": null,
            "bottom": null,
            "display": null,
            "flex": null,
            "flex_flow": null,
            "grid_area": null,
            "grid_auto_columns": null,
            "grid_auto_flow": null,
            "grid_auto_rows": null,
            "grid_column": null,
            "grid_gap": null,
            "grid_row": null,
            "grid_template_areas": null,
            "grid_template_columns": null,
            "grid_template_rows": null,
            "height": null,
            "justify_content": null,
            "justify_items": null,
            "left": null,
            "margin": null,
            "max_height": null,
            "max_width": null,
            "min_height": null,
            "min_width": null,
            "object_fit": null,
            "object_position": null,
            "order": null,
            "overflow": null,
            "overflow_x": null,
            "overflow_y": null,
            "padding": null,
            "right": null,
            "top": null,
            "visibility": null,
            "width": null
          }
        },
        "cf223ec088b24f4da9ace81552bb2281": {
          "model_module": "@jupyter-widgets/controls",
          "model_name": "DescriptionStyleModel",
          "model_module_version": "1.5.0",
          "state": {
            "_model_module": "@jupyter-widgets/controls",
            "_model_module_version": "1.5.0",
            "_model_name": "DescriptionStyleModel",
            "_view_count": null,
            "_view_module": "@jupyter-widgets/base",
            "_view_module_version": "1.2.0",
            "_view_name": "StyleView",
            "description_width": ""
          }
        },
        "d8638e37d258416188ce800bdb5a61e8": {
          "model_module": "@jupyter-widgets/base",
          "model_name": "LayoutModel",
          "model_module_version": "1.2.0",
          "state": {
            "_model_module": "@jupyter-widgets/base",
            "_model_module_version": "1.2.0",
            "_model_name": "LayoutModel",
            "_view_count": null,
            "_view_module": "@jupyter-widgets/base",
            "_view_module_version": "1.2.0",
            "_view_name": "LayoutView",
            "align_content": null,
            "align_items": null,
            "align_self": null,
            "border": null,
            "bottom": null,
            "display": null,
            "flex": null,
            "flex_flow": null,
            "grid_area": null,
            "grid_auto_columns": null,
            "grid_auto_flow": null,
            "grid_auto_rows": null,
            "grid_column": null,
            "grid_gap": null,
            "grid_row": null,
            "grid_template_areas": null,
            "grid_template_columns": null,
            "grid_template_rows": null,
            "height": null,
            "justify_content": null,
            "justify_items": null,
            "left": null,
            "margin": null,
            "max_height": null,
            "max_width": null,
            "min_height": null,
            "min_width": null,
            "object_fit": null,
            "object_position": null,
            "order": null,
            "overflow": null,
            "overflow_x": null,
            "overflow_y": null,
            "padding": null,
            "right": null,
            "top": null,
            "visibility": null,
            "width": null
          }
        },
        "69bc4bd25a25467287df5ce782fbb373": {
          "model_module": "@jupyter-widgets/controls",
          "model_name": "ProgressStyleModel",
          "model_module_version": "1.5.0",
          "state": {
            "_model_module": "@jupyter-widgets/controls",
            "_model_module_version": "1.5.0",
            "_model_name": "ProgressStyleModel",
            "_view_count": null,
            "_view_module": "@jupyter-widgets/base",
            "_view_module_version": "1.2.0",
            "_view_name": "StyleView",
            "bar_color": null,
            "description_width": ""
          }
        },
        "35e701bb09264ac3bfdc1d975746de1a": {
          "model_module": "@jupyter-widgets/base",
          "model_name": "LayoutModel",
          "model_module_version": "1.2.0",
          "state": {
            "_model_module": "@jupyter-widgets/base",
            "_model_module_version": "1.2.0",
            "_model_name": "LayoutModel",
            "_view_count": null,
            "_view_module": "@jupyter-widgets/base",
            "_view_module_version": "1.2.0",
            "_view_name": "LayoutView",
            "align_content": null,
            "align_items": null,
            "align_self": null,
            "border": null,
            "bottom": null,
            "display": null,
            "flex": null,
            "flex_flow": null,
            "grid_area": null,
            "grid_auto_columns": null,
            "grid_auto_flow": null,
            "grid_auto_rows": null,
            "grid_column": null,
            "grid_gap": null,
            "grid_row": null,
            "grid_template_areas": null,
            "grid_template_columns": null,
            "grid_template_rows": null,
            "height": null,
            "justify_content": null,
            "justify_items": null,
            "left": null,
            "margin": null,
            "max_height": null,
            "max_width": null,
            "min_height": null,
            "min_width": null,
            "object_fit": null,
            "object_position": null,
            "order": null,
            "overflow": null,
            "overflow_x": null,
            "overflow_y": null,
            "padding": null,
            "right": null,
            "top": null,
            "visibility": null,
            "width": null
          }
        },
        "6777104d0b1c44a4a9c7e3b9523e49ab": {
          "model_module": "@jupyter-widgets/controls",
          "model_name": "DescriptionStyleModel",
          "model_module_version": "1.5.0",
          "state": {
            "_model_module": "@jupyter-widgets/controls",
            "_model_module_version": "1.5.0",
            "_model_name": "DescriptionStyleModel",
            "_view_count": null,
            "_view_module": "@jupyter-widgets/base",
            "_view_module_version": "1.2.0",
            "_view_name": "StyleView",
            "description_width": ""
          }
        },
        "40babca3446e45109e41470cb884699f": {
          "model_module": "@jupyter-widgets/controls",
          "model_name": "HBoxModel",
          "model_module_version": "1.5.0",
          "state": {
            "_dom_classes": [],
            "_model_module": "@jupyter-widgets/controls",
            "_model_module_version": "1.5.0",
            "_model_name": "HBoxModel",
            "_view_count": null,
            "_view_module": "@jupyter-widgets/controls",
            "_view_module_version": "1.5.0",
            "_view_name": "HBoxView",
            "box_style": "",
            "children": [
              "IPY_MODEL_3da23ede0b9547ad8e539f8c8ec7c10b",
              "IPY_MODEL_1217dcf40a564a40b16aff77673781e7",
              "IPY_MODEL_1b6f469219a24be5a3ae1650e1c14c8e"
            ],
            "layout": "IPY_MODEL_7675ce8bb42e413e9a03432ae707bfd2"
          }
        },
        "3da23ede0b9547ad8e539f8c8ec7c10b": {
          "model_module": "@jupyter-widgets/controls",
          "model_name": "HTMLModel",
          "model_module_version": "1.5.0",
          "state": {
            "_dom_classes": [],
            "_model_module": "@jupyter-widgets/controls",
            "_model_module_version": "1.5.0",
            "_model_name": "HTMLModel",
            "_view_count": null,
            "_view_module": "@jupyter-widgets/controls",
            "_view_module_version": "1.5.0",
            "_view_name": "HTMLView",
            "description": "",
            "description_tooltip": null,
            "layout": "IPY_MODEL_602545f4b1b84a3ca51171d9037f771f",
            "placeholder": "​",
            "style": "IPY_MODEL_dd5a6c90e6d247d39d0df69b25655759",
            "value": "Downloading: 100%"
          }
        },
        "1217dcf40a564a40b16aff77673781e7": {
          "model_module": "@jupyter-widgets/controls",
          "model_name": "FloatProgressModel",
          "model_module_version": "1.5.0",
          "state": {
            "_dom_classes": [],
            "_model_module": "@jupyter-widgets/controls",
            "_model_module_version": "1.5.0",
            "_model_name": "FloatProgressModel",
            "_view_count": null,
            "_view_module": "@jupyter-widgets/controls",
            "_view_module_version": "1.5.0",
            "_view_name": "ProgressView",
            "bar_style": "success",
            "description": "",
            "description_tooltip": null,
            "layout": "IPY_MODEL_22fce9663b95406d95c6d2fe9f2f613b",
            "max": 665,
            "min": 0,
            "orientation": "horizontal",
            "style": "IPY_MODEL_d5b725adda9d4c58858768f4444b14ef",
            "value": 665
          }
        },
        "1b6f469219a24be5a3ae1650e1c14c8e": {
          "model_module": "@jupyter-widgets/controls",
          "model_name": "HTMLModel",
          "model_module_version": "1.5.0",
          "state": {
            "_dom_classes": [],
            "_model_module": "@jupyter-widgets/controls",
            "_model_module_version": "1.5.0",
            "_model_name": "HTMLModel",
            "_view_count": null,
            "_view_module": "@jupyter-widgets/controls",
            "_view_module_version": "1.5.0",
            "_view_name": "HTMLView",
            "description": "",
            "description_tooltip": null,
            "layout": "IPY_MODEL_0be925c7fa404957b0ba6c3ea3b0214a",
            "placeholder": "​",
            "style": "IPY_MODEL_e3a9a045009349f1b389d661b6dbb9c9",
            "value": " 665/665 [00:00&lt;00:00, 15.8kB/s]"
          }
        },
        "7675ce8bb42e413e9a03432ae707bfd2": {
          "model_module": "@jupyter-widgets/base",
          "model_name": "LayoutModel",
          "model_module_version": "1.2.0",
          "state": {
            "_model_module": "@jupyter-widgets/base",
            "_model_module_version": "1.2.0",
            "_model_name": "LayoutModel",
            "_view_count": null,
            "_view_module": "@jupyter-widgets/base",
            "_view_module_version": "1.2.0",
            "_view_name": "LayoutView",
            "align_content": null,
            "align_items": null,
            "align_self": null,
            "border": null,
            "bottom": null,
            "display": null,
            "flex": null,
            "flex_flow": null,
            "grid_area": null,
            "grid_auto_columns": null,
            "grid_auto_flow": null,
            "grid_auto_rows": null,
            "grid_column": null,
            "grid_gap": null,
            "grid_row": null,
            "grid_template_areas": null,
            "grid_template_columns": null,
            "grid_template_rows": null,
            "height": null,
            "justify_content": null,
            "justify_items": null,
            "left": null,
            "margin": null,
            "max_height": null,
            "max_width": null,
            "min_height": null,
            "min_width": null,
            "object_fit": null,
            "object_position": null,
            "order": null,
            "overflow": null,
            "overflow_x": null,
            "overflow_y": null,
            "padding": null,
            "right": null,
            "top": null,
            "visibility": null,
            "width": null
          }
        },
        "602545f4b1b84a3ca51171d9037f771f": {
          "model_module": "@jupyter-widgets/base",
          "model_name": "LayoutModel",
          "model_module_version": "1.2.0",
          "state": {
            "_model_module": "@jupyter-widgets/base",
            "_model_module_version": "1.2.0",
            "_model_name": "LayoutModel",
            "_view_count": null,
            "_view_module": "@jupyter-widgets/base",
            "_view_module_version": "1.2.0",
            "_view_name": "LayoutView",
            "align_content": null,
            "align_items": null,
            "align_self": null,
            "border": null,
            "bottom": null,
            "display": null,
            "flex": null,
            "flex_flow": null,
            "grid_area": null,
            "grid_auto_columns": null,
            "grid_auto_flow": null,
            "grid_auto_rows": null,
            "grid_column": null,
            "grid_gap": null,
            "grid_row": null,
            "grid_template_areas": null,
            "grid_template_columns": null,
            "grid_template_rows": null,
            "height": null,
            "justify_content": null,
            "justify_items": null,
            "left": null,
            "margin": null,
            "max_height": null,
            "max_width": null,
            "min_height": null,
            "min_width": null,
            "object_fit": null,
            "object_position": null,
            "order": null,
            "overflow": null,
            "overflow_x": null,
            "overflow_y": null,
            "padding": null,
            "right": null,
            "top": null,
            "visibility": null,
            "width": null
          }
        },
        "dd5a6c90e6d247d39d0df69b25655759": {
          "model_module": "@jupyter-widgets/controls",
          "model_name": "DescriptionStyleModel",
          "model_module_version": "1.5.0",
          "state": {
            "_model_module": "@jupyter-widgets/controls",
            "_model_module_version": "1.5.0",
            "_model_name": "DescriptionStyleModel",
            "_view_count": null,
            "_view_module": "@jupyter-widgets/base",
            "_view_module_version": "1.2.0",
            "_view_name": "StyleView",
            "description_width": ""
          }
        },
        "22fce9663b95406d95c6d2fe9f2f613b": {
          "model_module": "@jupyter-widgets/base",
          "model_name": "LayoutModel",
          "model_module_version": "1.2.0",
          "state": {
            "_model_module": "@jupyter-widgets/base",
            "_model_module_version": "1.2.0",
            "_model_name": "LayoutModel",
            "_view_count": null,
            "_view_module": "@jupyter-widgets/base",
            "_view_module_version": "1.2.0",
            "_view_name": "LayoutView",
            "align_content": null,
            "align_items": null,
            "align_self": null,
            "border": null,
            "bottom": null,
            "display": null,
            "flex": null,
            "flex_flow": null,
            "grid_area": null,
            "grid_auto_columns": null,
            "grid_auto_flow": null,
            "grid_auto_rows": null,
            "grid_column": null,
            "grid_gap": null,
            "grid_row": null,
            "grid_template_areas": null,
            "grid_template_columns": null,
            "grid_template_rows": null,
            "height": null,
            "justify_content": null,
            "justify_items": null,
            "left": null,
            "margin": null,
            "max_height": null,
            "max_width": null,
            "min_height": null,
            "min_width": null,
            "object_fit": null,
            "object_position": null,
            "order": null,
            "overflow": null,
            "overflow_x": null,
            "overflow_y": null,
            "padding": null,
            "right": null,
            "top": null,
            "visibility": null,
            "width": null
          }
        },
        "d5b725adda9d4c58858768f4444b14ef": {
          "model_module": "@jupyter-widgets/controls",
          "model_name": "ProgressStyleModel",
          "model_module_version": "1.5.0",
          "state": {
            "_model_module": "@jupyter-widgets/controls",
            "_model_module_version": "1.5.0",
            "_model_name": "ProgressStyleModel",
            "_view_count": null,
            "_view_module": "@jupyter-widgets/base",
            "_view_module_version": "1.2.0",
            "_view_name": "StyleView",
            "bar_color": null,
            "description_width": ""
          }
        },
        "0be925c7fa404957b0ba6c3ea3b0214a": {
          "model_module": "@jupyter-widgets/base",
          "model_name": "LayoutModel",
          "model_module_version": "1.2.0",
          "state": {
            "_model_module": "@jupyter-widgets/base",
            "_model_module_version": "1.2.0",
            "_model_name": "LayoutModel",
            "_view_count": null,
            "_view_module": "@jupyter-widgets/base",
            "_view_module_version": "1.2.0",
            "_view_name": "LayoutView",
            "align_content": null,
            "align_items": null,
            "align_self": null,
            "border": null,
            "bottom": null,
            "display": null,
            "flex": null,
            "flex_flow": null,
            "grid_area": null,
            "grid_auto_columns": null,
            "grid_auto_flow": null,
            "grid_auto_rows": null,
            "grid_column": null,
            "grid_gap": null,
            "grid_row": null,
            "grid_template_areas": null,
            "grid_template_columns": null,
            "grid_template_rows": null,
            "height": null,
            "justify_content": null,
            "justify_items": null,
            "left": null,
            "margin": null,
            "max_height": null,
            "max_width": null,
            "min_height": null,
            "min_width": null,
            "object_fit": null,
            "object_position": null,
            "order": null,
            "overflow": null,
            "overflow_x": null,
            "overflow_y": null,
            "padding": null,
            "right": null,
            "top": null,
            "visibility": null,
            "width": null
          }
        },
        "e3a9a045009349f1b389d661b6dbb9c9": {
          "model_module": "@jupyter-widgets/controls",
          "model_name": "DescriptionStyleModel",
          "model_module_version": "1.5.0",
          "state": {
            "_model_module": "@jupyter-widgets/controls",
            "_model_module_version": "1.5.0",
            "_model_name": "DescriptionStyleModel",
            "_view_count": null,
            "_view_module": "@jupyter-widgets/base",
            "_view_module_version": "1.2.0",
            "_view_name": "StyleView",
            "description_width": ""
          }
        },
        "c93023d6c1f0459ebad51d377e017b70": {
          "model_module": "@jupyter-widgets/controls",
          "model_name": "HBoxModel",
          "model_module_version": "1.5.0",
          "state": {
            "_dom_classes": [],
            "_model_module": "@jupyter-widgets/controls",
            "_model_module_version": "1.5.0",
            "_model_name": "HBoxModel",
            "_view_count": null,
            "_view_module": "@jupyter-widgets/controls",
            "_view_module_version": "1.5.0",
            "_view_name": "HBoxView",
            "box_style": "",
            "children": [
              "IPY_MODEL_00f35ca59b014e3bb6dcdc085f40c258",
              "IPY_MODEL_2d10bfcd0b974375a89a6431fa9e59a8",
              "IPY_MODEL_5617ad274c674abd859dd2cbc37dcef3"
            ],
            "layout": "IPY_MODEL_b3833f0a90d046df9c364c323adc05d6"
          }
        },
        "00f35ca59b014e3bb6dcdc085f40c258": {
          "model_module": "@jupyter-widgets/controls",
          "model_name": "HTMLModel",
          "model_module_version": "1.5.0",
          "state": {
            "_dom_classes": [],
            "_model_module": "@jupyter-widgets/controls",
            "_model_module_version": "1.5.0",
            "_model_name": "HTMLModel",
            "_view_count": null,
            "_view_module": "@jupyter-widgets/controls",
            "_view_module_version": "1.5.0",
            "_view_name": "HTMLView",
            "description": "",
            "description_tooltip": null,
            "layout": "IPY_MODEL_414ca29fe9e241c095e732a39c7381e9",
            "placeholder": "​",
            "style": "IPY_MODEL_793bf455d31847898d85272f43468315",
            "value": "Downloading: 100%"
          }
        },
        "2d10bfcd0b974375a89a6431fa9e59a8": {
          "model_module": "@jupyter-widgets/controls",
          "model_name": "FloatProgressModel",
          "model_module_version": "1.5.0",
          "state": {
            "_dom_classes": [],
            "_model_module": "@jupyter-widgets/controls",
            "_model_module_version": "1.5.0",
            "_model_name": "FloatProgressModel",
            "_view_count": null,
            "_view_module": "@jupyter-widgets/controls",
            "_view_module_version": "1.5.0",
            "_view_name": "ProgressView",
            "bar_style": "success",
            "description": "",
            "description_tooltip": null,
            "layout": "IPY_MODEL_0f62b433f04d4bb0912c35871e360bb4",
            "max": 548118077,
            "min": 0,
            "orientation": "horizontal",
            "style": "IPY_MODEL_d74b86e1a3be41e880635bab205387a6",
            "value": 548118077
          }
        },
        "5617ad274c674abd859dd2cbc37dcef3": {
          "model_module": "@jupyter-widgets/controls",
          "model_name": "HTMLModel",
          "model_module_version": "1.5.0",
          "state": {
            "_dom_classes": [],
            "_model_module": "@jupyter-widgets/controls",
            "_model_module_version": "1.5.0",
            "_model_name": "HTMLModel",
            "_view_count": null,
            "_view_module": "@jupyter-widgets/controls",
            "_view_module_version": "1.5.0",
            "_view_name": "HTMLView",
            "description": "",
            "description_tooltip": null,
            "layout": "IPY_MODEL_ae4664f8de5841928afc2eb22601482f",
            "placeholder": "​",
            "style": "IPY_MODEL_038119f7b0684e14aba1796ea29dbe0c",
            "value": " 523M/523M [00:14&lt;00:00, 40.1MB/s]"
          }
        },
        "b3833f0a90d046df9c364c323adc05d6": {
          "model_module": "@jupyter-widgets/base",
          "model_name": "LayoutModel",
          "model_module_version": "1.2.0",
          "state": {
            "_model_module": "@jupyter-widgets/base",
            "_model_module_version": "1.2.0",
            "_model_name": "LayoutModel",
            "_view_count": null,
            "_view_module": "@jupyter-widgets/base",
            "_view_module_version": "1.2.0",
            "_view_name": "LayoutView",
            "align_content": null,
            "align_items": null,
            "align_self": null,
            "border": null,
            "bottom": null,
            "display": null,
            "flex": null,
            "flex_flow": null,
            "grid_area": null,
            "grid_auto_columns": null,
            "grid_auto_flow": null,
            "grid_auto_rows": null,
            "grid_column": null,
            "grid_gap": null,
            "grid_row": null,
            "grid_template_areas": null,
            "grid_template_columns": null,
            "grid_template_rows": null,
            "height": null,
            "justify_content": null,
            "justify_items": null,
            "left": null,
            "margin": null,
            "max_height": null,
            "max_width": null,
            "min_height": null,
            "min_width": null,
            "object_fit": null,
            "object_position": null,
            "order": null,
            "overflow": null,
            "overflow_x": null,
            "overflow_y": null,
            "padding": null,
            "right": null,
            "top": null,
            "visibility": null,
            "width": null
          }
        },
        "414ca29fe9e241c095e732a39c7381e9": {
          "model_module": "@jupyter-widgets/base",
          "model_name": "LayoutModel",
          "model_module_version": "1.2.0",
          "state": {
            "_model_module": "@jupyter-widgets/base",
            "_model_module_version": "1.2.0",
            "_model_name": "LayoutModel",
            "_view_count": null,
            "_view_module": "@jupyter-widgets/base",
            "_view_module_version": "1.2.0",
            "_view_name": "LayoutView",
            "align_content": null,
            "align_items": null,
            "align_self": null,
            "border": null,
            "bottom": null,
            "display": null,
            "flex": null,
            "flex_flow": null,
            "grid_area": null,
            "grid_auto_columns": null,
            "grid_auto_flow": null,
            "grid_auto_rows": null,
            "grid_column": null,
            "grid_gap": null,
            "grid_row": null,
            "grid_template_areas": null,
            "grid_template_columns": null,
            "grid_template_rows": null,
            "height": null,
            "justify_content": null,
            "justify_items": null,
            "left": null,
            "margin": null,
            "max_height": null,
            "max_width": null,
            "min_height": null,
            "min_width": null,
            "object_fit": null,
            "object_position": null,
            "order": null,
            "overflow": null,
            "overflow_x": null,
            "overflow_y": null,
            "padding": null,
            "right": null,
            "top": null,
            "visibility": null,
            "width": null
          }
        },
        "793bf455d31847898d85272f43468315": {
          "model_module": "@jupyter-widgets/controls",
          "model_name": "DescriptionStyleModel",
          "model_module_version": "1.5.0",
          "state": {
            "_model_module": "@jupyter-widgets/controls",
            "_model_module_version": "1.5.0",
            "_model_name": "DescriptionStyleModel",
            "_view_count": null,
            "_view_module": "@jupyter-widgets/base",
            "_view_module_version": "1.2.0",
            "_view_name": "StyleView",
            "description_width": ""
          }
        },
        "0f62b433f04d4bb0912c35871e360bb4": {
          "model_module": "@jupyter-widgets/base",
          "model_name": "LayoutModel",
          "model_module_version": "1.2.0",
          "state": {
            "_model_module": "@jupyter-widgets/base",
            "_model_module_version": "1.2.0",
            "_model_name": "LayoutModel",
            "_view_count": null,
            "_view_module": "@jupyter-widgets/base",
            "_view_module_version": "1.2.0",
            "_view_name": "LayoutView",
            "align_content": null,
            "align_items": null,
            "align_self": null,
            "border": null,
            "bottom": null,
            "display": null,
            "flex": null,
            "flex_flow": null,
            "grid_area": null,
            "grid_auto_columns": null,
            "grid_auto_flow": null,
            "grid_auto_rows": null,
            "grid_column": null,
            "grid_gap": null,
            "grid_row": null,
            "grid_template_areas": null,
            "grid_template_columns": null,
            "grid_template_rows": null,
            "height": null,
            "justify_content": null,
            "justify_items": null,
            "left": null,
            "margin": null,
            "max_height": null,
            "max_width": null,
            "min_height": null,
            "min_width": null,
            "object_fit": null,
            "object_position": null,
            "order": null,
            "overflow": null,
            "overflow_x": null,
            "overflow_y": null,
            "padding": null,
            "right": null,
            "top": null,
            "visibility": null,
            "width": null
          }
        },
        "d74b86e1a3be41e880635bab205387a6": {
          "model_module": "@jupyter-widgets/controls",
          "model_name": "ProgressStyleModel",
          "model_module_version": "1.5.0",
          "state": {
            "_model_module": "@jupyter-widgets/controls",
            "_model_module_version": "1.5.0",
            "_model_name": "ProgressStyleModel",
            "_view_count": null,
            "_view_module": "@jupyter-widgets/base",
            "_view_module_version": "1.2.0",
            "_view_name": "StyleView",
            "bar_color": null,
            "description_width": ""
          }
        },
        "ae4664f8de5841928afc2eb22601482f": {
          "model_module": "@jupyter-widgets/base",
          "model_name": "LayoutModel",
          "model_module_version": "1.2.0",
          "state": {
            "_model_module": "@jupyter-widgets/base",
            "_model_module_version": "1.2.0",
            "_model_name": "LayoutModel",
            "_view_count": null,
            "_view_module": "@jupyter-widgets/base",
            "_view_module_version": "1.2.0",
            "_view_name": "LayoutView",
            "align_content": null,
            "align_items": null,
            "align_self": null,
            "border": null,
            "bottom": null,
            "display": null,
            "flex": null,
            "flex_flow": null,
            "grid_area": null,
            "grid_auto_columns": null,
            "grid_auto_flow": null,
            "grid_auto_rows": null,
            "grid_column": null,
            "grid_gap": null,
            "grid_row": null,
            "grid_template_areas": null,
            "grid_template_columns": null,
            "grid_template_rows": null,
            "height": null,
            "justify_content": null,
            "justify_items": null,
            "left": null,
            "margin": null,
            "max_height": null,
            "max_width": null,
            "min_height": null,
            "min_width": null,
            "object_fit": null,
            "object_position": null,
            "order": null,
            "overflow": null,
            "overflow_x": null,
            "overflow_y": null,
            "padding": null,
            "right": null,
            "top": null,
            "visibility": null,
            "width": null
          }
        },
        "038119f7b0684e14aba1796ea29dbe0c": {
          "model_module": "@jupyter-widgets/controls",
          "model_name": "DescriptionStyleModel",
          "model_module_version": "1.5.0",
          "state": {
            "_model_module": "@jupyter-widgets/controls",
            "_model_module_version": "1.5.0",
            "_model_name": "DescriptionStyleModel",
            "_view_count": null,
            "_view_module": "@jupyter-widgets/base",
            "_view_module_version": "1.2.0",
            "_view_name": "StyleView",
            "description_width": ""
          }
        }
      }
    }
  },
  "cells": [
    {
      "cell_type": "markdown",
      "metadata": {
        "id": "view-in-github",
        "colab_type": "text"
      },
      "source": [
        "<a href=\"https://colab.research.google.com/github/akshaygrao77/DeepLearning-Assignment3/blob/main/GPT2_finetune.ipynb\" target=\"_parent\"><img src=\"https://colab.research.google.com/assets/colab-badge.svg\" alt=\"Open In Colab\"/></a>"
      ]
    },
    {
      "cell_type": "code",
      "metadata": {
        "id": "7m0rEjp7Ex4G",
        "colab": {
          "base_uri": "https://localhost:8080/"
        },
        "outputId": "5299f890-1f5e-456c-b70f-ff47cdf9f979"
      },
      "source": [
        "!pip install transformers"
      ],
      "execution_count": null,
      "outputs": [
        {
          "output_type": "stream",
          "name": "stdout",
          "text": [
            "Collecting transformers\n",
            "  Downloading transformers-4.18.0-py3-none-any.whl (4.0 MB)\n",
            "\u001b[K     |████████████████████████████████| 4.0 MB 12.4 MB/s \n",
            "\u001b[?25hRequirement already satisfied: tqdm>=4.27 in /usr/local/lib/python3.7/dist-packages (from transformers) (4.64.0)\n",
            "Collecting tokenizers!=0.11.3,<0.13,>=0.11.1\n",
            "  Downloading tokenizers-0.12.1-cp37-cp37m-manylinux_2_12_x86_64.manylinux2010_x86_64.whl (6.6 MB)\n",
            "\u001b[K     |████████████████████████████████| 6.6 MB 35.6 MB/s \n",
            "\u001b[?25hRequirement already satisfied: requests in /usr/local/lib/python3.7/dist-packages (from transformers) (2.23.0)\n",
            "Requirement already satisfied: regex!=2019.12.17 in /usr/local/lib/python3.7/dist-packages (from transformers) (2019.12.20)\n",
            "Requirement already satisfied: numpy>=1.17 in /usr/local/lib/python3.7/dist-packages (from transformers) (1.21.6)\n",
            "Requirement already satisfied: filelock in /usr/local/lib/python3.7/dist-packages (from transformers) (3.6.0)\n",
            "Collecting sacremoses\n",
            "  Downloading sacremoses-0.0.49-py3-none-any.whl (895 kB)\n",
            "\u001b[K     |████████████████████████████████| 895 kB 40.7 MB/s \n",
            "\u001b[?25hRequirement already satisfied: importlib-metadata in /usr/local/lib/python3.7/dist-packages (from transformers) (4.11.3)\n",
            "Collecting huggingface-hub<1.0,>=0.1.0\n",
            "  Downloading huggingface_hub-0.5.1-py3-none-any.whl (77 kB)\n",
            "\u001b[K     |████████████████████████████████| 77 kB 5.0 MB/s \n",
            "\u001b[?25hRequirement already satisfied: packaging>=20.0 in /usr/local/lib/python3.7/dist-packages (from transformers) (21.3)\n",
            "Collecting pyyaml>=5.1\n",
            "  Downloading PyYAML-6.0-cp37-cp37m-manylinux_2_5_x86_64.manylinux1_x86_64.manylinux_2_12_x86_64.manylinux2010_x86_64.whl (596 kB)\n",
            "\u001b[K     |████████████████████████████████| 596 kB 45.6 MB/s \n",
            "\u001b[?25hRequirement already satisfied: typing-extensions>=3.7.4.3 in /usr/local/lib/python3.7/dist-packages (from huggingface-hub<1.0,>=0.1.0->transformers) (4.2.0)\n",
            "Requirement already satisfied: pyparsing!=3.0.5,>=2.0.2 in /usr/local/lib/python3.7/dist-packages (from packaging>=20.0->transformers) (3.0.8)\n",
            "Requirement already satisfied: zipp>=0.5 in /usr/local/lib/python3.7/dist-packages (from importlib-metadata->transformers) (3.8.0)\n",
            "Requirement already satisfied: idna<3,>=2.5 in /usr/local/lib/python3.7/dist-packages (from requests->transformers) (2.10)\n",
            "Requirement already satisfied: chardet<4,>=3.0.2 in /usr/local/lib/python3.7/dist-packages (from requests->transformers) (3.0.4)\n",
            "Requirement already satisfied: urllib3!=1.25.0,!=1.25.1,<1.26,>=1.21.1 in /usr/local/lib/python3.7/dist-packages (from requests->transformers) (1.24.3)\n",
            "Requirement already satisfied: certifi>=2017.4.17 in /usr/local/lib/python3.7/dist-packages (from requests->transformers) (2021.10.8)\n",
            "Requirement already satisfied: joblib in /usr/local/lib/python3.7/dist-packages (from sacremoses->transformers) (1.1.0)\n",
            "Requirement already satisfied: six in /usr/local/lib/python3.7/dist-packages (from sacremoses->transformers) (1.15.0)\n",
            "Requirement already satisfied: click in /usr/local/lib/python3.7/dist-packages (from sacremoses->transformers) (7.1.2)\n",
            "Installing collected packages: pyyaml, tokenizers, sacremoses, huggingface-hub, transformers\n",
            "  Attempting uninstall: pyyaml\n",
            "    Found existing installation: PyYAML 3.13\n",
            "    Uninstalling PyYAML-3.13:\n",
            "      Successfully uninstalled PyYAML-3.13\n",
            "Successfully installed huggingface-hub-0.5.1 pyyaml-6.0 sacremoses-0.0.49 tokenizers-0.12.1 transformers-4.18.0\n"
          ]
        }
      ]
    },
    {
      "cell_type": "code",
      "metadata": {
        "id": "BvAEHzZ5c3_1"
      },
      "source": [
        "import pandas as pd\n",
        "from transformers import GPT2LMHeadModel, GPT2Tokenizer\n",
        "import numpy as np\n",
        "import random\n",
        "import torch\n",
        "from torch.utils.data import Dataset, DataLoader\n",
        "from transformers import GPT2Tokenizer, GPT2LMHeadModel, AdamW, get_linear_schedule_with_warmup\n",
        "from tqdm import tqdm, trange\n",
        "import torch.nn.functional as F\n",
        "from sklearn.model_selection import train_test_split"
      ],
      "execution_count": null,
      "outputs": []
    },
    {
      "cell_type": "code",
      "source": [
        "from google.colab import drive\n",
        "drive.mount('/content/drive')"
      ],
      "metadata": {
        "colab": {
          "base_uri": "https://localhost:8080/"
        },
        "id": "ZNIWhg5yem6S",
        "outputId": "c2cc14ab-d500-4798-d922-970e1281d1af"
      },
      "execution_count": null,
      "outputs": [
        {
          "output_type": "stream",
          "name": "stdout",
          "text": [
            "Mounted at /content/drive\n"
          ]
        }
      ]
    },
    {
      "cell_type": "markdown",
      "metadata": {
        "id": "Yd7iKbfRPNXs"
      },
      "source": [
        "# GPT2 with Fine Tuning"
      ]
    },
    {
      "cell_type": "markdown",
      "metadata": {
        "id": "ugqA8sTyorE7"
      },
      "source": [
        "### Prepare data"
      ]
    },
    {
      "cell_type": "code",
      "source": [
        "import os\n",
        "dataset = []\n",
        "start_seq = \"<|start|>\"\n",
        "end_seq = \"<|end|>\"\n",
        "for dirname, _, filenames in os.walk('drive/MyDrive/Colab Notebooks/Deep learning assignments/Assignment-3/lyrics_dataset'):\n",
        "  for filename in filenames:\n",
        "    print(os.path.join(dirname, filename))\n",
        "    with open(os.path.join(dirname, filename), 'r') as data:\n",
        "      current_data = []\n",
        "      for x in data.readlines():\n",
        "        current_data.append(x.strip())\n",
        "      # current_data.append(end_seq)\n",
        "      print(len(current_data))\n",
        "      print(current_data[:10])\n",
        "      # print(current_data[-10:])\n",
        "      dataset+= (current_data)\n"
      ],
      "metadata": {
        "colab": {
          "base_uri": "https://localhost:8080/"
        },
        "id": "Hn6HImwPAcgY",
        "outputId": "58e830d2-48a1-4b58-8f82-3ac9d284f1f7"
      },
      "execution_count": null,
      "outputs": [
        {
          "output_type": "stream",
          "name": "stdout",
          "text": [
            "drive/MyDrive/Colab Notebooks/Deep learning assignments/Assignment-3/lyrics_dataset/bjork.txt\n",
            "1693\n",
            "['If you ever get close to a human and human behavior', 'Be ready, be ready to get confused and me and my here after', \"There's definitely, definitely, definitely no logic to human behavior\", 'But yet so, yet so irresistible and me and my fear can', \"And there is no map uncertain They're terribly, terribly, terribly moody of human behavior\", 'Then all of a sudden, turn happy and they and my here after', 'But oh, to get involved in the exchange of human emotions', 'Is ever so, ever so satisfying and they and my here on', 'And there is no map and chair too Human behavior, human behavior', 'Human behavior, human behavior And there is no map']\n",
            "drive/MyDrive/Colab Notebooks/Deep learning assignments/Assignment-3/lyrics_dataset/lil-wayne.txt\n",
            "3155\n",
            "['I bought my first key from my baby momma brother', 'I bought my first key', 'Bought my bought my first key', 'I bought my first key from my baby momma brother', 'I bought my first key', 'Bought my bought my first key', 'Yeah hustling on my city streets', 'Trying to get a whole key i bought my frist key my first key', 'Inand we was getting em like for twenty five', 'Colombian connect homey we was getting fly']\n",
            "drive/MyDrive/Colab Notebooks/Deep learning assignments/Assignment-3/lyrics_dataset/beatles.txt\n",
            "1846\n",
            "['Yesterday, all my troubles seemed so far away', \"Now it looks as though they're here to stay\", \"Oh, I believe in yesterday Suddenly, I'm not half the man I used to be\", \"There's a shadow hanging over me.\", \"Oh, yesterday came suddenly Why she had to go I don't know she wouldn't say\", 'I said something wrong, now I long for yesterday Yesterday, love was such an easy game to play', 'Now I need a place to hide away', \"Oh, I believe in yesterday Why she had to go I don't know she wouldn't say\", 'I said something wrong, now I long for yesterday Yesterday, love was such an easy game to play', 'Now I need a place to hide away']\n",
            "drive/MyDrive/Colab Notebooks/Deep learning assignments/Assignment-3/lyrics_dataset/janisjoplin.txt\n",
            "2326\n",
            "[\"Busted flat in Baton Rouge, waitin' for a train\", \"And I's feelin' near as faded as my jeans\", 'Bobby thumbed a diesel down, just before it rained', 'It rode us all the way to New Orleans I pulled my harpoon out of my dirty red bandanna', \"I was playin' soft while Bobby sang the blues, yeah\", \"Windshield wipers slappin' time, I was holdin' Bobby's hand in mine\", \"We sang every song that driver knew Freedom's just another word for nothin' left to lose\", \"Nothin', don't mean nothin' hon' if it ain't free, no no\", \"And, feelin' good was easy, Lord, when he sang the blues\", \"You know, feelin' good was good enough for me\"]\n",
            "drive/MyDrive/Colab Notebooks/Deep learning assignments/Assignment-3/lyrics_dataset/amy-winehouse.txt\n",
            "1910\n",
            "['Build your dreams to the stars above', 'But when you need someone to love', \"Don't go to strangers, darling, come to me Play with fire till your fingers burn\", \"And when there's no place for you to turn\", \"Don't go to strangers, darling, come to me For, when you hear a call to follow your heart\", \"You'll follow your heart I know\", \"I've been through it all, for I'm an old hand\", \"And I'll understand if you go So\", 'Make your mark for your friends to see', 'But when you need more than company']\n",
            "drive/MyDrive/Colab Notebooks/Deep learning assignments/Assignment-3/lyrics_dataset/leonard-cohen.txt\n",
            "2584\n",
            "[\"Now I've heard there was a secret chord\", 'That David played, and it pleased the Lord', \"But you don't really care for music, do you?\", 'It goes like this', 'The fourth, the fifth', 'The minor fall, the major lift', 'The baffled king composing Hallelujah Hallelujah', 'Hallelujah', 'Hallelujah', 'Hallelujah Your faith was strong but you needed proof']\n",
            "drive/MyDrive/Colab Notebooks/Deep learning assignments/Assignment-3/lyrics_dataset/al-green.txt\n",
            "2130\n",
            "[\"Let's stay together I, I'm I'm so in love with you\", 'Whatever you want to do', 'Is all right with me', 'Cause you make me feel so brand new', \"And I want to spend my life with you Let me say that since, baby, since we've been together\", 'Loving you forever', 'Is what I need', 'Let me, be the one you come running to', \"I'll never be untrue Oh baby\", \"Let's, let's stay together (gether)\"]\n",
            "drive/MyDrive/Colab Notebooks/Deep learning assignments/Assignment-3/lyrics_dataset/drake.txt\n",
            "4773\n",
            "['[Hook]', \"I've been down so long, it look like up to me\", 'They look up to me', \"I got fake people showin' fake love to me\", 'Straight up to my face, straight up to my face', \"I've been down so long, it look like up to me\", 'They look up to me', \"I got fake people showin' fake love to me\", 'Straight up to my face, straight up to my face [Verse 1]', \"Somethin' ain't right when we talkin'\"]\n",
            "drive/MyDrive/Colab Notebooks/Deep learning assignments/Assignment-3/lyrics_dataset/dj-khaled.txt\n",
            "5717\n",
            "['Another one', 'We The Best music', \"DJ Khaled I don't know if you could take it\", 'Know you wanna see me nakey, nakey, naked', 'I wanna be your baby, baby, baby', \"Spinning and it's wet just like it came from Maytag\", 'White girl wasted on that brown liquor', \"When I get like this I can't be around you\", \"I'm too lit to dim down a notch\", \"'Cause I could name some thangs that I'm gon' do Wild, wild, wild\"]\n",
            "drive/MyDrive/Colab Notebooks/Deep learning assignments/Assignment-3/lyrics_dataset/joni-mitchell.txt\n",
            "2976\n",
            "['Just before our love got lost you said', 'I am as constant as a northern star\" and I said', 'Constantly in the darkness', \"Where's that at\", \"If you want me I'll be in the bar On the back of a cartoon coaster\", 'In the blue TV screen light', 'I drew a map of Canada', 'Oh Canada', 'And I sketched your face on it twice Oh you are in my blood like holy wine', 'You taste so bitter']\n",
            "drive/MyDrive/Colab Notebooks/Deep learning assignments/Assignment-3/lyrics_dataset/dolly-parton.txt\n",
            "1939\n",
            "['Jolene, Jolene, Jolene, Jolene', \"I'm begging of you please don't take my man\", 'Jolene, Jolene, Jolene, Jolene', \"Please don't take him just because you can Your beauty is beyond compare\", 'With flaming locks of auburn hair', 'With ivory skin and eyes of emerald green', 'Your smile is like a breath of spring', 'Your voice is soft like summer rain', 'And I cannot compete with you', 'Jolene He talks about you in his sleep']\n",
            "drive/MyDrive/Colab Notebooks/Deep learning assignments/Assignment-3/lyrics_dataset/bruno-mars.txt\n",
            "3270\n",
            "['Now greetings to the world! Standing at this liquor store,', 'Whiskey coming through my pores,', 'Feeling like I run this whole block.', 'Lotto tickets cheap beer', \"That's why you can catch me here,\", \"Tryna scratch my way up to the top. 'Cause my job got me going nowhere,\", \"So I ain't got a thing to lose.\", \"Take me to a place where I don't care,\", \"This is me and my liquor store blues. I'll take one shot for my pain,\", 'One drag for my sorrow.']\n",
            "drive/MyDrive/Colab Notebooks/Deep learning assignments/Assignment-3/lyrics_dataset/bieber.txt\n",
            "3715\n",
            "['What do you mean?', 'Oh, oh, oh', 'When you sometimes say yes', 'But you sometimes say no', 'What do you mean?', 'Hey, yeah', \"When you don't want me to move\", 'But you tell me to go', 'What do you mean?', 'Oh']\n",
            "drive/MyDrive/Colab Notebooks/Deep learning assignments/Assignment-3/lyrics_dataset/kanye-west.txt\n",
            "6192\n",
            "['\\ufeffLet the suicide doors up', 'I threw suicides on the tour bus', 'I threw suicides on the private jet', 'You know what that mean Im fly to death', 'I step in Def Jam buildin like Im the shit', 'Tell em give me fifty million or Ima quit', 'Most rappers taste level aint at my waist level', 'Turn up the bass til its upinyoface level', 'Dont do no press but I get the most press kit', 'Plus yo my bitch make your bitch look like Precious']\n",
            "drive/MyDrive/Colab Notebooks/Deep learning assignments/Assignment-3/lyrics_dataset/eminem.txt\n",
            "6812\n",
            "['Look, I was gonna go easy on you and not to hurt your feelings', \"But I'm only going to get this one chance\", \"Something's wrong, I can feel it (Six minutes, Slim Shady, you're on)\", \"Just a feeling I've got, like something's about to happen, but I don't know what\", \"If that means, what I think it means, we're in trouble, big trouble,\", \"And if he is as bananas as you say, I'm not taking any chances\", \"You were just what the doctor ordered I'm beginning to feel like a Rap God, Rap God\", 'All my people from the front to the back nod, back nod', 'Now who thinks their arms are long enough to slap box, slap box?', 'They said I rap like a robot, so call me Rapbot But for me to rap like a computer must be in my genes']\n",
            "drive/MyDrive/Colab Notebooks/Deep learning assignments/Assignment-3/lyrics_dataset/disney.txt\n",
            "2499\n",
            "['When somebody loved me', 'Everything was beautiful', 'Every hour we spent together', 'Lives within my heart And when she was sad', 'I was there to dry her tears', 'And when she was happy so was I', 'When she loved me Through the summer and the fall', 'We had each other that was all', 'Just she and I together', 'Like it was meant to be And when she was lonely']\n",
            "drive/MyDrive/Colab Notebooks/Deep learning assignments/Assignment-3/lyrics_dataset/lady-gaga.txt\n",
            "3807\n",
            "[\"I'll undress you, 'cause you're tired\", 'Cover you as you desire', 'When you fall asleep inside my arms', 'May not have the fancy things', \"But I'll give you everything\", \"You could ever want, it's in my arms So baby tell me yes\", 'And I will give you everything', 'So baby tell me yes', 'And I will be all yours tonight', 'So baby tell me yes']\n",
            "drive/MyDrive/Colab Notebooks/Deep learning assignments/Assignment-3/lyrics_dataset/lorde.txt\n",
            "1671\n",
            "['Well, summer slipped us underneath her tongue', 'Our days and nights are perfumed with obsession', 'Half of my wardrobe is on your bedroom floor', 'Use our eyes, throw our hands overboard I am your sweetheart psychopathic crush', \"Drink up your movements, still I can't get enough\", 'I overthink your p-punctuation use', 'Not my fault, just a thing that my mind do A rush at the beginning', 'I get caught up, just for a minute', \"But lover, you're the one to blame, all that you're doing\", 'Can you hear the violence?']\n",
            "drive/MyDrive/Colab Notebooks/Deep learning assignments/Assignment-3/lyrics_dataset/bruce-springsteen.txt\n",
            "2413\n",
            "['[Verse 1]', 'They come from everywhere', 'A longing to be free', 'They come to join us here', 'From sea to shining sea And they all have a dream', 'As people always will', 'To be safe and warm', 'In that shining city on the hill Some wanna slam the door', 'Instead of opening the gate', \"Aw, let's turn this thing around\"]\n",
            "drive/MyDrive/Colab Notebooks/Deep learning assignments/Assignment-3/lyrics_dataset/blink-182.txt\n",
            "2332\n",
            "['Can we forget about the things I said when I was drunk...', \"I didn't mean to call you that\", \"I can't remember what was said\", 'Or what you threw at me Please tell me', 'Please tell me why', 'My car is in the front yard', 'And I am sleeping with my cloths on', 'I came in throught the window... Last night', 'And your... Gone', \"Gone It's no suprise to me I am my own worst enemy\"]\n",
            "drive/MyDrive/Colab Notebooks/Deep learning assignments/Assignment-3/lyrics_dataset/jimi-hendrix.txt\n",
            "2033\n",
            "['There must be some kind of way outta here', 'Said the joker to the thief', \"There's too much confusion\", \"I can't get no relief Business men, they drink my wine\", 'Plowman dig my earth', 'None were level on the mind', 'Nobody up at his word', 'Hey, hey No reason to get excited', 'The thief he kindly spoke', 'There are many here among us']\n",
            "drive/MyDrive/Colab Notebooks/Deep learning assignments/Assignment-3/lyrics_dataset/kanye.txt\n",
            "3799\n",
            "['', \"N-now th-that that don't kill me\", 'Can only make me stronger', 'I need you to hurry up now', \"Cause I can't wait much longer\", 'I know I got to be right now', \"Cause I can't get much wronger\", \"Man I've been waiting all night now\", \"That's how long I been on ya\", \"I need you right now!Let's get lost tonight\"]\n",
            "drive/MyDrive/Colab Notebooks/Deep learning assignments/Assignment-3/lyrics_dataset/dickinson.txt\n",
            "10053\n",
            "['I. LIFE.', '', '', '', '', '', 'I.', '', 'SUCCESS.', '']\n",
            "drive/MyDrive/Colab Notebooks/Deep learning assignments/Assignment-3/lyrics_dataset/lin-manuel-miranda.txt\n",
            "1084\n",
            "['How does a bastard, orphan, son of a whore', 'And a Scotsman, dropped in the middle of a forgotten spot in the Caribbean by providence impoverished,', 'In squalor, grow up to be a hero and a scholar? The ten-dollar founding father without a father', 'Got a lot farther by working a lot harder', 'By being a lot smarter By being a self-starter', 'By fourteen, they placed him in charge of a trading charter And every day while slaves were being slaughtered and carted away', 'Across the waves, he struggled and kept his guard up', 'Inside, he was longing for something to be a part of', 'The brother was ready to beg, steal, borrow, or barter Then a hurricane came, and devastation reigned', 'Our man saw his future drip, dripping down the drain']\n",
            "drive/MyDrive/Colab Notebooks/Deep learning assignments/Assignment-3/lyrics_dataset/adele.txt\n",
            "2400\n",
            "['Looking for some education', 'Made my way into the night', 'All that bullshit conversation', \"Baby, can't you read the signs? I won't bore you with the details, baby\", \"I don't even wanna waste your time\", \"Let's just say that maybe\", 'You could help me ease my mind', \"I ain't Mr. Right But if you're looking for fast love\", \"If that's love in your eyes\", \"It's more than enough\"]\n",
            "drive/MyDrive/Colab Notebooks/Deep learning assignments/Assignment-3/lyrics_dataset/bob-dylan.txt\n",
            "6038\n",
            "['', '“There must be some way out of here,” said the joker to the thief', '“There’s too much confusion, I can’t get no relief', 'Businessmen, they drink my wine, plowmen dig my earth', 'None of them along the line know what any of it is worth”', '', '“No reason to get excited,” the thief, he kindly spoke', '“There are many here among us who feel that life is but a joke', 'But you and I, we’ve been through that, and this is not our fate', 'So let us not talk falsely now, the hour is getting late”']\n",
            "drive/MyDrive/Colab Notebooks/Deep learning assignments/Assignment-3/lyrics_dataset/britney-spears.txt\n",
            "3848\n",
            "['They say get ready for the revolution', \"I think it's time we find some sorta solution\", \"Somebody's caught up in the endless pollution\", 'They need to wake up, stop living illusions I know you need to hear this', \"Why won't somebody feel this\", 'This is my wish that we all feel connected', 'This is my wish that nobodies neglected Be like a rocket baby', 'Be like a rocket Take off', 'Just fly, away (ay, ay)', 'To find your space Take off']\n",
            "drive/MyDrive/Colab Notebooks/Deep learning assignments/Assignment-3/lyrics_dataset/johnny-cash.txt\n",
            "1935\n",
            "['I saw you walking by his side heard you whisper all those lies', \"And I couldn't keep from crying\", 'You sang him love songs tenderly that should have been for you and me', \"And I couldn't keep from crying\", 'I saw his eyes drinking your charms while he held you in his arms', 'Him with all his wedding ways rules your heart now in my place', \"I stood and watched him steal a kiss from two lips I know I'll miss\", \"And I couldn't keep from crying I saw his eyes drinking your charms... I love that hair, long an' black\", \"Hangin' down to the middle of your back\", \"Don't cut it off whatever you do\"]\n",
            "drive/MyDrive/Colab Notebooks/Deep learning assignments/Assignment-3/lyrics_dataset/ludacris.txt\n",
            "5029\n",
            "['Aw yeah, yeah', \"I mean there's a lot of women out here that's just, you know\", 'They just defensive in so many things, man', 'You missing so many key nutrients in your life', 'I, I just want you to stay healthy in these streets', 'Oh, no no', 'Somebody gotta give you some vitamin D, you know what I mean?', 'Yeah, Luda She got them handlebars', 'Gotta keep a tight grip on that donkey', \"She be givin' out battle scars\"]\n",
            "drive/MyDrive/Colab Notebooks/Deep learning assignments/Assignment-3/lyrics_dataset/Lil_Wayne.txt\n",
            "3155\n",
            "['\\ufeffThey call me Mr Carter I kissed the daughter', 'Of the deads forehead I killed the father', 'Spilled the heart of a mildew hater', 'I will put them body on chill like glaciers', 'Gracias Im crazy yes its obvious', 'Going against me is atheist', 'I got my angels on my shoulders and a quarter of that angel dust', 'I aint sniffin Im just pitchin ya honor I aint snitchin ya honor', 'Hate bitch niXgas bitches with power', 'Vacate when the kitchen get hotter']\n",
            "drive/MyDrive/Colab Notebooks/Deep learning assignments/Assignment-3/lyrics_dataset/Kanye_West.txt\n",
            "6192\n",
            "['\\ufeffEighteen years eighteen years', 'She got one of your kids got you for eighteen years', 'I know somebody paying child support for one of his kids', 'His baby mama car and crib is bigger than his', 'You will see him on TV any given Sunday', 'Win the Super Bowl and drive off in a Hyundai', 'She was supposed to buy your shorty Tyco with your money', 'She went to the doctor got lipo with your money', 'She walking around looking like Michael with your money', 'Shouldve got that insured Geico for your money']\n",
            "drive/MyDrive/Colab Notebooks/Deep learning assignments/Assignment-3/lyrics_dataset/cake.txt\n",
            "2023\n",
            "['At first I was afraid', 'I was petrified', 'I kept thinking I could never live without you', 'By my side But then I spent so many nights', \"Just thinking how you've done me wrong\", 'I grew strong', \"I learned how to get along And so you're back\", 'From outer space', 'I just walked in to find you', 'Here without that look upon your face I should have changed that fucking lock']\n",
            "drive/MyDrive/Colab Notebooks/Deep learning assignments/Assignment-3/lyrics_dataset/dr-seuss.txt\n",
            "1005\n",
            "['The Cat in the Hat', 'By Dr. Seuss', 'The sun did not shine.', 'It was too wet to play.', 'So we sat in the house', 'All that cold cold wet day.', 'I sat there with Sally.', 'We sat there we two.', 'And I said How I wish', 'We had something to do!']\n",
            "drive/MyDrive/Colab Notebooks/Deep learning assignments/Assignment-3/lyrics_dataset/bob-marley.txt\n",
            "2218\n",
            "['\"Don\\'t worry about a thing,', \"'Cause every little thing gonna be all right.\", 'Singin\\': \"Don\\'t worry about a thing,', '\\'Cause every little thing gonna be all right!\" Rise up this mornin\\',', \"Smiled with the risin' sun,\", 'Three little birds', 'Perch by my doorstep', \"Singin' sweet songs\", 'Of melodies pure and true,', 'Sayin\\', (\"This is my message to you-ou-ou:\") Singin\\': \"Don\\'t worry \\'bout a thing,']\n",
            "drive/MyDrive/Colab Notebooks/Deep learning assignments/Assignment-3/lyrics_dataset/alicia-keys.txt\n",
            "2897\n",
            "['Ooh....... New York x2 Grew up in a town that is famous as a place of movie scenes', 'Noise is always loud, there are sirens all around and the streets are mean', \"If I can make it here, I can make it anywhere, that's what they say\", \"Seeing my face in lights or my name on marquees found down on Broadway Even if it ain't all it seems, I got a pocket full of dreams\", \"Baby, I'm from New York\", 'Concrete jungle where dreams are made of', \"There's nothing you can't do\", \"Now you're in New York\", 'These streets will make you feel brand new', 'Big lights will inspire you']\n",
            "drive/MyDrive/Colab Notebooks/Deep learning assignments/Assignment-3/lyrics_dataset/nickelback.txt\n",
            "3425\n",
            "['The first words that come out', 'And I can see this song will be about you', \"I can't believe that I can breathe without you\", 'But all I need to do is carry on', 'The next line I write down', \"And there's a tear that falls between the pages\", \"I know that pain's supposed to heal in stages\", \"But it depends which one I'm standing on I write lines down, then rip them up\", \"Describing love can't be this tough I could set this song on fire, send it up in smoke\", 'I could throw it in the river and watch it sink in slowly']\n",
            "drive/MyDrive/Colab Notebooks/Deep learning assignments/Assignment-3/lyrics_dataset/nirvana.txt\n",
            "1985\n",
            "['Load up on guns, bring your friends', \"It's fun to lose and to pretend\", \"She's over-bored and self-assured\", 'Oh no, I know a dirty word Hello, hello, hello, how low', 'Hello, hello, hello, how low', 'Hello, hello, hello, how low', \"Hello, hello, hello With the lights out, it's less dangerous\", 'Here we are now, entertain us', 'I feel stupid and contagious', 'Here we are now, entertain us']\n",
            "drive/MyDrive/Colab Notebooks/Deep learning assignments/Assignment-3/lyrics_dataset/notorious_big.txt\n",
            "5282\n",
            "['\\ufeffbaby It was all a dream', 'I used to read Word Up magazine', 'Salt n Pepa and Heavy D up in the limousine', 'Hangin pictures on my wall', 'Every Saturday Rap Attack Mr Magic Marley Marl', 'I let my tape rock til my tape popped', 'Smokin weed and Bambu sippin on Private Stock', 'Way back when I had the red and black lumberjack', 'With the hat to match', 'Remember Rappin Duke duhha duhha']\n",
            "drive/MyDrive/Colab Notebooks/Deep learning assignments/Assignment-3/lyrics_dataset/r-kelly.txt\n",
            "4123\n",
            "['I hear you callin\\', \"Here I come baby\"', 'To save you, oh oh', \"Baby no more stallin'\", 'These hands have been longing to touch you baby', \"And now that you've come around, to seein' it my way\", \"You won't regret it baby, and you surely won't forget it baby\", \"It's unbelieveable how your body's calling for me\", \"I can just hear it callin' callin' for me My body's callin' for you\", \"My body's callin' for you\", \"My body's callin' for you\"]\n",
            "drive/MyDrive/Colab Notebooks/Deep learning assignments/Assignment-3/lyrics_dataset/rihanna.txt\n",
            "3895\n",
            "['Ghost in the mirror', \"I knew your face once, but now it's unclear\", \"And I can't feel my body now\", \"I'm separate from here and now A drug and a dream\", 'We lost connection, oh come back to me', 'So I can feel alive again', \"Soul and body try to mend It's pulling me apart, this time\", 'Everything is never ending', 'Slipped into a peril that', \"I'll never understand\"]\n",
            "drive/MyDrive/Colab Notebooks/Deep learning assignments/Assignment-3/lyrics_dataset/paul-simon.txt\n",
            "2247\n",
            "['Hey, Vietnam, Vietnam, Vietnam, Vietnam', 'Vietnam, Vietnam, Vietnam Yesterday I got a letter from my friend', 'Fighting in Vietnam', 'And this is what he had to say', \"'Tell all my friends that I'll be coming home soon\", \"My time it'll be up some time in June\", \"Don't forget, he said to tell my sweet Mary\", 'Her golden lips as sweet as cherries And it came from', 'Vietnam, Vietnam, Vietnam, Vietnam', 'Vietnam, Vietnam, Vietnam It was just the next day his mother got a telegram']\n",
            "drive/MyDrive/Colab Notebooks/Deep learning assignments/Assignment-3/lyrics_dataset/missy-elliott.txt\n",
            "5056\n",
            "[\"I'mma start it from the bottom\", \"I'll show you how to flip a dollar\", 'I got food in my dining room', \"I'm better, I'm better, I'm better\", \"It's another day, another chance\", 'I wake up, I wanna dance', 'So as long as I got my friends', \"I'm better, I'm better, I'm better He say I'm hot, I'm so fuego\", 'Pull up on him in my vehicle', \"He say I'm pretty, I'm pretty\"]\n",
            "drive/MyDrive/Colab Notebooks/Deep learning assignments/Assignment-3/lyrics_dataset/prince.txt\n",
            "11749\n",
            "['', '', 'All of this and more is for you', 'With love, sincerity and deepest care', 'My life with you I share', '', '', 'Ever since I met you, baby', \"I've been wantin' to lay you down\", \"But it's so hard to get you\"]\n",
            "drive/MyDrive/Colab Notebooks/Deep learning assignments/Assignment-3/lyrics_dataset/nicki-minaj.txt\n",
            "4926\n",
            "['[:Nicki Minaj]', 'Young money [Verse 1: Jason Derulo] (?) thousand different favors', 'I wish that I could (?)', \"No i ain't got no dinner plans\", 'So you should bring all your friends', 'I swear to (?) that you my type Noooo [Hook :Jason Derulo]', 'Shimmy shimmy she, shimmy she, shimmy yah', 'Swalla-la-la, swalla-la-la, swalla-la-la', 'Shimmy shimmy she, shimmy she, shimmy yah', 'Swalla-la-la, swalla-la-la, swalla-la-la']\n",
            "drive/MyDrive/Colab Notebooks/Deep learning assignments/Assignment-3/lyrics_dataset/notorious-big.txt\n",
            "5283\n",
            "['\\ufeffbaby It was all a dream', 'I used to read Word Up magazine', 'Salt n Pepa and Heavy D up in the limousine', 'Hangin pictures on my wall', 'Every Saturday Rap Attack Mr Magic Marley Marl', 'I let my tape rock til my tape popped', 'Smokin weed and Bambu sippin on Private Stock', 'Way back when I had the red and black lumberjack', 'With the hat to match', 'Remember Rappin Duke duhha duhha']\n",
            "drive/MyDrive/Colab Notebooks/Deep learning assignments/Assignment-3/lyrics_dataset/nursery_rhymes.txt\n",
            "5070\n",
            "['THE QUEEN _of_ HEARTS', '', '', 'The Queen of Hearts she made some tarts,', \"All on a summer's day;\", '', 'The Knave of Hearts he stole those tarts,', 'And took them clean away.', '', 'The King of Hearts called for those tarts,']\n",
            "drive/MyDrive/Colab Notebooks/Deep learning assignments/Assignment-3/lyrics_dataset/patti-smith.txt\n",
            "3056\n",
            "['', '', \"Jesus died for somebody's sins but not mine\", \"Meltin' in a pot of thieves\", 'Wild card up my sleeve', 'Thick heart of stone', 'My sins my own', 'They belong to me, me', '', 'People say \"beware!\"']\n",
            "drive/MyDrive/Colab Notebooks/Deep learning assignments/Assignment-3/lyrics_dataset/radiohead.txt\n",
            "2346\n",
            "['Come on, come on', 'You think you drive me crazy', 'Come on, come on', 'You and whose army?', 'You and your cronies', 'Come on, come on', 'Holy Roman empire', 'Come on if you think', 'Come on if you think', 'You can take us on']\n",
            "drive/MyDrive/Colab Notebooks/Deep learning assignments/Assignment-3/lyrics_dataset/michael-jackson.txt\n",
            "11176\n",
            "['', '', '[Spoken Intro:]', 'You ever want something', \"that you know you shouldn't have\", \"The more you know you shouldn't have it,\", 'The more you want it', 'And then one day you get it,', \"It's so good too\", \"But it's just like my girl\"]\n"
          ]
        }
      ]
    },
    {
      "cell_type": "code",
      "source": [
        "len(dataset)"
      ],
      "metadata": {
        "colab": {
          "base_uri": "https://localhost:8080/"
        },
        "id": "-YsCu1yRNX_0",
        "outputId": "a9cbe30e-466f-4b96-ab74-85fd46185919"
      },
      "execution_count": null,
      "outputs": [
        {
          "output_type": "execute_result",
          "data": {
            "text/plain": [
              "187088"
            ]
          },
          "metadata": {},
          "execution_count": 5
        }
      ]
    },
    {
      "cell_type": "code",
      "source": [
        "dataset[0]"
      ],
      "metadata": {
        "colab": {
          "base_uri": "https://localhost:8080/",
          "height": 35
        },
        "id": "A9GsgqBQSsLp",
        "outputId": "5500d9ef-bac9-419d-822d-b8b82bda6234"
      },
      "execution_count": null,
      "outputs": [
        {
          "output_type": "execute_result",
          "data": {
            "text/plain": [
              "'If you ever get close to a human and human behavior'"
            ],
            "application/vnd.google.colaboratory.intrinsic+json": {
              "type": "string"
            }
          },
          "metadata": {},
          "execution_count": 6
        }
      ]
    },
    {
      "cell_type": "code",
      "source": [
        "len(dataset[0])"
      ],
      "metadata": {
        "colab": {
          "base_uri": "https://localhost:8080/"
        },
        "id": "TcnxLTESUR78",
        "outputId": "37fea10d-2c1d-4de6-ef0c-5bf4730aea43"
      },
      "execution_count": null,
      "outputs": [
        {
          "output_type": "execute_result",
          "data": {
            "text/plain": [
              "51"
            ]
          },
          "metadata": {},
          "execution_count": 7
        }
      ]
    },
    {
      "cell_type": "code",
      "source": [
        "train_dataset_text, eval_dataset_text = train_test_split(dataset, train_size=.9, random_state=0)\n",
        "print(\"training size:\" + str(len(train_dataset_text)))\n",
        "print(\"Evaluation size: \" + str(len(eval_dataset_text)))"
      ],
      "metadata": {
        "colab": {
          "base_uri": "https://localhost:8080/"
        },
        "id": "QiWbGD2F81ax",
        "outputId": "9a393867-418c-4970-8e67-dea9e95c5247"
      },
      "execution_count": null,
      "outputs": [
        {
          "output_type": "stream",
          "name": "stdout",
          "text": [
            "training size:168379\n",
            "Evaluation size: 18709\n"
          ]
        }
      ]
    },
    {
      "cell_type": "markdown",
      "metadata": {
        "id": "gqNpDGm_JnFk"
      },
      "source": [
        "### Prepare the dataset"
      ]
    },
    {
      "cell_type": "code",
      "metadata": {
        "id": "V71yg83t6Tlt"
      },
      "source": [
        "class SongLyrics(Dataset):\n",
        "    \n",
        "    def __init__(self,input, control_code, truncate=False, gpt2_type=\"gpt2\", max_length=1024):\n",
        "\n",
        "        self.tokenizer = GPT2Tokenizer.from_pretrained(gpt2_type)\n",
        "        self.lyrics = []\n",
        "\n",
        "        for row in input:\n",
        "          self.lyrics.append(torch.tensor(\n",
        "                self.tokenizer.encode(f\"<|{control_code}|>{row}<|endoftext|>\")\n",
        "            ))\n",
        "                \n",
        "        if truncate:\n",
        "            self.lyrics = self.lyrics[:20000]\n",
        "        self.lyrics_count = len(self.lyrics)\n",
        "        \n",
        "    def __len__(self):\n",
        "        return self.lyrics_count\n",
        "\n",
        "    def __getitem__(self, item):\n",
        "        return self.lyrics[item]"
      ],
      "execution_count": null,
      "outputs": []
    },
    {
      "cell_type": "code",
      "metadata": {
        "id": "wauU2WYi92dp",
        "colab": {
          "base_uri": "https://localhost:8080/",
          "height": 113,
          "referenced_widgets": [
            "43efe38fb7954210a1046156e142f9cd",
            "c04a424062474e90b4325991e1d39ab9",
            "0646a9e4bea34d1485b9f15aae491fab",
            "7b2fe8f1d5274af58fb9bd81ed147a97",
            "1c59a080323a4996a677a32872f2354e",
            "c19e56d095354fb1bf647d32eb082c11",
            "bba44b7e8e64446ab79000b77fbd5c72",
            "4cf38c40570948a1875d638b2b039cfc",
            "5a8be7917138472fbfd1cf0832b2f394",
            "2ff3b05eafd84bb6ba32fa8d5e64bf4e",
            "4e846ff65f5444728ae175b4ce456d40",
            "31fceb78155d4aa3977226f8fcbff4cf",
            "4a60c82eb5b841c29f3aa10eb3555479",
            "b638562a7c4f43f7ac896eb5ddf33158",
            "1db4d43eceb3428a843c96c0e0531199",
            "393b070933aa4193bac4653f9e2505f3",
            "859586fe870b454ca4c7683947e10e15",
            "cf223ec088b24f4da9ace81552bb2281",
            "d8638e37d258416188ce800bdb5a61e8",
            "69bc4bd25a25467287df5ce782fbb373",
            "35e701bb09264ac3bfdc1d975746de1a",
            "6777104d0b1c44a4a9c7e3b9523e49ab",
            "40babca3446e45109e41470cb884699f",
            "3da23ede0b9547ad8e539f8c8ec7c10b",
            "1217dcf40a564a40b16aff77673781e7",
            "1b6f469219a24be5a3ae1650e1c14c8e",
            "7675ce8bb42e413e9a03432ae707bfd2",
            "602545f4b1b84a3ca51171d9037f771f",
            "dd5a6c90e6d247d39d0df69b25655759",
            "22fce9663b95406d95c6d2fe9f2f613b",
            "d5b725adda9d4c58858768f4444b14ef",
            "0be925c7fa404957b0ba6c3ea3b0214a",
            "e3a9a045009349f1b389d661b6dbb9c9"
          ]
        },
        "outputId": "a91f0416-1b82-4e85-a23c-469f0b1e1335"
      },
      "source": [
        "train_dataset_tensor = SongLyrics(train_dataset_text,start_seq, truncate=True, gpt2_type=\"gpt2\")\n",
        "eval_dataset_tensor = SongLyrics(eval_dataset_text,start_seq, truncate=True, gpt2_type=\"gpt2\")"
      ],
      "execution_count": null,
      "outputs": [
        {
          "output_type": "display_data",
          "data": {
            "text/plain": [
              "Downloading:   0%|          | 0.00/0.99M [00:00<?, ?B/s]"
            ],
            "application/vnd.jupyter.widget-view+json": {
              "version_major": 2,
              "version_minor": 0,
              "model_id": "43efe38fb7954210a1046156e142f9cd"
            }
          },
          "metadata": {}
        },
        {
          "output_type": "display_data",
          "data": {
            "text/plain": [
              "Downloading:   0%|          | 0.00/446k [00:00<?, ?B/s]"
            ],
            "application/vnd.jupyter.widget-view+json": {
              "version_major": 2,
              "version_minor": 0,
              "model_id": "31fceb78155d4aa3977226f8fcbff4cf"
            }
          },
          "metadata": {}
        },
        {
          "output_type": "display_data",
          "data": {
            "text/plain": [
              "Downloading:   0%|          | 0.00/665 [00:00<?, ?B/s]"
            ],
            "application/vnd.jupyter.widget-view+json": {
              "version_major": 2,
              "version_minor": 0,
              "model_id": "40babca3446e45109e41470cb884699f"
            }
          },
          "metadata": {}
        }
      ]
    },
    {
      "cell_type": "code",
      "source": [
        "print(str(len(train_dataset_tensor)))\n",
        "print(str(len(eval_dataset_tensor)))"
      ],
      "metadata": {
        "colab": {
          "base_uri": "https://localhost:8080/"
        },
        "id": "QOK-hMUyZHfu",
        "outputId": "e31b5db5-7fcd-4741-86c0-a5942d8e9f1c"
      },
      "execution_count": null,
      "outputs": [
        {
          "output_type": "stream",
          "name": "stdout",
          "text": [
            "20000\n",
            "18709\n"
          ]
        }
      ]
    },
    {
      "cell_type": "code",
      "source": [
        "train_dataset_tensor.lyrics[0]"
      ],
      "metadata": {
        "colab": {
          "base_uri": "https://localhost:8080/"
        },
        "id": "SYk5sSARd3Cp",
        "outputId": "05745858-2de2-420e-9c04-e8502b870281"
      },
      "execution_count": null,
      "outputs": [
        {
          "output_type": "execute_result",
          "data": {
            "text/plain": [
              "tensor([   27,    91,    27,    91,  9688,    91,    29,    91,    29, 19452,\n",
              "          783,    11,   329,   345,  1053,   587,  3750,  1165,   890, 50256])"
            ]
          },
          "metadata": {},
          "execution_count": 12
        }
      ]
    },
    {
      "cell_type": "code",
      "source": [
        "train_dataset_text[0]"
      ],
      "metadata": {
        "colab": {
          "base_uri": "https://localhost:8080/",
          "height": 35
        },
        "id": "8Tb8PDNUZ7eA",
        "outputId": "aaff9fe2-766b-4912-9291-9d22fac37287"
      },
      "execution_count": null,
      "outputs": [
        {
          "output_type": "execute_result",
          "data": {
            "text/plain": [
              "\"Rest now, for you've been gone too long\""
            ],
            "application/vnd.google.colaboratory.intrinsic+json": {
              "type": "string"
            }
          },
          "metadata": {},
          "execution_count": 13
        }
      ]
    },
    {
      "cell_type": "code",
      "source": [
        "len(train_dataset_text)"
      ],
      "metadata": {
        "colab": {
          "base_uri": "https://localhost:8080/"
        },
        "id": "FQRRn7CSaCxR",
        "outputId": "c6a03407-8a4c-4383-d28f-bf77924f6d31"
      },
      "execution_count": null,
      "outputs": [
        {
          "output_type": "execute_result",
          "data": {
            "text/plain": [
              "168379"
            ]
          },
          "metadata": {},
          "execution_count": 14
        }
      ]
    },
    {
      "cell_type": "code",
      "source": [
        "train_dataset_tensor[0]"
      ],
      "metadata": {
        "colab": {
          "base_uri": "https://localhost:8080/"
        },
        "id": "DhVEgWbJZ4-p",
        "outputId": "e12ddf9e-a3ce-4169-cdcb-fb3c998110d6"
      },
      "execution_count": null,
      "outputs": [
        {
          "output_type": "execute_result",
          "data": {
            "text/plain": [
              "tensor([   27,    91,    27,    91,  9688,    91,    29,    91,    29, 19452,\n",
              "          783,    11,   329,   345,  1053,   587,  3750,  1165,   890, 50256])"
            ]
          },
          "metadata": {},
          "execution_count": 15
        }
      ]
    },
    {
      "cell_type": "code",
      "source": [
        "len(train_dataset_tensor)"
      ],
      "metadata": {
        "colab": {
          "base_uri": "https://localhost:8080/"
        },
        "id": "-cxH1UGnaFlR",
        "outputId": "28cdb901-e9cb-4808-fd04-d0ca5566231e"
      },
      "execution_count": null,
      "outputs": [
        {
          "output_type": "execute_result",
          "data": {
            "text/plain": [
              "20000"
            ]
          },
          "metadata": {},
          "execution_count": 16
        }
      ]
    },
    {
      "cell_type": "markdown",
      "metadata": {
        "id": "MwIRpL_5MnIY"
      },
      "source": [
        "### Prepare training"
      ]
    },
    {
      "cell_type": "code",
      "metadata": {
        "id": "3fPgwmaNFTib",
        "colab": {
          "base_uri": "https://localhost:8080/",
          "height": 49,
          "referenced_widgets": [
            "c93023d6c1f0459ebad51d377e017b70",
            "00f35ca59b014e3bb6dcdc085f40c258",
            "2d10bfcd0b974375a89a6431fa9e59a8",
            "5617ad274c674abd859dd2cbc37dcef3",
            "b3833f0a90d046df9c364c323adc05d6",
            "414ca29fe9e241c095e732a39c7381e9",
            "793bf455d31847898d85272f43468315",
            "0f62b433f04d4bb0912c35871e360bb4",
            "d74b86e1a3be41e880635bab205387a6",
            "ae4664f8de5841928afc2eb22601482f",
            "038119f7b0684e14aba1796ea29dbe0c"
          ]
        },
        "outputId": "be0caf28-6ebc-4e9b-8f7a-9212038680ae"
      },
      "source": [
        "tokenizer = GPT2Tokenizer.from_pretrained('gpt2')\n",
        "model = GPT2LMHeadModel.from_pretrained('gpt2')"
      ],
      "execution_count": null,
      "outputs": [
        {
          "output_type": "display_data",
          "data": {
            "text/plain": [
              "Downloading:   0%|          | 0.00/523M [00:00<?, ?B/s]"
            ],
            "application/vnd.jupyter.widget-view+json": {
              "version_major": 2,
              "version_minor": 0,
              "model_id": "c93023d6c1f0459ebad51d377e017b70"
            }
          },
          "metadata": {}
        }
      ]
    },
    {
      "cell_type": "code",
      "metadata": {
        "id": "Maf_wuBuJl2n"
      },
      "source": [
        "#Accumulated batch size (since GPT2 is so big)\n",
        "def pack_tensor(new_tensor, packed_tensor, max_seq_len):\n",
        "    if packed_tensor is None:\n",
        "        return new_tensor, True, None\n",
        "    if new_tensor.size()[1] + packed_tensor.size()[1] > max_seq_len:\n",
        "        return packed_tensor, False, new_tensor\n",
        "    else:\n",
        "        packed_tensor = torch.cat([new_tensor, packed_tensor[:, 1:]], dim=1)\n",
        "        return packed_tensor, True, None"
      ],
      "execution_count": null,
      "outputs": []
    },
    {
      "cell_type": "code",
      "metadata": {
        "id": "65ZWYy8EJl0D"
      },
      "source": [
        "def train(\n",
        "    dataset, model, tokenizer,\n",
        "    batch_size=16, epochs=20, lr=2e-5,\n",
        "    max_seq_len=400, warmup_steps=200,\n",
        "    gpt2_type=\"gpt2\", output_dir=\".\", output_prefix=\"wreckgar\",\n",
        "    test_mode=False,save_model_on_epoch=False,\n",
        "):\n",
        "\n",
        "    acc_steps = 100\n",
        "    device=torch.device(\"cuda\")\n",
        "    model = model.cuda()\n",
        "    model.train()\n",
        "\n",
        "    optimizer = AdamW(model.parameters(), lr=lr)\n",
        "    scheduler = get_linear_schedule_with_warmup(\n",
        "        optimizer, num_warmup_steps=warmup_steps, num_training_steps=-1\n",
        "    )\n",
        "\n",
        "    train_dataloader = DataLoader(dataset, batch_size=1, shuffle=True)\n",
        "    loss=0\n",
        "    accumulating_batch_count = 0\n",
        "    input_tensor = None\n",
        "\n",
        "    for epoch in range(epochs):\n",
        "\n",
        "        print(f\"Training epoch {epoch}\")\n",
        "        print(loss)\n",
        "        for idx, entry in tqdm(enumerate(train_dataloader)):\n",
        "            (input_tensor, carry_on, remainder) = pack_tensor(entry, input_tensor, 768)\n",
        "\n",
        "            if carry_on and idx != len(train_dataloader) - 1:\n",
        "                continue\n",
        "\n",
        "            input_tensor = input_tensor.to(device)\n",
        "            outputs = model(input_tensor, labels=input_tensor)\n",
        "            loss = outputs[0]\n",
        "            loss.backward()\n",
        "\n",
        "            if (accumulating_batch_count % batch_size) == 0:\n",
        "                optimizer.step()\n",
        "                scheduler.step()\n",
        "                optimizer.zero_grad()\n",
        "                model.zero_grad()\n",
        "\n",
        "            accumulating_batch_count += 1\n",
        "            input_tensor = None\n",
        "        if save_model_on_epoch:\n",
        "            torch.save(\n",
        "                model.state_dict(),\n",
        "                os.path.join(output_dir, f\"{output_prefix}-{epoch}.pt\"),\n",
        "            )\n",
        "    return model"
      ],
      "execution_count": null,
      "outputs": []
    },
    {
      "cell_type": "markdown",
      "metadata": {
        "id": "LIXXMDBONZtR"
      },
      "source": [
        "### Actual Training"
      ]
    },
    {
      "cell_type": "code",
      "metadata": {
        "colab": {
          "base_uri": "https://localhost:8080/"
        },
        "id": "qY7dh37IvscH",
        "outputId": "a4cb2c3a-9525-4403-b91b-86fa92e4e969"
      },
      "source": [
        "#Train the model on the specific data we have\n",
        "model = train(train_dataset_tensor, model, tokenizer)"
      ],
      "execution_count": null,
      "outputs": [
        {
          "output_type": "stream",
          "name": "stderr",
          "text": [
            "/usr/local/lib/python3.7/dist-packages/transformers/optimization.py:309: FutureWarning: This implementation of AdamW is deprecated and will be removed in a future version. Use the PyTorch implementation torch.optim.AdamW instead, or set `no_deprecation_warning=True` to disable this warning\n",
            "  FutureWarning,\n"
          ]
        },
        {
          "output_type": "stream",
          "name": "stdout",
          "text": [
            "Training epoch 0\n",
            "0\n"
          ]
        },
        {
          "output_type": "stream",
          "name": "stderr",
          "text": [
            "20000it [03:43, 89.33it/s]\n"
          ]
        },
        {
          "output_type": "stream",
          "name": "stdout",
          "text": [
            "Training epoch 1\n",
            "tensor(4.4031, device='cuda:0', grad_fn=<NllLossBackward0>)\n"
          ]
        },
        {
          "output_type": "stream",
          "name": "stderr",
          "text": [
            "20000it [03:43, 89.57it/s]\n"
          ]
        },
        {
          "output_type": "stream",
          "name": "stdout",
          "text": [
            "Training epoch 2\n",
            "tensor(3.9786, device='cuda:0', grad_fn=<NllLossBackward0>)\n"
          ]
        },
        {
          "output_type": "stream",
          "name": "stderr",
          "text": [
            "20000it [03:43, 89.66it/s]\n"
          ]
        },
        {
          "output_type": "stream",
          "name": "stdout",
          "text": [
            "Training epoch 3\n",
            "tensor(4.2289, device='cuda:0', grad_fn=<NllLossBackward0>)\n"
          ]
        },
        {
          "output_type": "stream",
          "name": "stderr",
          "text": [
            "20000it [03:42, 89.81it/s]\n"
          ]
        },
        {
          "output_type": "stream",
          "name": "stdout",
          "text": [
            "Training epoch 4\n",
            "tensor(2.6089, device='cuda:0', grad_fn=<NllLossBackward0>)\n"
          ]
        },
        {
          "output_type": "stream",
          "name": "stderr",
          "text": [
            "20000it [03:42, 90.00it/s]\n"
          ]
        },
        {
          "output_type": "stream",
          "name": "stdout",
          "text": [
            "Training epoch 5\n",
            "tensor(2.8141, device='cuda:0', grad_fn=<NllLossBackward0>)\n"
          ]
        },
        {
          "output_type": "stream",
          "name": "stderr",
          "text": [
            "20000it [03:43, 89.38it/s]\n"
          ]
        },
        {
          "output_type": "stream",
          "name": "stdout",
          "text": [
            "Training epoch 6\n",
            "tensor(1.9432, device='cuda:0', grad_fn=<NllLossBackward0>)\n"
          ]
        },
        {
          "output_type": "stream",
          "name": "stderr",
          "text": [
            "20000it [03:43, 89.48it/s]\n"
          ]
        },
        {
          "output_type": "stream",
          "name": "stdout",
          "text": [
            "Training epoch 7\n",
            "tensor(2.3661, device='cuda:0', grad_fn=<NllLossBackward0>)\n"
          ]
        },
        {
          "output_type": "stream",
          "name": "stderr",
          "text": [
            "20000it [03:44, 89.25it/s]\n"
          ]
        },
        {
          "output_type": "stream",
          "name": "stdout",
          "text": [
            "Training epoch 8\n",
            "tensor(2.2047, device='cuda:0', grad_fn=<NllLossBackward0>)\n"
          ]
        },
        {
          "output_type": "stream",
          "name": "stderr",
          "text": [
            "20000it [03:43, 89.46it/s]\n"
          ]
        },
        {
          "output_type": "stream",
          "name": "stdout",
          "text": [
            "Training epoch 9\n",
            "tensor(2.2315, device='cuda:0', grad_fn=<NllLossBackward0>)\n"
          ]
        },
        {
          "output_type": "stream",
          "name": "stderr",
          "text": [
            "20000it [03:43, 89.43it/s]\n"
          ]
        },
        {
          "output_type": "stream",
          "name": "stdout",
          "text": [
            "Training epoch 10\n",
            "tensor(2.2828, device='cuda:0', grad_fn=<NllLossBackward0>)\n"
          ]
        },
        {
          "output_type": "stream",
          "name": "stderr",
          "text": [
            "20000it [03:43, 89.33it/s]\n"
          ]
        },
        {
          "output_type": "stream",
          "name": "stdout",
          "text": [
            "Training epoch 11\n",
            "tensor(2.5464, device='cuda:0', grad_fn=<NllLossBackward0>)\n"
          ]
        },
        {
          "output_type": "stream",
          "name": "stderr",
          "text": [
            "20000it [03:43, 89.39it/s]\n"
          ]
        },
        {
          "output_type": "stream",
          "name": "stdout",
          "text": [
            "Training epoch 12\n",
            "tensor(2.1623, device='cuda:0', grad_fn=<NllLossBackward0>)\n"
          ]
        },
        {
          "output_type": "stream",
          "name": "stderr",
          "text": [
            "20000it [03:43, 89.56it/s]\n"
          ]
        },
        {
          "output_type": "stream",
          "name": "stdout",
          "text": [
            "Training epoch 13\n",
            "tensor(2.3289, device='cuda:0', grad_fn=<NllLossBackward0>)\n"
          ]
        },
        {
          "output_type": "stream",
          "name": "stderr",
          "text": [
            "20000it [03:43, 89.31it/s]\n"
          ]
        },
        {
          "output_type": "stream",
          "name": "stdout",
          "text": [
            "Training epoch 14\n",
            "tensor(2.3070, device='cuda:0', grad_fn=<NllLossBackward0>)\n"
          ]
        },
        {
          "output_type": "stream",
          "name": "stderr",
          "text": [
            "20000it [03:43, 89.40it/s]\n"
          ]
        },
        {
          "output_type": "stream",
          "name": "stdout",
          "text": [
            "Training epoch 15\n",
            "tensor(2.3964, device='cuda:0', grad_fn=<NllLossBackward0>)\n"
          ]
        },
        {
          "output_type": "stream",
          "name": "stderr",
          "text": [
            "20000it [03:44, 89.25it/s]\n"
          ]
        },
        {
          "output_type": "stream",
          "name": "stdout",
          "text": [
            "Training epoch 16\n",
            "tensor(2.4612, device='cuda:0', grad_fn=<NllLossBackward0>)\n"
          ]
        },
        {
          "output_type": "stream",
          "name": "stderr",
          "text": [
            "20000it [03:44, 89.23it/s]\n"
          ]
        },
        {
          "output_type": "stream",
          "name": "stdout",
          "text": [
            "Training epoch 17\n",
            "tensor(2.0277, device='cuda:0', grad_fn=<NllLossBackward0>)\n"
          ]
        },
        {
          "output_type": "stream",
          "name": "stderr",
          "text": [
            "20000it [03:43, 89.41it/s]\n"
          ]
        },
        {
          "output_type": "stream",
          "name": "stdout",
          "text": [
            "Training epoch 18\n",
            "tensor(2.4080, device='cuda:0', grad_fn=<NllLossBackward0>)\n"
          ]
        },
        {
          "output_type": "stream",
          "name": "stderr",
          "text": [
            "20000it [03:43, 89.55it/s]\n"
          ]
        },
        {
          "output_type": "stream",
          "name": "stdout",
          "text": [
            "Training epoch 19\n",
            "tensor(2.2435, device='cuda:0', grad_fn=<NllLossBackward0>)\n"
          ]
        },
        {
          "output_type": "stream",
          "name": "stderr",
          "text": [
            "20000it [03:42, 89.80it/s]\n"
          ]
        }
      ]
    },
    {
      "cell_type": "code",
      "metadata": {
        "id": "gvk9JcukKKq1"
      },
      "source": [
        "#Save the model to a pkl or something so it can be reused later on\n",
        "torch.save(model, '/content/drive/MyDrive/Colab Notebooks/Deep learning assignments/Assignment-3/gptmodel.pt')"
      ],
      "execution_count": null,
      "outputs": []
    },
    {
      "cell_type": "markdown",
      "metadata": {
        "id": "9BlNPVfXPNQf"
      },
      "source": [
        "### Text generation"
      ]
    },
    {
      "cell_type": "code",
      "metadata": {
        "id": "GI3VOzbVUN7v"
      },
      "source": [
        "#Load the model to use it\n",
        "model = torch.load('/content/drive/MyDrive/Colab Notebooks/Deep learning assignments/Assignment-3/gptmodel.pt')"
      ],
      "execution_count": null,
      "outputs": []
    },
    {
      "cell_type": "code",
      "metadata": {
        "id": "MQUN1Da2JluS"
      },
      "source": [
        "def generate(model,tokenizer,prompt,entry_count=10,entry_length=100, top_p=0.8,temperature=1.,):\n",
        "\n",
        "    model.eval()\n",
        "\n",
        "    generated_num = 0\n",
        "    generated_list = []\n",
        "\n",
        "    filter_value = -float(\"Inf\")\n",
        "\n",
        "    with torch.no_grad():\n",
        "\n",
        "        for entry_idx in trange(entry_count):\n",
        "\n",
        "            entry_finished = False\n",
        "\n",
        "            generated = torch.tensor(tokenizer.encode(prompt)).unsqueeze(0)\n",
        "\n",
        "            for i in range(entry_length):\n",
        "                outputs = model(generated, labels=generated)\n",
        "                loss, logits = outputs[:2]\n",
        "                logits = logits[:, -1, :] / (temperature if temperature > 0 else 1.0)\n",
        "\n",
        "                sorted_logits, sorted_indices = torch.sort(logits, descending=True)\n",
        "                cumulative_probs = torch.cumsum(F.softmax(sorted_logits, dim=-1), dim=-1)\n",
        "\n",
        "                sorted_indices_to_remove = cumulative_probs > top_p\n",
        "                sorted_indices_to_remove[..., 1:] = sorted_indices_to_remove[\n",
        "                    ..., :-1\n",
        "                ].clone()\n",
        "                sorted_indices_to_remove[..., 0] = 0\n",
        "\n",
        "                indices_to_remove = sorted_indices[sorted_indices_to_remove]\n",
        "                logits[:, indices_to_remove] = filter_value\n",
        "\n",
        "                next_token = torch.multinomial(F.softmax(logits, dim=-1), num_samples=1)\n",
        "                generated = torch.cat((generated, next_token), dim=1)\n",
        "\n",
        "                if next_token in tokenizer.encode(\"<|endoftext|>\"):\n",
        "                    entry_finished = True\n",
        "\n",
        "                if entry_finished:\n",
        "\n",
        "                    generated_num = generated_num + 1\n",
        "\n",
        "                    output_list = list(generated.squeeze().numpy())\n",
        "                    output_text = tokenizer.decode(output_list)\n",
        "                    generated_list.append(output_text)\n",
        "                    break\n",
        "            \n",
        "            if not entry_finished:\n",
        "              output_list = list(generated.squeeze().numpy())\n",
        "              output_text = f\"{tokenizer.decode(output_list)}<|endoftext|>\" \n",
        "              generated_list.append(output_text)\n",
        "                \n",
        "    return generated_list"
      ],
      "execution_count": null,
      "outputs": []
    },
    {
      "cell_type": "code",
      "source": [
        "generate(model.to('cpu'), tokenizer, \"I love deep learning\", entry_count=1)"
      ],
      "metadata": {
        "colab": {
          "base_uri": "https://localhost:8080/"
        },
        "id": "YTtwhAEtMEUB",
        "outputId": "87d7b16b-ed4f-4785-b53d-2eb0fd3c5e70"
      },
      "execution_count": null,
      "outputs": [
        {
          "output_type": "stream",
          "name": "stderr",
          "text": [
            "100%|██████████| 1/1 [00:14<00:00, 14.30s/it]\n"
          ]
        },
        {
          "output_type": "execute_result",
          "data": {
            "text/plain": [
              "['I love deep learning so much I\\'ll take you on with it.\"\\n\\n\\nStacey: \"It\\'s my family\\'s call in Chicago, my mom and my mom, and now I\\'m talking about me living and that you got to go with us? That you want to go home?\"<|endoftext|>']"
            ]
          },
          "metadata": {},
          "execution_count": 27
        }
      ]
    },
    {
      "cell_type": "code",
      "metadata": {
        "id": "5usWIXOKKxij"
      },
      "source": [
        "#Function to generate multiple sentences. Test data should be a dataframe\n",
        "def text_generation(test_data):\n",
        "  generated_lyrics = []\n",
        "  for i in range(len(test_data)):\n",
        "    x = generate(model.to('cpu'), tokenizer, test_data['Lyric'][i], entry_count=1)\n",
        "    generated_lyrics.append(x)\n",
        "  return generated_lyrics"
      ],
      "execution_count": null,
      "outputs": []
    },
    {
      "cell_type": "code",
      "metadata": {
        "id": "OR4XumaWMx9d"
      },
      "source": [
        "generated_lyrics = text_generation(test_set)"
      ],
      "execution_count": null,
      "outputs": []
    },
    {
      "cell_type": "code",
      "metadata": {
        "id": "LJY4jjNGGHVk"
      },
      "source": [
        "#Loop to keep only generated text and add it as a new column in the dataframe\n",
        "my_generations=[]\n",
        "\n",
        "for i in range(len(generated_lyrics)):\n",
        "  a = test_set['Lyric'][i].split()[-30:] #Get the matching string we want (30 words)\n",
        "  b = ' '.join(a)\n",
        "  c = ' '.join(generated_lyrics[i]) #Get all that comes after the matching string\n",
        "  my_generations.append(c.split(b)[-1])\n",
        "\n",
        "test_set['Generated_lyrics'] = my_generations"
      ],
      "execution_count": null,
      "outputs": []
    },
    {
      "cell_type": "code",
      "metadata": {
        "colab": {
          "base_uri": "https://localhost:8080/",
          "height": 279
        },
        "id": "HH53eDl6tnyf",
        "outputId": "4cc53049-fdb3-41cf-b73f-2ccfe37e7ff7"
      },
      "source": [
        "#Finish the sentences when there is a point, remove after that\n",
        "final=[]\n",
        "\n",
        "for i in range(len(test_set)):\n",
        "  to_remove = test_set['Generated_lyrics'][i].split('.')[-1]\n",
        "  final.append(test_set['Generated_lyrics'][i].replace(to_remove,''))\n",
        "\n",
        "test_set['Generated_lyrics'] = final\n",
        "test_set.head()"
      ],
      "execution_count": null,
      "outputs": [
        {
          "output_type": "execute_result",
          "data": {
            "text/html": [
              "<div>\n",
              "<style scoped>\n",
              "    .dataframe tbody tr th:only-of-type {\n",
              "        vertical-align: middle;\n",
              "    }\n",
              "\n",
              "    .dataframe tbody tr th {\n",
              "        vertical-align: top;\n",
              "    }\n",
              "\n",
              "    .dataframe thead th {\n",
              "        text-align: right;\n",
              "    }\n",
              "</style>\n",
              "<table border=\"1\" class=\"dataframe\">\n",
              "  <thead>\n",
              "    <tr style=\"text-align: right;\">\n",
              "      <th></th>\n",
              "      <th>index</th>\n",
              "      <th>SName</th>\n",
              "      <th>Lyric</th>\n",
              "      <th>Artist</th>\n",
              "      <th>Genre</th>\n",
              "      <th>True_end_lyrics</th>\n",
              "      <th>Generated_lyrics</th>\n",
              "    </tr>\n",
              "  </thead>\n",
              "  <tbody>\n",
              "    <tr>\n",
              "      <th>0</th>\n",
              "      <td>2834</td>\n",
              "      <td>Don't Bring Me Down</td>\n",
              "      <td>Hm hm hm. Hm hm hm. I'm on my own, nowhere to ...</td>\n",
              "      <td>David Bowie</td>\n",
              "      <td>Rock</td>\n",
              "      <td>me down. Until then I'll settle down. Say I'll...</td>\n",
              "      <td>me down. I want to see your face. I want to s...</td>\n",
              "    </tr>\n",
              "    <tr>\n",
              "      <th>1</th>\n",
              "      <td>6725</td>\n",
              "      <td>Flight</td>\n",
              "      <td>I've lost my balance. I fell from the trapeze....</td>\n",
              "      <td>Lifehouse</td>\n",
              "      <td>Rock</td>\n",
              "      <td>more falling). (No more striving). Only flying...</td>\n",
              "      <td>more falling). No more striving. No more hear...</td>\n",
              "    </tr>\n",
              "    <tr>\n",
              "      <th>2</th>\n",
              "      <td>7233</td>\n",
              "      <td>Black And Gold</td>\n",
              "      <td>If the fish swam out of the ocean. and grew le...</td>\n",
              "      <td>Lulu Santos</td>\n",
              "      <td>Rock</td>\n",
              "      <td>matter. 'cause if you're not really here. then...</td>\n",
              "      <td>magic words. 'cause if you're not real here. ...</td>\n",
              "    </tr>\n",
              "    <tr>\n",
              "      <th>3</th>\n",
              "      <td>2525</td>\n",
              "      <td>Hear My Train A Comin</td>\n",
              "      <td>\"YEAH, I SEE WE GOT A FEW FRIENDS LAYIN' ROUND...</td>\n",
              "      <td>Cássia Eller</td>\n",
              "      <td>Rock</td>\n",
              "      <td>YOU VERY MUCH THANK YOU VERY MUCH. THANX A LOT...</td>\n",
              "      <td>S TO YOU. YES, YES, YES. YES. YES, YES.</td>\n",
              "    </tr>\n",
              "    <tr>\n",
              "      <th>4</th>\n",
              "      <td>1778</td>\n",
              "      <td>The Hills Of Mexico</td>\n",
              "      <td>'Twas in the town of griffin. In the year of s...</td>\n",
              "      <td>Bob Dylan</td>\n",
              "      <td>Rock</td>\n",
              "      <td>the cattle run. I tread towards the hiding pla...</td>\n",
              "      <td>a horrid start. Struck my wagon, but couldn't...</td>\n",
              "    </tr>\n",
              "  </tbody>\n",
              "</table>\n",
              "</div>"
            ],
            "text/plain": [
              "   index  ...                                   Generated_lyrics\n",
              "0   2834  ...   me down. I want to see your face. I want to s...\n",
              "1   6725  ...   more falling). No more striving. No more hear...\n",
              "2   7233  ...   magic words. 'cause if you're not real here. ...\n",
              "3   2525  ...            S TO YOU. YES, YES, YES. YES. YES, YES.\n",
              "4   1778  ...   a horrid start. Struck my wagon, but couldn't...\n",
              "\n",
              "[5 rows x 7 columns]"
            ]
          },
          "metadata": {
            "tags": []
          },
          "execution_count": 44
        }
      ]
    },
    {
      "cell_type": "code",
      "metadata": {
        "colab": {
          "base_uri": "https://localhost:8080/",
          "height": 35
        },
        "id": "_nd84NvRqoqU",
        "outputId": "d27bf97b-bf43-42a2-ecdb-76ad3a21f34c"
      },
      "source": [
        "test_set['Generated_lyrics'][7]"
      ],
      "execution_count": null,
      "outputs": [
        {
          "output_type": "execute_result",
          "data": {
            "application/vnd.google.colaboratory.intrinsic+json": {
              "type": "string"
            },
            "text/plain": [
              "\" in that. Yes we've heard the great thing. I know what you've heard. You told me we've been promised so much.\""
            ]
          },
          "metadata": {
            "tags": []
          },
          "execution_count": 45
        }
      ]
    },
    {
      "cell_type": "code",
      "metadata": {
        "colab": {
          "base_uri": "https://localhost:8080/",
          "height": 35
        },
        "id": "8_SSPBLkq54G",
        "outputId": "e122c32c-b6e5-4331-fe9d-f57eb5e23ec1"
      },
      "source": [
        "test_set['True_end_lyrics'][7]"
      ],
      "execution_count": null,
      "outputs": [
        {
          "output_type": "execute_result",
          "data": {
            "application/vnd.google.colaboratory.intrinsic+json": {
              "type": "string"
            },
            "text/plain": [
              "\"the. Woman without pride x 5. You don't see things like I do. You don't see things. Like I do.\""
            ]
          },
          "metadata": {
            "tags": []
          },
          "execution_count": 46
        }
      ]
    },
    {
      "cell_type": "markdown",
      "metadata": {
        "id": "obMubE_dPJnV"
      },
      "source": [
        "### Analyze performance"
      ]
    },
    {
      "cell_type": "code",
      "metadata": {
        "id": "MEfAjgyyFnMl",
        "colab": {
          "base_uri": "https://localhost:8080/"
        },
        "outputId": "469cc208-2eae-443c-f4bb-9a54dd43153d"
      },
      "source": [
        "#Using BLEU score to compare the real sentences with the generated ones\n",
        "import statistics\n",
        "from nltk.translate.bleu_score import sentence_bleu\n",
        "\n",
        "scores=[]\n",
        "\n",
        "for i in range(len(test_set)):\n",
        "  reference = test_set['True_end_lyrics'][i]\n",
        "  candidate = test_set['Generated_lyrics'][i]\n",
        "  scores.append(sentence_bleu(reference, candidate))\n",
        "\n",
        "statistics.mean(scores)"
      ],
      "execution_count": null,
      "outputs": [
        {
          "output_type": "stream",
          "text": [
            "/usr/local/lib/python3.7/dist-packages/nltk/translate/bleu_score.py:490: UserWarning: \n",
            "Corpus/Sentence contains 0 counts of 2-gram overlaps.\n",
            "BLEU scores might be undesirable; use SmoothingFunction().\n",
            "  warnings.warn(_msg)\n"
          ],
          "name": "stderr"
        },
        {
          "output_type": "execute_result",
          "data": {
            "text/plain": [
              "0.6848624352005677"
            ]
          },
          "metadata": {
            "tags": []
          },
          "execution_count": 47
        }
      ]
    },
    {
      "cell_type": "code",
      "metadata": {
        "colab": {
          "base_uri": "https://localhost:8080/"
        },
        "id": "UW22zttwk4_E",
        "outputId": "2bb3a102-d6d6-4a79-db9b-3c362e3b8783"
      },
      "source": [
        "#Rouge score\n",
        "from rouge import Rouge\n",
        "rouge=Rouge()\n",
        "\n",
        "rouge.get_scores(test_set['Generated_lyrics'], test_set['True_end_lyrics'], avg=True)"
      ],
      "execution_count": null,
      "outputs": [
        {
          "output_type": "execute_result",
          "data": {
            "text/plain": [
              "{'rouge-1': {'f': 0.33620873608456614,\n",
              "  'p': 0.3805105543072668,\n",
              "  'r': 0.33900000000000013},\n",
              " 'rouge-2': {'f': 0.24573902727265526,\n",
              "  'p': 0.280178576490597,\n",
              "  'r': 0.252700228832952},\n",
              " 'rouge-l': {'f': 0.3756182538370741,\n",
              "  'p': 0.40754447860807824,\n",
              "  'r': 0.39803790370276443}}"
            ]
          },
          "metadata": {
            "tags": []
          },
          "execution_count": 51
        }
      ]
    },
    {
      "cell_type": "markdown",
      "metadata": {
        "id": "xwqC3uW89CCt"
      },
      "source": [
        "# GPT2 without any fine Tuning"
      ]
    },
    {
      "cell_type": "code",
      "metadata": {
        "id": "A2AngZ1O_t5l"
      },
      "source": [
        "import transformers\n",
        "import torch"
      ],
      "execution_count": null,
      "outputs": []
    },
    {
      "cell_type": "code",
      "metadata": {
        "colab": {
          "base_uri": "https://localhost:8080/",
          "height": 261,
          "referenced_widgets": [
            "b0b1c1e99639492d8dbee177dfa1e373",
            "00900368e9f3448e8f62f0055dfd4565",
            "0ac6ff1f0a2e45208723d3f91e3e9a72",
            "b823e3406b0c4158a7620d969f815a52",
            "c628c2f8ada24e18bd10370a1a8427ee",
            "71792893fdd7483c84aabf458f56895f",
            "67dfaeb0f79c4b63a17d1df32b525e76",
            "1c15fa3adac64d2f954557f964705872",
            "01c48061749d469aab8236ebabe588a0",
            "f58872e9939440898d58d821e2337c07",
            "497468625a604663a183e7321b562e9c",
            "88cb9858420b4d1194c75ccd26bd1ae3",
            "1fb84f42d313450bb6db78495bfb1766",
            "6891eda4859f42ef8e104c3dc5401d11",
            "7e9168ef87eb4cd4af1cb69d3c30acb7",
            "3442fb9bf6ad46609ca9eec2fb58d87f",
            "7767f479ee3546fe8dfbcb83cfb5ea64",
            "da3052076d3443838eec59c2399c328e",
            "0156547057924f5fa2e238e0dcf03dda",
            "a5d4ffdf30a440a6a9f0172b093b0235",
            "d68e80eba3eb4a1aae79dc59e38e4389",
            "25f152f41e7f4c94a6e451ab366cc2ea",
            "e5f6f51ab412465d8ee4b0a4c8ecc55d",
            "e23aee46669743e4ba6aecbd28198f71",
            "f406148013e942769df818d3ec373d29",
            "0ffcf36a0aaa47de9928b7a02e1309c6",
            "44600666e96648feb423e8d35360a430",
            "dc043f17258a4d93bd92a0804adf23fc",
            "a8530dd74d8540e3a9ad48623cf336ae",
            "948b1bcee6a248bd98d246f41e08a19d",
            "f3a9d9169d3347f9b3a40dbcc6512c4e",
            "99db0d93939b4ecaa50df5317b80172e",
            "3e78ecdeb3664837a41a6e259c66cb32",
            "770e91cd3a634c6db1042babe4b3a755",
            "d5c95a04e19c4c5c9b73ba5060a5f7c2",
            "308dc3b23fbf4d3396f52d530684759b",
            "cdbe30522f5b4bac93772a2490e16167",
            "52890b2f3b154a6ea93b5d95b07bb952",
            "5b41721d287f4838aba338d2a38eea01",
            "4246abb63e034703935dfc57ab72ecec"
          ]
        },
        "id": "CEERhAir_yC4",
        "outputId": "4f35f2e7-4123-4335-e05c-088b71a7fc62"
      },
      "source": [
        "tokenizer = transformers.GPT2Tokenizer.from_pretrained('gpt2')\n",
        "model = transformers.GPT2LMHeadModel.from_pretrained('gpt2')"
      ],
      "execution_count": null,
      "outputs": [
        {
          "output_type": "display_data",
          "data": {
            "application/vnd.jupyter.widget-view+json": {
              "model_id": "b0b1c1e99639492d8dbee177dfa1e373",
              "version_minor": 0,
              "version_major": 2
            },
            "text/plain": [
              "HBox(children=(FloatProgress(value=0.0, description='Downloading', max=1042301.0, style=ProgressStyle(descript…"
            ]
          },
          "metadata": {
            "tags": []
          }
        },
        {
          "output_type": "stream",
          "text": [
            "\n"
          ],
          "name": "stdout"
        },
        {
          "output_type": "display_data",
          "data": {
            "application/vnd.jupyter.widget-view+json": {
              "model_id": "01c48061749d469aab8236ebabe588a0",
              "version_minor": 0,
              "version_major": 2
            },
            "text/plain": [
              "HBox(children=(FloatProgress(value=0.0, description='Downloading', max=456318.0, style=ProgressStyle(descripti…"
            ]
          },
          "metadata": {
            "tags": []
          }
        },
        {
          "output_type": "stream",
          "text": [
            "\n"
          ],
          "name": "stdout"
        },
        {
          "output_type": "display_data",
          "data": {
            "application/vnd.jupyter.widget-view+json": {
              "model_id": "7767f479ee3546fe8dfbcb83cfb5ea64",
              "version_minor": 0,
              "version_major": 2
            },
            "text/plain": [
              "HBox(children=(FloatProgress(value=0.0, description='Downloading', max=1355256.0, style=ProgressStyle(descript…"
            ]
          },
          "metadata": {
            "tags": []
          }
        },
        {
          "output_type": "stream",
          "text": [
            "\n"
          ],
          "name": "stdout"
        },
        {
          "output_type": "display_data",
          "data": {
            "application/vnd.jupyter.widget-view+json": {
              "model_id": "f406148013e942769df818d3ec373d29",
              "version_minor": 0,
              "version_major": 2
            },
            "text/plain": [
              "HBox(children=(FloatProgress(value=0.0, description='Downloading', max=665.0, style=ProgressStyle(description_…"
            ]
          },
          "metadata": {
            "tags": []
          }
        },
        {
          "output_type": "stream",
          "text": [
            "\n"
          ],
          "name": "stdout"
        },
        {
          "output_type": "display_data",
          "data": {
            "application/vnd.jupyter.widget-view+json": {
              "model_id": "3e78ecdeb3664837a41a6e259c66cb32",
              "version_minor": 0,
              "version_major": 2
            },
            "text/plain": [
              "HBox(children=(FloatProgress(value=0.0, description='Downloading', max=548118077.0, style=ProgressStyle(descri…"
            ]
          },
          "metadata": {
            "tags": []
          }
        },
        {
          "output_type": "stream",
          "text": [
            "\n"
          ],
          "name": "stdout"
        }
      ]
    },
    {
      "cell_type": "code",
      "metadata": {
        "id": "Yj_awltDA8t-"
      },
      "source": [
        "## Making a function that will generate text for us ##\n",
        "def gen_text(prompt_text, tokenizer, model, n_seqs=1, max_length=374):\n",
        "  # n_seqs is the number of sequences to generate\n",
        "  # max_length is the maximum length of the sequence\n",
        "  encoded_prompt = tokenizer.encode(prompt_text, add_special_tokens=False, return_tensors=\"pt\")\n",
        "  # We are encoding the text using the gpt tokenizer. The return tensors are of type \"pt\"\n",
        "  # since we are using PyTorch, not tensorflow\n",
        "  output_sequences = model.generate(\n",
        "      input_ids=encoded_prompt,\n",
        "      max_length=max_length+len(encoded_prompt), # The model has to generate something, \n",
        "      # so we add the length of the original sequence to max_length\n",
        "      temperature=1.0,\n",
        "      top_k=0,\n",
        "      top_p=0.9,\n",
        "      repetition_penalty=1.2, # To ensure that we dont get repeated phrases\n",
        "      do_sample=True,\n",
        "      num_return_sequences=n_seqs\n",
        "  ) # We feed the encoded input into the model.\n",
        "  ## Getting the output ##\n",
        "  if len(output_sequences.shape) > 2:\n",
        "    output_sequences.squeeze_() # the _ indicates that the operation will be done in-place\n",
        "  generated_sequences = []\n",
        "  for generated_sequence_idx, generated_sequence in enumerate(output_sequences):\n",
        "    generated_sequence = generated_sequence.tolist()\n",
        "    text = tokenizer.decode(generated_sequence)\n",
        "    total_sequence = (\n",
        "        prompt_text + text[len(tokenizer.decode(encoded_prompt[0], clean_up_tokenization_spaces=True, )) :]\n",
        "    )\n",
        "    generated_sequences.append(total_sequence)\n",
        "  return generated_sequences"
      ],
      "execution_count": null,
      "outputs": []
    },
    {
      "cell_type": "code",
      "metadata": {
        "colab": {
          "base_uri": "https://localhost:8080/"
        },
        "id": "pe3frhYgBTJd",
        "outputId": "03b2dd4e-c88b-4cbd-a666-78a74d17da6c"
      },
      "source": [
        "#Generate sequences\n",
        "gen_text(df['Lyric'][0],tokenizer,model)"
      ],
      "execution_count": null,
      "outputs": [
        {
          "output_type": "stream",
          "text": [
            "Setting `pad_token_id` to `eos_token_id`:50256 for open-end generation.\n"
          ],
          "name": "stderr"
        },
        {
          "output_type": "execute_result",
          "data": {
            "text/plain": [
              "['I feel so unsure. As I take your hand and lead to the dance floor. As the music dies, something in your eyes. Calls to mind the silver screen. And all its sad good-byes. I\\'m never gonna dance again. Guilty feet have got no rhythm. Though it\\'s easy to pretend. I know you are not a fool. Should\\'ve known better than to cheat a friend. And waste the chance that I\\'ve been given. So I\\'m never gonna dance again. The way I danced with you. Time can never mend. The careless whispers of a good friend. To the heart and mind. Ignorance is kind. There\\'s no comfort in the truth. Pain is all you\\'ll find. I\\'m never gonna dance again. Guilty feet have got no rhythm. Though it\\'s easy to pretend. I know you are not a fool. Should\\'ve known better than to cheat a friend. And waste this chance that I\\'ve been given. So I\\'m never gonna dance again. The way I danced with you. Never without your love. Tonight the music seems so loud. I wish that we could lose this crowd. Maybe it\\'s better this way. We\\'d hurt each other. with the things we\\'d want to say. We could have been so good together. We could have lived this dance forever. But now who\\'s gonna dance with me. Please stay. And I\\'m never gonna dance again. Guilty feet have got no rhythm. Though it\\'s easy to pretend. I know you\\'re not a fool. Should\\'ve known better than to cheat a friend. And waste the chance that I\\'ve been given. So I\\'m never gonna dance again. The way I danced with you. (now that you\\'re gone) Hey ok make sure.\" [giggles as he stands up]<|endoftext|>']"
            ]
          },
          "metadata": {
            "tags": []
          },
          "execution_count": 18
        }
      ]
    },
    {
      "cell_type": "code",
      "metadata": {
        "id": "xanwpp1Wy9Pr"
      },
      "source": [
        "#Function to generate multiple sentences. Test data should be a dataframe\n",
        "def text_generation(test_data):\n",
        "  generated_lyrics = []\n",
        "  for i in range(len(test_data)):\n",
        "    x = gen_text(test_data['Lyric'][i], tokenizer, model)\n",
        "    generated_lyrics.append(x)\n",
        "  return generated_lyrics\n",
        "\n",
        "generated_lyrics = text_generation(test_set)"
      ],
      "execution_count": null,
      "outputs": []
    },
    {
      "cell_type": "code",
      "metadata": {
        "id": "ghFT5K8NB_WL"
      },
      "source": [
        "#Loop to keep only generated text and add it as a new column in the dataframe\n",
        "my_generations=[]\n",
        "\n",
        "for i in range(len(generated_lyrics)):\n",
        "  a = test_set['Lyric'][i].split()[-30:] #Get the matching string we want (30 words)\n",
        "  b = ' '.join(a)\n",
        "  c = ' '.join(generated_lyrics[i]) #Get all that comes after the matching string\n",
        "  my_generations.append(c.split(b)[-1])\n",
        "\n",
        "test_set['Generated_lyrics'] = my_generations"
      ],
      "execution_count": null,
      "outputs": []
    },
    {
      "cell_type": "code",
      "metadata": {
        "colab": {
          "base_uri": "https://localhost:8080/",
          "height": 279
        },
        "id": "bq6bGQTWCJ8M",
        "outputId": "b0e2047d-5d8d-43ee-e399-09dbc8204f4d"
      },
      "source": [
        "#Finish the sentences when there is a point, remove after that\n",
        "final=[]\n",
        "\n",
        "for i in range(len(test_set)):\n",
        "  to_remove = test_set['Generated_lyrics'][i].split('.')[-1]\n",
        "  final.append(test_set['Generated_lyrics'][i].replace(to_remove,''))\n",
        "\n",
        "test_set['Generated_lyrics'] = final\n",
        "test_set.head()"
      ],
      "execution_count": null,
      "outputs": [
        {
          "output_type": "execute_result",
          "data": {
            "text/html": [
              "<div>\n",
              "<style scoped>\n",
              "    .dataframe tbody tr th:only-of-type {\n",
              "        vertical-align: middle;\n",
              "    }\n",
              "\n",
              "    .dataframe tbody tr th {\n",
              "        vertical-align: top;\n",
              "    }\n",
              "\n",
              "    .dataframe thead th {\n",
              "        text-align: right;\n",
              "    }\n",
              "</style>\n",
              "<table border=\"1\" class=\"dataframe\">\n",
              "  <thead>\n",
              "    <tr style=\"text-align: right;\">\n",
              "      <th></th>\n",
              "      <th>level_0</th>\n",
              "      <th>index</th>\n",
              "      <th>SName</th>\n",
              "      <th>Lyric</th>\n",
              "      <th>Artist</th>\n",
              "      <th>Genre</th>\n",
              "      <th>True_end_lyrics</th>\n",
              "      <th>Generated_lyrics</th>\n",
              "    </tr>\n",
              "  </thead>\n",
              "  <tbody>\n",
              "    <tr>\n",
              "      <th>0</th>\n",
              "      <td>2946</td>\n",
              "      <td>3317</td>\n",
              "      <td>Do the Clam</td>\n",
              "      <td>(Words &amp; music by Wayne - Weisman - Fuller). H...</td>\n",
              "      <td>Elvis Presley</td>\n",
              "      <td>Rock</td>\n",
              "      <td>Grab your barefoot baby by the hand. Turn and ...</td>\n",
              "      <td></td>\n",
              "    </tr>\n",
              "    <tr>\n",
              "      <th>1</th>\n",
              "      <td>12130</td>\n",
              "      <td>13349</td>\n",
              "      <td>Elevation</td>\n",
              "      <td>High, higher than the sun. You shoot me from a...</td>\n",
              "      <td>U2</td>\n",
              "      <td>Rock</td>\n",
              "      <td>in the sky. You make me feel like I can fly. S...</td>\n",
              "      <td>on earth.\\nI start reading monographs about J...</td>\n",
              "    </tr>\n",
              "    <tr>\n",
              "      <th>2</th>\n",
              "      <td>596</td>\n",
              "      <td>640</td>\n",
              "      <td>Professional Torturer</td>\n",
              "      <td>Infatuation. Court well meant. 'Cause I'm the ...</td>\n",
              "      <td>Alanis Morissette</td>\n",
              "      <td>Rock</td>\n",
              "      <td>I renounce my name. Professional torturer. I d...</td>\n",
              "      <td></td>\n",
              "    </tr>\n",
              "    <tr>\n",
              "      <th>3</th>\n",
              "      <td>3733</td>\n",
              "      <td>4116</td>\n",
              "      <td>I Am Yours</td>\n",
              "      <td>I am yours. However distant you may be. There ...</td>\n",
              "      <td>Eric Clapton</td>\n",
              "      <td>Rock</td>\n",
              "      <td>me. Each memory that has left its trace with m...</td>\n",
              "      <td></td>\n",
              "    </tr>\n",
              "    <tr>\n",
              "      <th>4</th>\n",
              "      <td>11961</td>\n",
              "      <td>13175</td>\n",
              "      <td>Bombs Away</td>\n",
              "      <td>The general scratches his belly and thinks. Hi...</td>\n",
              "      <td>The Police</td>\n",
              "      <td>Rock</td>\n",
              "      <td>hard and sweet. A military man would love to m...</td>\n",
              "      <td>straight red hair.</td>\n",
              "    </tr>\n",
              "  </tbody>\n",
              "</table>\n",
              "</div>"
            ],
            "text/plain": [
              "   level_0  ...                                   Generated_lyrics\n",
              "0     2946  ...                                                   \n",
              "1    12130  ...   on earth.\\nI start reading monographs about J...\n",
              "2      596  ...                                                   \n",
              "3     3733  ...                                                   \n",
              "4    11961  ...                                 straight red hair.\n",
              "\n",
              "[5 rows x 8 columns]"
            ]
          },
          "metadata": {
            "tags": []
          },
          "execution_count": 53
        }
      ]
    },
    {
      "cell_type": "code",
      "metadata": {
        "colab": {
          "base_uri": "https://localhost:8080/"
        },
        "id": "2ayyjmc4COS4",
        "outputId": "53fa2df2-6ea1-4ff0-e833-fd4eeed0cf77"
      },
      "source": [
        "#Using BLEU score to compare the real sentences with the generated ones\n",
        "import statistics\n",
        "from nltk.translate.bleu_score import sentence_bleu\n",
        "\n",
        "scores=[]\n",
        "\n",
        "for i in range(len(test_set)):\n",
        "  reference = test_set['True_end_lyrics'][i]\n",
        "  candidate = test_set['Generated_lyrics'][i]\n",
        "  scores.append(sentence_bleu(reference, candidate))\n",
        "\n",
        "statistics.mean(scores)"
      ],
      "execution_count": null,
      "outputs": [
        {
          "output_type": "stream",
          "text": [
            "/usr/local/lib/python3.7/dist-packages/nltk/translate/bleu_score.py:490: UserWarning: \n",
            "Corpus/Sentence contains 0 counts of 2-gram overlaps.\n",
            "BLEU scores might be undesirable; use SmoothingFunction().\n",
            "  warnings.warn(_msg)\n"
          ],
          "name": "stderr"
        },
        {
          "output_type": "execute_result",
          "data": {
            "text/plain": [
              "0.4075527115657135"
            ]
          },
          "metadata": {
            "tags": []
          },
          "execution_count": 45
        }
      ]
    },
    {
      "cell_type": "code",
      "metadata": {
        "colab": {
          "base_uri": "https://localhost:8080/"
        },
        "id": "uXbGFCpzCtaU",
        "outputId": "8f525b2d-406a-4ad4-ce76-8553da6e6af6"
      },
      "source": [
        "!pip install rouge"
      ],
      "execution_count": null,
      "outputs": [
        {
          "output_type": "stream",
          "text": [
            "Collecting rouge\n",
            "  Downloading https://files.pythonhosted.org/packages/43/cc/e18e33be20971ff73a056ebdb023476b5a545e744e3fc22acd8c758f1e0d/rouge-1.0.0-py3-none-any.whl\n",
            "Requirement already satisfied: six in /usr/local/lib/python3.7/dist-packages (from rouge) (1.15.0)\n",
            "Installing collected packages: rouge\n",
            "Successfully installed rouge-1.0.0\n"
          ],
          "name": "stdout"
        }
      ]
    },
    {
      "cell_type": "code",
      "metadata": {
        "id": "Yov84tK8By9U"
      },
      "source": [
        "#Rouge score\n",
        "from rouge import Rouge\n",
        "rouge=Rouge()\n",
        "\n",
        "rouge.get_scores(test_set['Generated_lyrics'], test_set['True_end_lyrics'], avg=True, ignore_empty=True)"
      ],
      "execution_count": null,
      "outputs": []
    }
  ]
}