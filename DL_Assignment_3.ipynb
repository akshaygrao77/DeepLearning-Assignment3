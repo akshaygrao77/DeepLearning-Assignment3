{
  "nbformat": 4,
  "nbformat_minor": 0,
  "metadata": {
    "colab": {
      "name": "DL-Assignment-3.ipynb",
      "provenance": [],
      "authorship_tag": "ABX9TyM46qGSPsIT0Z/pw1YujgR5",
      "include_colab_link": true
    },
    "kernelspec": {
      "name": "python3",
      "display_name": "Python 3"
    },
    "language_info": {
      "name": "python"
    },
    "widgets": {
      "application/vnd.jupyter.widget-state+json": {
        "62a4cf8dd2634b08b2393f65e017fc61": {
          "model_module": "@jupyter-widgets/controls",
          "model_name": "VBoxModel",
          "model_module_version": "1.5.0",
          "state": {
            "_dom_classes": [],
            "_model_module": "@jupyter-widgets/controls",
            "_model_module_version": "1.5.0",
            "_model_name": "VBoxModel",
            "_view_count": null,
            "_view_module": "@jupyter-widgets/controls",
            "_view_module_version": "1.5.0",
            "_view_name": "VBoxView",
            "box_style": "",
            "children": [
              "IPY_MODEL_8b3edb84008b4dc9ae3353ce00695991",
              "IPY_MODEL_76fb7356a3c3471eacfee61f5e0945b3"
            ],
            "layout": "IPY_MODEL_f77c5f78fbfe4a83afa95b8ad67e656f"
          }
        },
        "8b3edb84008b4dc9ae3353ce00695991": {
          "model_module": "@jupyter-widgets/controls",
          "model_name": "LabelModel",
          "model_module_version": "1.5.0",
          "state": {
            "_dom_classes": [],
            "_model_module": "@jupyter-widgets/controls",
            "_model_module_version": "1.5.0",
            "_model_name": "LabelModel",
            "_view_count": null,
            "_view_module": "@jupyter-widgets/controls",
            "_view_module_version": "1.5.0",
            "_view_name": "LabelView",
            "description": "",
            "description_tooltip": null,
            "layout": "IPY_MODEL_be2729b7a111484ebbb4692948627cc4",
            "placeholder": "​",
            "style": "IPY_MODEL_8acac931d1c540aa9b18f8ab25a387b1",
            "value": "1.002 MB of 1.002 MB uploaded (0.000 MB deduped)\r"
          }
        },
        "76fb7356a3c3471eacfee61f5e0945b3": {
          "model_module": "@jupyter-widgets/controls",
          "model_name": "FloatProgressModel",
          "model_module_version": "1.5.0",
          "state": {
            "_dom_classes": [],
            "_model_module": "@jupyter-widgets/controls",
            "_model_module_version": "1.5.0",
            "_model_name": "FloatProgressModel",
            "_view_count": null,
            "_view_module": "@jupyter-widgets/controls",
            "_view_module_version": "1.5.0",
            "_view_name": "ProgressView",
            "bar_style": "",
            "description": "",
            "description_tooltip": null,
            "layout": "IPY_MODEL_292fe831648b4fe28680705f8bb42756",
            "max": 1,
            "min": 0,
            "orientation": "horizontal",
            "style": "IPY_MODEL_c7f2b904107641999851b25b41e91b76",
            "value": 1
          }
        },
        "f77c5f78fbfe4a83afa95b8ad67e656f": {
          "model_module": "@jupyter-widgets/base",
          "model_name": "LayoutModel",
          "model_module_version": "1.2.0",
          "state": {
            "_model_module": "@jupyter-widgets/base",
            "_model_module_version": "1.2.0",
            "_model_name": "LayoutModel",
            "_view_count": null,
            "_view_module": "@jupyter-widgets/base",
            "_view_module_version": "1.2.0",
            "_view_name": "LayoutView",
            "align_content": null,
            "align_items": null,
            "align_self": null,
            "border": null,
            "bottom": null,
            "display": null,
            "flex": null,
            "flex_flow": null,
            "grid_area": null,
            "grid_auto_columns": null,
            "grid_auto_flow": null,
            "grid_auto_rows": null,
            "grid_column": null,
            "grid_gap": null,
            "grid_row": null,
            "grid_template_areas": null,
            "grid_template_columns": null,
            "grid_template_rows": null,
            "height": null,
            "justify_content": null,
            "justify_items": null,
            "left": null,
            "margin": null,
            "max_height": null,
            "max_width": null,
            "min_height": null,
            "min_width": null,
            "object_fit": null,
            "object_position": null,
            "order": null,
            "overflow": null,
            "overflow_x": null,
            "overflow_y": null,
            "padding": null,
            "right": null,
            "top": null,
            "visibility": null,
            "width": null
          }
        },
        "be2729b7a111484ebbb4692948627cc4": {
          "model_module": "@jupyter-widgets/base",
          "model_name": "LayoutModel",
          "model_module_version": "1.2.0",
          "state": {
            "_model_module": "@jupyter-widgets/base",
            "_model_module_version": "1.2.0",
            "_model_name": "LayoutModel",
            "_view_count": null,
            "_view_module": "@jupyter-widgets/base",
            "_view_module_version": "1.2.0",
            "_view_name": "LayoutView",
            "align_content": null,
            "align_items": null,
            "align_self": null,
            "border": null,
            "bottom": null,
            "display": null,
            "flex": null,
            "flex_flow": null,
            "grid_area": null,
            "grid_auto_columns": null,
            "grid_auto_flow": null,
            "grid_auto_rows": null,
            "grid_column": null,
            "grid_gap": null,
            "grid_row": null,
            "grid_template_areas": null,
            "grid_template_columns": null,
            "grid_template_rows": null,
            "height": null,
            "justify_content": null,
            "justify_items": null,
            "left": null,
            "margin": null,
            "max_height": null,
            "max_width": null,
            "min_height": null,
            "min_width": null,
            "object_fit": null,
            "object_position": null,
            "order": null,
            "overflow": null,
            "overflow_x": null,
            "overflow_y": null,
            "padding": null,
            "right": null,
            "top": null,
            "visibility": null,
            "width": null
          }
        },
        "8acac931d1c540aa9b18f8ab25a387b1": {
          "model_module": "@jupyter-widgets/controls",
          "model_name": "DescriptionStyleModel",
          "model_module_version": "1.5.0",
          "state": {
            "_model_module": "@jupyter-widgets/controls",
            "_model_module_version": "1.5.0",
            "_model_name": "DescriptionStyleModel",
            "_view_count": null,
            "_view_module": "@jupyter-widgets/base",
            "_view_module_version": "1.2.0",
            "_view_name": "StyleView",
            "description_width": ""
          }
        },
        "292fe831648b4fe28680705f8bb42756": {
          "model_module": "@jupyter-widgets/base",
          "model_name": "LayoutModel",
          "model_module_version": "1.2.0",
          "state": {
            "_model_module": "@jupyter-widgets/base",
            "_model_module_version": "1.2.0",
            "_model_name": "LayoutModel",
            "_view_count": null,
            "_view_module": "@jupyter-widgets/base",
            "_view_module_version": "1.2.0",
            "_view_name": "LayoutView",
            "align_content": null,
            "align_items": null,
            "align_self": null,
            "border": null,
            "bottom": null,
            "display": null,
            "flex": null,
            "flex_flow": null,
            "grid_area": null,
            "grid_auto_columns": null,
            "grid_auto_flow": null,
            "grid_auto_rows": null,
            "grid_column": null,
            "grid_gap": null,
            "grid_row": null,
            "grid_template_areas": null,
            "grid_template_columns": null,
            "grid_template_rows": null,
            "height": null,
            "justify_content": null,
            "justify_items": null,
            "left": null,
            "margin": null,
            "max_height": null,
            "max_width": null,
            "min_height": null,
            "min_width": null,
            "object_fit": null,
            "object_position": null,
            "order": null,
            "overflow": null,
            "overflow_x": null,
            "overflow_y": null,
            "padding": null,
            "right": null,
            "top": null,
            "visibility": null,
            "width": null
          }
        },
        "c7f2b904107641999851b25b41e91b76": {
          "model_module": "@jupyter-widgets/controls",
          "model_name": "ProgressStyleModel",
          "model_module_version": "1.5.0",
          "state": {
            "_model_module": "@jupyter-widgets/controls",
            "_model_module_version": "1.5.0",
            "_model_name": "ProgressStyleModel",
            "_view_count": null,
            "_view_module": "@jupyter-widgets/base",
            "_view_module_version": "1.2.0",
            "_view_name": "StyleView",
            "bar_color": null,
            "description_width": ""
          }
        },
        "38105b3505654e5eb43876e14a639a0e": {
          "model_module": "@jupyter-widgets/controls",
          "model_name": "VBoxModel",
          "model_module_version": "1.5.0",
          "state": {
            "_dom_classes": [],
            "_model_module": "@jupyter-widgets/controls",
            "_model_module_version": "1.5.0",
            "_model_name": "VBoxModel",
            "_view_count": null,
            "_view_module": "@jupyter-widgets/controls",
            "_view_module_version": "1.5.0",
            "_view_name": "VBoxView",
            "box_style": "",
            "children": [
              "IPY_MODEL_9dd397b4e15d46b0bd32600dbb07ce7f",
              "IPY_MODEL_6e9d364f7fe34bf9882aac044611929f"
            ],
            "layout": "IPY_MODEL_c88c0f04b16a4f38a8aaadc27f5a6304"
          }
        },
        "9dd397b4e15d46b0bd32600dbb07ce7f": {
          "model_module": "@jupyter-widgets/controls",
          "model_name": "LabelModel",
          "model_module_version": "1.5.0",
          "state": {
            "_dom_classes": [],
            "_model_module": "@jupyter-widgets/controls",
            "_model_module_version": "1.5.0",
            "_model_name": "LabelModel",
            "_view_count": null,
            "_view_module": "@jupyter-widgets/controls",
            "_view_module_version": "1.5.0",
            "_view_name": "LabelView",
            "description": "",
            "description_tooltip": null,
            "layout": "IPY_MODEL_4747b76138b24bd5afb8685af0150c93",
            "placeholder": "​",
            "style": "IPY_MODEL_1dee051a68ab40d19cd7c96e2722dd3d",
            "value": "1.570 MB of 1.570 MB uploaded (0.000 MB deduped)\r"
          }
        },
        "6e9d364f7fe34bf9882aac044611929f": {
          "model_module": "@jupyter-widgets/controls",
          "model_name": "FloatProgressModel",
          "model_module_version": "1.5.0",
          "state": {
            "_dom_classes": [],
            "_model_module": "@jupyter-widgets/controls",
            "_model_module_version": "1.5.0",
            "_model_name": "FloatProgressModel",
            "_view_count": null,
            "_view_module": "@jupyter-widgets/controls",
            "_view_module_version": "1.5.0",
            "_view_name": "ProgressView",
            "bar_style": "",
            "description": "",
            "description_tooltip": null,
            "layout": "IPY_MODEL_c71c3c98e94845d0885aa7cafae31712",
            "max": 1,
            "min": 0,
            "orientation": "horizontal",
            "style": "IPY_MODEL_d5f1c432bdc44014a542d58a916c4345",
            "value": 1
          }
        },
        "c88c0f04b16a4f38a8aaadc27f5a6304": {
          "model_module": "@jupyter-widgets/base",
          "model_name": "LayoutModel",
          "model_module_version": "1.2.0",
          "state": {
            "_model_module": "@jupyter-widgets/base",
            "_model_module_version": "1.2.0",
            "_model_name": "LayoutModel",
            "_view_count": null,
            "_view_module": "@jupyter-widgets/base",
            "_view_module_version": "1.2.0",
            "_view_name": "LayoutView",
            "align_content": null,
            "align_items": null,
            "align_self": null,
            "border": null,
            "bottom": null,
            "display": null,
            "flex": null,
            "flex_flow": null,
            "grid_area": null,
            "grid_auto_columns": null,
            "grid_auto_flow": null,
            "grid_auto_rows": null,
            "grid_column": null,
            "grid_gap": null,
            "grid_row": null,
            "grid_template_areas": null,
            "grid_template_columns": null,
            "grid_template_rows": null,
            "height": null,
            "justify_content": null,
            "justify_items": null,
            "left": null,
            "margin": null,
            "max_height": null,
            "max_width": null,
            "min_height": null,
            "min_width": null,
            "object_fit": null,
            "object_position": null,
            "order": null,
            "overflow": null,
            "overflow_x": null,
            "overflow_y": null,
            "padding": null,
            "right": null,
            "top": null,
            "visibility": null,
            "width": null
          }
        },
        "4747b76138b24bd5afb8685af0150c93": {
          "model_module": "@jupyter-widgets/base",
          "model_name": "LayoutModel",
          "model_module_version": "1.2.0",
          "state": {
            "_model_module": "@jupyter-widgets/base",
            "_model_module_version": "1.2.0",
            "_model_name": "LayoutModel",
            "_view_count": null,
            "_view_module": "@jupyter-widgets/base",
            "_view_module_version": "1.2.0",
            "_view_name": "LayoutView",
            "align_content": null,
            "align_items": null,
            "align_self": null,
            "border": null,
            "bottom": null,
            "display": null,
            "flex": null,
            "flex_flow": null,
            "grid_area": null,
            "grid_auto_columns": null,
            "grid_auto_flow": null,
            "grid_auto_rows": null,
            "grid_column": null,
            "grid_gap": null,
            "grid_row": null,
            "grid_template_areas": null,
            "grid_template_columns": null,
            "grid_template_rows": null,
            "height": null,
            "justify_content": null,
            "justify_items": null,
            "left": null,
            "margin": null,
            "max_height": null,
            "max_width": null,
            "min_height": null,
            "min_width": null,
            "object_fit": null,
            "object_position": null,
            "order": null,
            "overflow": null,
            "overflow_x": null,
            "overflow_y": null,
            "padding": null,
            "right": null,
            "top": null,
            "visibility": null,
            "width": null
          }
        },
        "1dee051a68ab40d19cd7c96e2722dd3d": {
          "model_module": "@jupyter-widgets/controls",
          "model_name": "DescriptionStyleModel",
          "model_module_version": "1.5.0",
          "state": {
            "_model_module": "@jupyter-widgets/controls",
            "_model_module_version": "1.5.0",
            "_model_name": "DescriptionStyleModel",
            "_view_count": null,
            "_view_module": "@jupyter-widgets/base",
            "_view_module_version": "1.2.0",
            "_view_name": "StyleView",
            "description_width": ""
          }
        },
        "c71c3c98e94845d0885aa7cafae31712": {
          "model_module": "@jupyter-widgets/base",
          "model_name": "LayoutModel",
          "model_module_version": "1.2.0",
          "state": {
            "_model_module": "@jupyter-widgets/base",
            "_model_module_version": "1.2.0",
            "_model_name": "LayoutModel",
            "_view_count": null,
            "_view_module": "@jupyter-widgets/base",
            "_view_module_version": "1.2.0",
            "_view_name": "LayoutView",
            "align_content": null,
            "align_items": null,
            "align_self": null,
            "border": null,
            "bottom": null,
            "display": null,
            "flex": null,
            "flex_flow": null,
            "grid_area": null,
            "grid_auto_columns": null,
            "grid_auto_flow": null,
            "grid_auto_rows": null,
            "grid_column": null,
            "grid_gap": null,
            "grid_row": null,
            "grid_template_areas": null,
            "grid_template_columns": null,
            "grid_template_rows": null,
            "height": null,
            "justify_content": null,
            "justify_items": null,
            "left": null,
            "margin": null,
            "max_height": null,
            "max_width": null,
            "min_height": null,
            "min_width": null,
            "object_fit": null,
            "object_position": null,
            "order": null,
            "overflow": null,
            "overflow_x": null,
            "overflow_y": null,
            "padding": null,
            "right": null,
            "top": null,
            "visibility": null,
            "width": null
          }
        },
        "d5f1c432bdc44014a542d58a916c4345": {
          "model_module": "@jupyter-widgets/controls",
          "model_name": "ProgressStyleModel",
          "model_module_version": "1.5.0",
          "state": {
            "_model_module": "@jupyter-widgets/controls",
            "_model_module_version": "1.5.0",
            "_model_name": "ProgressStyleModel",
            "_view_count": null,
            "_view_module": "@jupyter-widgets/base",
            "_view_module_version": "1.2.0",
            "_view_name": "StyleView",
            "bar_color": null,
            "description_width": ""
          }
        },
        "dff4f65658884c2b8fc47ab09e3e1662": {
          "model_module": "@jupyter-widgets/controls",
          "model_name": "VBoxModel",
          "model_module_version": "1.5.0",
          "state": {
            "_dom_classes": [],
            "_model_module": "@jupyter-widgets/controls",
            "_model_module_version": "1.5.0",
            "_model_name": "VBoxModel",
            "_view_count": null,
            "_view_module": "@jupyter-widgets/controls",
            "_view_module_version": "1.5.0",
            "_view_name": "VBoxView",
            "box_style": "",
            "children": [
              "IPY_MODEL_28e45afa3cb64af79414fb00af8f8bf4",
              "IPY_MODEL_cf1786171479478ea64cb0b7ad3262b1"
            ],
            "layout": "IPY_MODEL_599cb5f5eeab461ba8ae9d8cfdd4d9de"
          }
        },
        "28e45afa3cb64af79414fb00af8f8bf4": {
          "model_module": "@jupyter-widgets/controls",
          "model_name": "LabelModel",
          "model_module_version": "1.5.0",
          "state": {
            "_dom_classes": [],
            "_model_module": "@jupyter-widgets/controls",
            "_model_module_version": "1.5.0",
            "_model_name": "LabelModel",
            "_view_count": null,
            "_view_module": "@jupyter-widgets/controls",
            "_view_module_version": "1.5.0",
            "_view_name": "LabelView",
            "description": "",
            "description_tooltip": null,
            "layout": "IPY_MODEL_b2cf89edfcc34ba98e5ec288fe214927",
            "placeholder": "​",
            "style": "IPY_MODEL_55d51dc614044b41847c05787b01f1d3",
            "value": "2.198 MB of 2.198 MB uploaded (0.000 MB deduped)\r"
          }
        },
        "cf1786171479478ea64cb0b7ad3262b1": {
          "model_module": "@jupyter-widgets/controls",
          "model_name": "FloatProgressModel",
          "model_module_version": "1.5.0",
          "state": {
            "_dom_classes": [],
            "_model_module": "@jupyter-widgets/controls",
            "_model_module_version": "1.5.0",
            "_model_name": "FloatProgressModel",
            "_view_count": null,
            "_view_module": "@jupyter-widgets/controls",
            "_view_module_version": "1.5.0",
            "_view_name": "ProgressView",
            "bar_style": "",
            "description": "",
            "description_tooltip": null,
            "layout": "IPY_MODEL_c5efef08a5d24c6cbc87b67f660107f5",
            "max": 1,
            "min": 0,
            "orientation": "horizontal",
            "style": "IPY_MODEL_dcbbcdf7cd81402db92174bac79a4960",
            "value": 1
          }
        },
        "599cb5f5eeab461ba8ae9d8cfdd4d9de": {
          "model_module": "@jupyter-widgets/base",
          "model_name": "LayoutModel",
          "model_module_version": "1.2.0",
          "state": {
            "_model_module": "@jupyter-widgets/base",
            "_model_module_version": "1.2.0",
            "_model_name": "LayoutModel",
            "_view_count": null,
            "_view_module": "@jupyter-widgets/base",
            "_view_module_version": "1.2.0",
            "_view_name": "LayoutView",
            "align_content": null,
            "align_items": null,
            "align_self": null,
            "border": null,
            "bottom": null,
            "display": null,
            "flex": null,
            "flex_flow": null,
            "grid_area": null,
            "grid_auto_columns": null,
            "grid_auto_flow": null,
            "grid_auto_rows": null,
            "grid_column": null,
            "grid_gap": null,
            "grid_row": null,
            "grid_template_areas": null,
            "grid_template_columns": null,
            "grid_template_rows": null,
            "height": null,
            "justify_content": null,
            "justify_items": null,
            "left": null,
            "margin": null,
            "max_height": null,
            "max_width": null,
            "min_height": null,
            "min_width": null,
            "object_fit": null,
            "object_position": null,
            "order": null,
            "overflow": null,
            "overflow_x": null,
            "overflow_y": null,
            "padding": null,
            "right": null,
            "top": null,
            "visibility": null,
            "width": null
          }
        },
        "b2cf89edfcc34ba98e5ec288fe214927": {
          "model_module": "@jupyter-widgets/base",
          "model_name": "LayoutModel",
          "model_module_version": "1.2.0",
          "state": {
            "_model_module": "@jupyter-widgets/base",
            "_model_module_version": "1.2.0",
            "_model_name": "LayoutModel",
            "_view_count": null,
            "_view_module": "@jupyter-widgets/base",
            "_view_module_version": "1.2.0",
            "_view_name": "LayoutView",
            "align_content": null,
            "align_items": null,
            "align_self": null,
            "border": null,
            "bottom": null,
            "display": null,
            "flex": null,
            "flex_flow": null,
            "grid_area": null,
            "grid_auto_columns": null,
            "grid_auto_flow": null,
            "grid_auto_rows": null,
            "grid_column": null,
            "grid_gap": null,
            "grid_row": null,
            "grid_template_areas": null,
            "grid_template_columns": null,
            "grid_template_rows": null,
            "height": null,
            "justify_content": null,
            "justify_items": null,
            "left": null,
            "margin": null,
            "max_height": null,
            "max_width": null,
            "min_height": null,
            "min_width": null,
            "object_fit": null,
            "object_position": null,
            "order": null,
            "overflow": null,
            "overflow_x": null,
            "overflow_y": null,
            "padding": null,
            "right": null,
            "top": null,
            "visibility": null,
            "width": null
          }
        },
        "55d51dc614044b41847c05787b01f1d3": {
          "model_module": "@jupyter-widgets/controls",
          "model_name": "DescriptionStyleModel",
          "model_module_version": "1.5.0",
          "state": {
            "_model_module": "@jupyter-widgets/controls",
            "_model_module_version": "1.5.0",
            "_model_name": "DescriptionStyleModel",
            "_view_count": null,
            "_view_module": "@jupyter-widgets/base",
            "_view_module_version": "1.2.0",
            "_view_name": "StyleView",
            "description_width": ""
          }
        },
        "c5efef08a5d24c6cbc87b67f660107f5": {
          "model_module": "@jupyter-widgets/base",
          "model_name": "LayoutModel",
          "model_module_version": "1.2.0",
          "state": {
            "_model_module": "@jupyter-widgets/base",
            "_model_module_version": "1.2.0",
            "_model_name": "LayoutModel",
            "_view_count": null,
            "_view_module": "@jupyter-widgets/base",
            "_view_module_version": "1.2.0",
            "_view_name": "LayoutView",
            "align_content": null,
            "align_items": null,
            "align_self": null,
            "border": null,
            "bottom": null,
            "display": null,
            "flex": null,
            "flex_flow": null,
            "grid_area": null,
            "grid_auto_columns": null,
            "grid_auto_flow": null,
            "grid_auto_rows": null,
            "grid_column": null,
            "grid_gap": null,
            "grid_row": null,
            "grid_template_areas": null,
            "grid_template_columns": null,
            "grid_template_rows": null,
            "height": null,
            "justify_content": null,
            "justify_items": null,
            "left": null,
            "margin": null,
            "max_height": null,
            "max_width": null,
            "min_height": null,
            "min_width": null,
            "object_fit": null,
            "object_position": null,
            "order": null,
            "overflow": null,
            "overflow_x": null,
            "overflow_y": null,
            "padding": null,
            "right": null,
            "top": null,
            "visibility": null,
            "width": null
          }
        },
        "dcbbcdf7cd81402db92174bac79a4960": {
          "model_module": "@jupyter-widgets/controls",
          "model_name": "ProgressStyleModel",
          "model_module_version": "1.5.0",
          "state": {
            "_model_module": "@jupyter-widgets/controls",
            "_model_module_version": "1.5.0",
            "_model_name": "ProgressStyleModel",
            "_view_count": null,
            "_view_module": "@jupyter-widgets/base",
            "_view_module_version": "1.2.0",
            "_view_name": "StyleView",
            "bar_color": null,
            "description_width": ""
          }
        },
        "286f12c988674c9bba83d2622b9af4f9": {
          "model_module": "@jupyter-widgets/controls",
          "model_name": "VBoxModel",
          "model_module_version": "1.5.0",
          "state": {
            "_dom_classes": [],
            "_model_module": "@jupyter-widgets/controls",
            "_model_module_version": "1.5.0",
            "_model_name": "VBoxModel",
            "_view_count": null,
            "_view_module": "@jupyter-widgets/controls",
            "_view_module_version": "1.5.0",
            "_view_name": "VBoxView",
            "box_style": "",
            "children": [
              "IPY_MODEL_5699003fa19145dca4b4435b7a5adce9",
              "IPY_MODEL_3ea77101d6c34c099b7cda4fcb27f6c8"
            ],
            "layout": "IPY_MODEL_e0385b0dafa245a495c4f6b05eceea50"
          }
        },
        "5699003fa19145dca4b4435b7a5adce9": {
          "model_module": "@jupyter-widgets/controls",
          "model_name": "LabelModel",
          "model_module_version": "1.5.0",
          "state": {
            "_dom_classes": [],
            "_model_module": "@jupyter-widgets/controls",
            "_model_module_version": "1.5.0",
            "_model_name": "LabelModel",
            "_view_count": null,
            "_view_module": "@jupyter-widgets/controls",
            "_view_module_version": "1.5.0",
            "_view_name": "LabelView",
            "description": "",
            "description_tooltip": null,
            "layout": "IPY_MODEL_e6ce25c0ef464a0a9d0ff526c4634f07",
            "placeholder": "​",
            "style": "IPY_MODEL_5226ed0360154ca0b92eeea9b0d1b065",
            "value": "1.820 MB of 1.820 MB uploaded (0.000 MB deduped)\r"
          }
        },
        "3ea77101d6c34c099b7cda4fcb27f6c8": {
          "model_module": "@jupyter-widgets/controls",
          "model_name": "FloatProgressModel",
          "model_module_version": "1.5.0",
          "state": {
            "_dom_classes": [],
            "_model_module": "@jupyter-widgets/controls",
            "_model_module_version": "1.5.0",
            "_model_name": "FloatProgressModel",
            "_view_count": null,
            "_view_module": "@jupyter-widgets/controls",
            "_view_module_version": "1.5.0",
            "_view_name": "ProgressView",
            "bar_style": "",
            "description": "",
            "description_tooltip": null,
            "layout": "IPY_MODEL_61a8895a4cf14a30a1c09b96c58a2e15",
            "max": 1,
            "min": 0,
            "orientation": "horizontal",
            "style": "IPY_MODEL_c09a772e52b54f6ea861cc414648f723",
            "value": 1
          }
        },
        "e0385b0dafa245a495c4f6b05eceea50": {
          "model_module": "@jupyter-widgets/base",
          "model_name": "LayoutModel",
          "model_module_version": "1.2.0",
          "state": {
            "_model_module": "@jupyter-widgets/base",
            "_model_module_version": "1.2.0",
            "_model_name": "LayoutModel",
            "_view_count": null,
            "_view_module": "@jupyter-widgets/base",
            "_view_module_version": "1.2.0",
            "_view_name": "LayoutView",
            "align_content": null,
            "align_items": null,
            "align_self": null,
            "border": null,
            "bottom": null,
            "display": null,
            "flex": null,
            "flex_flow": null,
            "grid_area": null,
            "grid_auto_columns": null,
            "grid_auto_flow": null,
            "grid_auto_rows": null,
            "grid_column": null,
            "grid_gap": null,
            "grid_row": null,
            "grid_template_areas": null,
            "grid_template_columns": null,
            "grid_template_rows": null,
            "height": null,
            "justify_content": null,
            "justify_items": null,
            "left": null,
            "margin": null,
            "max_height": null,
            "max_width": null,
            "min_height": null,
            "min_width": null,
            "object_fit": null,
            "object_position": null,
            "order": null,
            "overflow": null,
            "overflow_x": null,
            "overflow_y": null,
            "padding": null,
            "right": null,
            "top": null,
            "visibility": null,
            "width": null
          }
        },
        "e6ce25c0ef464a0a9d0ff526c4634f07": {
          "model_module": "@jupyter-widgets/base",
          "model_name": "LayoutModel",
          "model_module_version": "1.2.0",
          "state": {
            "_model_module": "@jupyter-widgets/base",
            "_model_module_version": "1.2.0",
            "_model_name": "LayoutModel",
            "_view_count": null,
            "_view_module": "@jupyter-widgets/base",
            "_view_module_version": "1.2.0",
            "_view_name": "LayoutView",
            "align_content": null,
            "align_items": null,
            "align_self": null,
            "border": null,
            "bottom": null,
            "display": null,
            "flex": null,
            "flex_flow": null,
            "grid_area": null,
            "grid_auto_columns": null,
            "grid_auto_flow": null,
            "grid_auto_rows": null,
            "grid_column": null,
            "grid_gap": null,
            "grid_row": null,
            "grid_template_areas": null,
            "grid_template_columns": null,
            "grid_template_rows": null,
            "height": null,
            "justify_content": null,
            "justify_items": null,
            "left": null,
            "margin": null,
            "max_height": null,
            "max_width": null,
            "min_height": null,
            "min_width": null,
            "object_fit": null,
            "object_position": null,
            "order": null,
            "overflow": null,
            "overflow_x": null,
            "overflow_y": null,
            "padding": null,
            "right": null,
            "top": null,
            "visibility": null,
            "width": null
          }
        },
        "5226ed0360154ca0b92eeea9b0d1b065": {
          "model_module": "@jupyter-widgets/controls",
          "model_name": "DescriptionStyleModel",
          "model_module_version": "1.5.0",
          "state": {
            "_model_module": "@jupyter-widgets/controls",
            "_model_module_version": "1.5.0",
            "_model_name": "DescriptionStyleModel",
            "_view_count": null,
            "_view_module": "@jupyter-widgets/base",
            "_view_module_version": "1.2.0",
            "_view_name": "StyleView",
            "description_width": ""
          }
        },
        "61a8895a4cf14a30a1c09b96c58a2e15": {
          "model_module": "@jupyter-widgets/base",
          "model_name": "LayoutModel",
          "model_module_version": "1.2.0",
          "state": {
            "_model_module": "@jupyter-widgets/base",
            "_model_module_version": "1.2.0",
            "_model_name": "LayoutModel",
            "_view_count": null,
            "_view_module": "@jupyter-widgets/base",
            "_view_module_version": "1.2.0",
            "_view_name": "LayoutView",
            "align_content": null,
            "align_items": null,
            "align_self": null,
            "border": null,
            "bottom": null,
            "display": null,
            "flex": null,
            "flex_flow": null,
            "grid_area": null,
            "grid_auto_columns": null,
            "grid_auto_flow": null,
            "grid_auto_rows": null,
            "grid_column": null,
            "grid_gap": null,
            "grid_row": null,
            "grid_template_areas": null,
            "grid_template_columns": null,
            "grid_template_rows": null,
            "height": null,
            "justify_content": null,
            "justify_items": null,
            "left": null,
            "margin": null,
            "max_height": null,
            "max_width": null,
            "min_height": null,
            "min_width": null,
            "object_fit": null,
            "object_position": null,
            "order": null,
            "overflow": null,
            "overflow_x": null,
            "overflow_y": null,
            "padding": null,
            "right": null,
            "top": null,
            "visibility": null,
            "width": null
          }
        },
        "c09a772e52b54f6ea861cc414648f723": {
          "model_module": "@jupyter-widgets/controls",
          "model_name": "ProgressStyleModel",
          "model_module_version": "1.5.0",
          "state": {
            "_model_module": "@jupyter-widgets/controls",
            "_model_module_version": "1.5.0",
            "_model_name": "ProgressStyleModel",
            "_view_count": null,
            "_view_module": "@jupyter-widgets/base",
            "_view_module_version": "1.2.0",
            "_view_name": "StyleView",
            "bar_color": null,
            "description_width": ""
          }
        },
        "bb8094b9db4346c4801b84dd57fcf038": {
          "model_module": "@jupyter-widgets/controls",
          "model_name": "VBoxModel",
          "model_module_version": "1.5.0",
          "state": {
            "_dom_classes": [],
            "_model_module": "@jupyter-widgets/controls",
            "_model_module_version": "1.5.0",
            "_model_name": "VBoxModel",
            "_view_count": null,
            "_view_module": "@jupyter-widgets/controls",
            "_view_module_version": "1.5.0",
            "_view_name": "VBoxView",
            "box_style": "",
            "children": [
              "IPY_MODEL_9be42306f654436b8437eed663227ffb",
              "IPY_MODEL_a74ece19b3c64037a6bd513c6145cd01"
            ],
            "layout": "IPY_MODEL_f000b0b79df148a8ba27f13b8169c2e4"
          }
        },
        "9be42306f654436b8437eed663227ffb": {
          "model_module": "@jupyter-widgets/controls",
          "model_name": "LabelModel",
          "model_module_version": "1.5.0",
          "state": {
            "_dom_classes": [],
            "_model_module": "@jupyter-widgets/controls",
            "_model_module_version": "1.5.0",
            "_model_name": "LabelModel",
            "_view_count": null,
            "_view_module": "@jupyter-widgets/controls",
            "_view_module_version": "1.5.0",
            "_view_name": "LabelView",
            "description": "",
            "description_tooltip": null,
            "layout": "IPY_MODEL_83cb0da8313447ecaf5a263606d1520f",
            "placeholder": "​",
            "style": "IPY_MODEL_b1723079c51c49e0ac14fc68f1eb8d13",
            "value": "1.563 MB of 1.563 MB uploaded (0.000 MB deduped)\r"
          }
        },
        "a74ece19b3c64037a6bd513c6145cd01": {
          "model_module": "@jupyter-widgets/controls",
          "model_name": "FloatProgressModel",
          "model_module_version": "1.5.0",
          "state": {
            "_dom_classes": [],
            "_model_module": "@jupyter-widgets/controls",
            "_model_module_version": "1.5.0",
            "_model_name": "FloatProgressModel",
            "_view_count": null,
            "_view_module": "@jupyter-widgets/controls",
            "_view_module_version": "1.5.0",
            "_view_name": "ProgressView",
            "bar_style": "",
            "description": "",
            "description_tooltip": null,
            "layout": "IPY_MODEL_b89b47177f434d669aa29f1739db552e",
            "max": 1,
            "min": 0,
            "orientation": "horizontal",
            "style": "IPY_MODEL_af1fa399aea649be848e92abbcff42ea",
            "value": 1
          }
        },
        "f000b0b79df148a8ba27f13b8169c2e4": {
          "model_module": "@jupyter-widgets/base",
          "model_name": "LayoutModel",
          "model_module_version": "1.2.0",
          "state": {
            "_model_module": "@jupyter-widgets/base",
            "_model_module_version": "1.2.0",
            "_model_name": "LayoutModel",
            "_view_count": null,
            "_view_module": "@jupyter-widgets/base",
            "_view_module_version": "1.2.0",
            "_view_name": "LayoutView",
            "align_content": null,
            "align_items": null,
            "align_self": null,
            "border": null,
            "bottom": null,
            "display": null,
            "flex": null,
            "flex_flow": null,
            "grid_area": null,
            "grid_auto_columns": null,
            "grid_auto_flow": null,
            "grid_auto_rows": null,
            "grid_column": null,
            "grid_gap": null,
            "grid_row": null,
            "grid_template_areas": null,
            "grid_template_columns": null,
            "grid_template_rows": null,
            "height": null,
            "justify_content": null,
            "justify_items": null,
            "left": null,
            "margin": null,
            "max_height": null,
            "max_width": null,
            "min_height": null,
            "min_width": null,
            "object_fit": null,
            "object_position": null,
            "order": null,
            "overflow": null,
            "overflow_x": null,
            "overflow_y": null,
            "padding": null,
            "right": null,
            "top": null,
            "visibility": null,
            "width": null
          }
        },
        "83cb0da8313447ecaf5a263606d1520f": {
          "model_module": "@jupyter-widgets/base",
          "model_name": "LayoutModel",
          "model_module_version": "1.2.0",
          "state": {
            "_model_module": "@jupyter-widgets/base",
            "_model_module_version": "1.2.0",
            "_model_name": "LayoutModel",
            "_view_count": null,
            "_view_module": "@jupyter-widgets/base",
            "_view_module_version": "1.2.0",
            "_view_name": "LayoutView",
            "align_content": null,
            "align_items": null,
            "align_self": null,
            "border": null,
            "bottom": null,
            "display": null,
            "flex": null,
            "flex_flow": null,
            "grid_area": null,
            "grid_auto_columns": null,
            "grid_auto_flow": null,
            "grid_auto_rows": null,
            "grid_column": null,
            "grid_gap": null,
            "grid_row": null,
            "grid_template_areas": null,
            "grid_template_columns": null,
            "grid_template_rows": null,
            "height": null,
            "justify_content": null,
            "justify_items": null,
            "left": null,
            "margin": null,
            "max_height": null,
            "max_width": null,
            "min_height": null,
            "min_width": null,
            "object_fit": null,
            "object_position": null,
            "order": null,
            "overflow": null,
            "overflow_x": null,
            "overflow_y": null,
            "padding": null,
            "right": null,
            "top": null,
            "visibility": null,
            "width": null
          }
        },
        "b1723079c51c49e0ac14fc68f1eb8d13": {
          "model_module": "@jupyter-widgets/controls",
          "model_name": "DescriptionStyleModel",
          "model_module_version": "1.5.0",
          "state": {
            "_model_module": "@jupyter-widgets/controls",
            "_model_module_version": "1.5.0",
            "_model_name": "DescriptionStyleModel",
            "_view_count": null,
            "_view_module": "@jupyter-widgets/base",
            "_view_module_version": "1.2.0",
            "_view_name": "StyleView",
            "description_width": ""
          }
        },
        "b89b47177f434d669aa29f1739db552e": {
          "model_module": "@jupyter-widgets/base",
          "model_name": "LayoutModel",
          "model_module_version": "1.2.0",
          "state": {
            "_model_module": "@jupyter-widgets/base",
            "_model_module_version": "1.2.0",
            "_model_name": "LayoutModel",
            "_view_count": null,
            "_view_module": "@jupyter-widgets/base",
            "_view_module_version": "1.2.0",
            "_view_name": "LayoutView",
            "align_content": null,
            "align_items": null,
            "align_self": null,
            "border": null,
            "bottom": null,
            "display": null,
            "flex": null,
            "flex_flow": null,
            "grid_area": null,
            "grid_auto_columns": null,
            "grid_auto_flow": null,
            "grid_auto_rows": null,
            "grid_column": null,
            "grid_gap": null,
            "grid_row": null,
            "grid_template_areas": null,
            "grid_template_columns": null,
            "grid_template_rows": null,
            "height": null,
            "justify_content": null,
            "justify_items": null,
            "left": null,
            "margin": null,
            "max_height": null,
            "max_width": null,
            "min_height": null,
            "min_width": null,
            "object_fit": null,
            "object_position": null,
            "order": null,
            "overflow": null,
            "overflow_x": null,
            "overflow_y": null,
            "padding": null,
            "right": null,
            "top": null,
            "visibility": null,
            "width": null
          }
        },
        "af1fa399aea649be848e92abbcff42ea": {
          "model_module": "@jupyter-widgets/controls",
          "model_name": "ProgressStyleModel",
          "model_module_version": "1.5.0",
          "state": {
            "_model_module": "@jupyter-widgets/controls",
            "_model_module_version": "1.5.0",
            "_model_name": "ProgressStyleModel",
            "_view_count": null,
            "_view_module": "@jupyter-widgets/base",
            "_view_module_version": "1.2.0",
            "_view_name": "StyleView",
            "bar_color": null,
            "description_width": ""
          }
        },
        "0b23326d66b34e958eeef03261db7cb1": {
          "model_module": "@jupyter-widgets/controls",
          "model_name": "VBoxModel",
          "model_module_version": "1.5.0",
          "state": {
            "_dom_classes": [],
            "_model_module": "@jupyter-widgets/controls",
            "_model_module_version": "1.5.0",
            "_model_name": "VBoxModel",
            "_view_count": null,
            "_view_module": "@jupyter-widgets/controls",
            "_view_module_version": "1.5.0",
            "_view_name": "VBoxView",
            "box_style": "",
            "children": [
              "IPY_MODEL_af7cb9a18e1142e0a94a20ccf562238e",
              "IPY_MODEL_2c6ad9fda80448f3b5e19e20e20532c7"
            ],
            "layout": "IPY_MODEL_30a12d50ace24a2bb6466188f2e70463"
          }
        },
        "af7cb9a18e1142e0a94a20ccf562238e": {
          "model_module": "@jupyter-widgets/controls",
          "model_name": "LabelModel",
          "model_module_version": "1.5.0",
          "state": {
            "_dom_classes": [],
            "_model_module": "@jupyter-widgets/controls",
            "_model_module_version": "1.5.0",
            "_model_name": "LabelModel",
            "_view_count": null,
            "_view_module": "@jupyter-widgets/controls",
            "_view_module_version": "1.5.0",
            "_view_name": "LabelView",
            "description": "",
            "description_tooltip": null,
            "layout": "IPY_MODEL_ae780f216dd44f98a48d8ea21a8dc79e",
            "placeholder": "​",
            "style": "IPY_MODEL_9a2dcb95229c4ba88337c4faf34d8fa4",
            "value": "0.942 MB of 0.942 MB uploaded (0.000 MB deduped)\r"
          }
        },
        "2c6ad9fda80448f3b5e19e20e20532c7": {
          "model_module": "@jupyter-widgets/controls",
          "model_name": "FloatProgressModel",
          "model_module_version": "1.5.0",
          "state": {
            "_dom_classes": [],
            "_model_module": "@jupyter-widgets/controls",
            "_model_module_version": "1.5.0",
            "_model_name": "FloatProgressModel",
            "_view_count": null,
            "_view_module": "@jupyter-widgets/controls",
            "_view_module_version": "1.5.0",
            "_view_name": "ProgressView",
            "bar_style": "",
            "description": "",
            "description_tooltip": null,
            "layout": "IPY_MODEL_44d40058f90442cf84001162a25b6bdb",
            "max": 1,
            "min": 0,
            "orientation": "horizontal",
            "style": "IPY_MODEL_b97dbcc234fe4ada9b6a12ac51a91ed1",
            "value": 1
          }
        },
        "30a12d50ace24a2bb6466188f2e70463": {
          "model_module": "@jupyter-widgets/base",
          "model_name": "LayoutModel",
          "model_module_version": "1.2.0",
          "state": {
            "_model_module": "@jupyter-widgets/base",
            "_model_module_version": "1.2.0",
            "_model_name": "LayoutModel",
            "_view_count": null,
            "_view_module": "@jupyter-widgets/base",
            "_view_module_version": "1.2.0",
            "_view_name": "LayoutView",
            "align_content": null,
            "align_items": null,
            "align_self": null,
            "border": null,
            "bottom": null,
            "display": null,
            "flex": null,
            "flex_flow": null,
            "grid_area": null,
            "grid_auto_columns": null,
            "grid_auto_flow": null,
            "grid_auto_rows": null,
            "grid_column": null,
            "grid_gap": null,
            "grid_row": null,
            "grid_template_areas": null,
            "grid_template_columns": null,
            "grid_template_rows": null,
            "height": null,
            "justify_content": null,
            "justify_items": null,
            "left": null,
            "margin": null,
            "max_height": null,
            "max_width": null,
            "min_height": null,
            "min_width": null,
            "object_fit": null,
            "object_position": null,
            "order": null,
            "overflow": null,
            "overflow_x": null,
            "overflow_y": null,
            "padding": null,
            "right": null,
            "top": null,
            "visibility": null,
            "width": null
          }
        },
        "ae780f216dd44f98a48d8ea21a8dc79e": {
          "model_module": "@jupyter-widgets/base",
          "model_name": "LayoutModel",
          "model_module_version": "1.2.0",
          "state": {
            "_model_module": "@jupyter-widgets/base",
            "_model_module_version": "1.2.0",
            "_model_name": "LayoutModel",
            "_view_count": null,
            "_view_module": "@jupyter-widgets/base",
            "_view_module_version": "1.2.0",
            "_view_name": "LayoutView",
            "align_content": null,
            "align_items": null,
            "align_self": null,
            "border": null,
            "bottom": null,
            "display": null,
            "flex": null,
            "flex_flow": null,
            "grid_area": null,
            "grid_auto_columns": null,
            "grid_auto_flow": null,
            "grid_auto_rows": null,
            "grid_column": null,
            "grid_gap": null,
            "grid_row": null,
            "grid_template_areas": null,
            "grid_template_columns": null,
            "grid_template_rows": null,
            "height": null,
            "justify_content": null,
            "justify_items": null,
            "left": null,
            "margin": null,
            "max_height": null,
            "max_width": null,
            "min_height": null,
            "min_width": null,
            "object_fit": null,
            "object_position": null,
            "order": null,
            "overflow": null,
            "overflow_x": null,
            "overflow_y": null,
            "padding": null,
            "right": null,
            "top": null,
            "visibility": null,
            "width": null
          }
        },
        "9a2dcb95229c4ba88337c4faf34d8fa4": {
          "model_module": "@jupyter-widgets/controls",
          "model_name": "DescriptionStyleModel",
          "model_module_version": "1.5.0",
          "state": {
            "_model_module": "@jupyter-widgets/controls",
            "_model_module_version": "1.5.0",
            "_model_name": "DescriptionStyleModel",
            "_view_count": null,
            "_view_module": "@jupyter-widgets/base",
            "_view_module_version": "1.2.0",
            "_view_name": "StyleView",
            "description_width": ""
          }
        },
        "44d40058f90442cf84001162a25b6bdb": {
          "model_module": "@jupyter-widgets/base",
          "model_name": "LayoutModel",
          "model_module_version": "1.2.0",
          "state": {
            "_model_module": "@jupyter-widgets/base",
            "_model_module_version": "1.2.0",
            "_model_name": "LayoutModel",
            "_view_count": null,
            "_view_module": "@jupyter-widgets/base",
            "_view_module_version": "1.2.0",
            "_view_name": "LayoutView",
            "align_content": null,
            "align_items": null,
            "align_self": null,
            "border": null,
            "bottom": null,
            "display": null,
            "flex": null,
            "flex_flow": null,
            "grid_area": null,
            "grid_auto_columns": null,
            "grid_auto_flow": null,
            "grid_auto_rows": null,
            "grid_column": null,
            "grid_gap": null,
            "grid_row": null,
            "grid_template_areas": null,
            "grid_template_columns": null,
            "grid_template_rows": null,
            "height": null,
            "justify_content": null,
            "justify_items": null,
            "left": null,
            "margin": null,
            "max_height": null,
            "max_width": null,
            "min_height": null,
            "min_width": null,
            "object_fit": null,
            "object_position": null,
            "order": null,
            "overflow": null,
            "overflow_x": null,
            "overflow_y": null,
            "padding": null,
            "right": null,
            "top": null,
            "visibility": null,
            "width": null
          }
        },
        "b97dbcc234fe4ada9b6a12ac51a91ed1": {
          "model_module": "@jupyter-widgets/controls",
          "model_name": "ProgressStyleModel",
          "model_module_version": "1.5.0",
          "state": {
            "_model_module": "@jupyter-widgets/controls",
            "_model_module_version": "1.5.0",
            "_model_name": "ProgressStyleModel",
            "_view_count": null,
            "_view_module": "@jupyter-widgets/base",
            "_view_module_version": "1.2.0",
            "_view_name": "StyleView",
            "bar_color": null,
            "description_width": ""
          }
        },
        "e598b933d30443aab3964c07717ac3a0": {
          "model_module": "@jupyter-widgets/controls",
          "model_name": "VBoxModel",
          "model_module_version": "1.5.0",
          "state": {
            "_dom_classes": [],
            "_model_module": "@jupyter-widgets/controls",
            "_model_module_version": "1.5.0",
            "_model_name": "VBoxModel",
            "_view_count": null,
            "_view_module": "@jupyter-widgets/controls",
            "_view_module_version": "1.5.0",
            "_view_name": "VBoxView",
            "box_style": "",
            "children": [
              "IPY_MODEL_c4779319f2754ff387a80988ff3e2c3a",
              "IPY_MODEL_fa91e2e14bec49139fc1f876e265f8ce"
            ],
            "layout": "IPY_MODEL_072afd1fdc2b48d8a0c0fc6e3e0d5d36"
          }
        },
        "c4779319f2754ff387a80988ff3e2c3a": {
          "model_module": "@jupyter-widgets/controls",
          "model_name": "LabelModel",
          "model_module_version": "1.5.0",
          "state": {
            "_dom_classes": [],
            "_model_module": "@jupyter-widgets/controls",
            "_model_module_version": "1.5.0",
            "_model_name": "LabelModel",
            "_view_count": null,
            "_view_module": "@jupyter-widgets/controls",
            "_view_module_version": "1.5.0",
            "_view_name": "LabelView",
            "description": "",
            "description_tooltip": null,
            "layout": "IPY_MODEL_36b335231c8442eb9b7296650ea37979",
            "placeholder": "​",
            "style": "IPY_MODEL_c370437c97214491a214f685b50760ae",
            "value": "1.573 MB of 1.573 MB uploaded (0.000 MB deduped)\r"
          }
        },
        "fa91e2e14bec49139fc1f876e265f8ce": {
          "model_module": "@jupyter-widgets/controls",
          "model_name": "FloatProgressModel",
          "model_module_version": "1.5.0",
          "state": {
            "_dom_classes": [],
            "_model_module": "@jupyter-widgets/controls",
            "_model_module_version": "1.5.0",
            "_model_name": "FloatProgressModel",
            "_view_count": null,
            "_view_module": "@jupyter-widgets/controls",
            "_view_module_version": "1.5.0",
            "_view_name": "ProgressView",
            "bar_style": "",
            "description": "",
            "description_tooltip": null,
            "layout": "IPY_MODEL_a90dec5e6db34ad3964d569daafa0f6d",
            "max": 1,
            "min": 0,
            "orientation": "horizontal",
            "style": "IPY_MODEL_5eaf8560276e46fc9a5e58a11a8096e8",
            "value": 1
          }
        },
        "072afd1fdc2b48d8a0c0fc6e3e0d5d36": {
          "model_module": "@jupyter-widgets/base",
          "model_name": "LayoutModel",
          "model_module_version": "1.2.0",
          "state": {
            "_model_module": "@jupyter-widgets/base",
            "_model_module_version": "1.2.0",
            "_model_name": "LayoutModel",
            "_view_count": null,
            "_view_module": "@jupyter-widgets/base",
            "_view_module_version": "1.2.0",
            "_view_name": "LayoutView",
            "align_content": null,
            "align_items": null,
            "align_self": null,
            "border": null,
            "bottom": null,
            "display": null,
            "flex": null,
            "flex_flow": null,
            "grid_area": null,
            "grid_auto_columns": null,
            "grid_auto_flow": null,
            "grid_auto_rows": null,
            "grid_column": null,
            "grid_gap": null,
            "grid_row": null,
            "grid_template_areas": null,
            "grid_template_columns": null,
            "grid_template_rows": null,
            "height": null,
            "justify_content": null,
            "justify_items": null,
            "left": null,
            "margin": null,
            "max_height": null,
            "max_width": null,
            "min_height": null,
            "min_width": null,
            "object_fit": null,
            "object_position": null,
            "order": null,
            "overflow": null,
            "overflow_x": null,
            "overflow_y": null,
            "padding": null,
            "right": null,
            "top": null,
            "visibility": null,
            "width": null
          }
        },
        "36b335231c8442eb9b7296650ea37979": {
          "model_module": "@jupyter-widgets/base",
          "model_name": "LayoutModel",
          "model_module_version": "1.2.0",
          "state": {
            "_model_module": "@jupyter-widgets/base",
            "_model_module_version": "1.2.0",
            "_model_name": "LayoutModel",
            "_view_count": null,
            "_view_module": "@jupyter-widgets/base",
            "_view_module_version": "1.2.0",
            "_view_name": "LayoutView",
            "align_content": null,
            "align_items": null,
            "align_self": null,
            "border": null,
            "bottom": null,
            "display": null,
            "flex": null,
            "flex_flow": null,
            "grid_area": null,
            "grid_auto_columns": null,
            "grid_auto_flow": null,
            "grid_auto_rows": null,
            "grid_column": null,
            "grid_gap": null,
            "grid_row": null,
            "grid_template_areas": null,
            "grid_template_columns": null,
            "grid_template_rows": null,
            "height": null,
            "justify_content": null,
            "justify_items": null,
            "left": null,
            "margin": null,
            "max_height": null,
            "max_width": null,
            "min_height": null,
            "min_width": null,
            "object_fit": null,
            "object_position": null,
            "order": null,
            "overflow": null,
            "overflow_x": null,
            "overflow_y": null,
            "padding": null,
            "right": null,
            "top": null,
            "visibility": null,
            "width": null
          }
        },
        "c370437c97214491a214f685b50760ae": {
          "model_module": "@jupyter-widgets/controls",
          "model_name": "DescriptionStyleModel",
          "model_module_version": "1.5.0",
          "state": {
            "_model_module": "@jupyter-widgets/controls",
            "_model_module_version": "1.5.0",
            "_model_name": "DescriptionStyleModel",
            "_view_count": null,
            "_view_module": "@jupyter-widgets/base",
            "_view_module_version": "1.2.0",
            "_view_name": "StyleView",
            "description_width": ""
          }
        },
        "a90dec5e6db34ad3964d569daafa0f6d": {
          "model_module": "@jupyter-widgets/base",
          "model_name": "LayoutModel",
          "model_module_version": "1.2.0",
          "state": {
            "_model_module": "@jupyter-widgets/base",
            "_model_module_version": "1.2.0",
            "_model_name": "LayoutModel",
            "_view_count": null,
            "_view_module": "@jupyter-widgets/base",
            "_view_module_version": "1.2.0",
            "_view_name": "LayoutView",
            "align_content": null,
            "align_items": null,
            "align_self": null,
            "border": null,
            "bottom": null,
            "display": null,
            "flex": null,
            "flex_flow": null,
            "grid_area": null,
            "grid_auto_columns": null,
            "grid_auto_flow": null,
            "grid_auto_rows": null,
            "grid_column": null,
            "grid_gap": null,
            "grid_row": null,
            "grid_template_areas": null,
            "grid_template_columns": null,
            "grid_template_rows": null,
            "height": null,
            "justify_content": null,
            "justify_items": null,
            "left": null,
            "margin": null,
            "max_height": null,
            "max_width": null,
            "min_height": null,
            "min_width": null,
            "object_fit": null,
            "object_position": null,
            "order": null,
            "overflow": null,
            "overflow_x": null,
            "overflow_y": null,
            "padding": null,
            "right": null,
            "top": null,
            "visibility": null,
            "width": null
          }
        },
        "5eaf8560276e46fc9a5e58a11a8096e8": {
          "model_module": "@jupyter-widgets/controls",
          "model_name": "ProgressStyleModel",
          "model_module_version": "1.5.0",
          "state": {
            "_model_module": "@jupyter-widgets/controls",
            "_model_module_version": "1.5.0",
            "_model_name": "ProgressStyleModel",
            "_view_count": null,
            "_view_module": "@jupyter-widgets/base",
            "_view_module_version": "1.2.0",
            "_view_name": "StyleView",
            "bar_color": null,
            "description_width": ""
          }
        },
        "d86852991ca847bebe18f64a8fe71cd7": {
          "model_module": "@jupyter-widgets/controls",
          "model_name": "VBoxModel",
          "model_module_version": "1.5.0",
          "state": {
            "_dom_classes": [],
            "_model_module": "@jupyter-widgets/controls",
            "_model_module_version": "1.5.0",
            "_model_name": "VBoxModel",
            "_view_count": null,
            "_view_module": "@jupyter-widgets/controls",
            "_view_module_version": "1.5.0",
            "_view_name": "VBoxView",
            "box_style": "",
            "children": [
              "IPY_MODEL_22ee569462fd491fa6555e13d45ec79c",
              "IPY_MODEL_05b1dd2785ec4925a06d9d830f8d9792"
            ],
            "layout": "IPY_MODEL_1282875dcf634b1ea5bb767f68efa9d3"
          }
        },
        "22ee569462fd491fa6555e13d45ec79c": {
          "model_module": "@jupyter-widgets/controls",
          "model_name": "LabelModel",
          "model_module_version": "1.5.0",
          "state": {
            "_dom_classes": [],
            "_model_module": "@jupyter-widgets/controls",
            "_model_module_version": "1.5.0",
            "_model_name": "LabelModel",
            "_view_count": null,
            "_view_module": "@jupyter-widgets/controls",
            "_view_module_version": "1.5.0",
            "_view_name": "LabelView",
            "description": "",
            "description_tooltip": null,
            "layout": "IPY_MODEL_57c71a850746484aba27c2cd41332b63",
            "placeholder": "​",
            "style": "IPY_MODEL_df03e70387a7439c857fbab7ac72da5a",
            "value": "1.617 MB of 1.617 MB uploaded (0.000 MB deduped)\r"
          }
        },
        "05b1dd2785ec4925a06d9d830f8d9792": {
          "model_module": "@jupyter-widgets/controls",
          "model_name": "FloatProgressModel",
          "model_module_version": "1.5.0",
          "state": {
            "_dom_classes": [],
            "_model_module": "@jupyter-widgets/controls",
            "_model_module_version": "1.5.0",
            "_model_name": "FloatProgressModel",
            "_view_count": null,
            "_view_module": "@jupyter-widgets/controls",
            "_view_module_version": "1.5.0",
            "_view_name": "ProgressView",
            "bar_style": "",
            "description": "",
            "description_tooltip": null,
            "layout": "IPY_MODEL_9b180348adbd4f2184cecaf7e896163a",
            "max": 1,
            "min": 0,
            "orientation": "horizontal",
            "style": "IPY_MODEL_708c0f0b57d349c2aecc0080e2086913",
            "value": 1
          }
        },
        "1282875dcf634b1ea5bb767f68efa9d3": {
          "model_module": "@jupyter-widgets/base",
          "model_name": "LayoutModel",
          "model_module_version": "1.2.0",
          "state": {
            "_model_module": "@jupyter-widgets/base",
            "_model_module_version": "1.2.0",
            "_model_name": "LayoutModel",
            "_view_count": null,
            "_view_module": "@jupyter-widgets/base",
            "_view_module_version": "1.2.0",
            "_view_name": "LayoutView",
            "align_content": null,
            "align_items": null,
            "align_self": null,
            "border": null,
            "bottom": null,
            "display": null,
            "flex": null,
            "flex_flow": null,
            "grid_area": null,
            "grid_auto_columns": null,
            "grid_auto_flow": null,
            "grid_auto_rows": null,
            "grid_column": null,
            "grid_gap": null,
            "grid_row": null,
            "grid_template_areas": null,
            "grid_template_columns": null,
            "grid_template_rows": null,
            "height": null,
            "justify_content": null,
            "justify_items": null,
            "left": null,
            "margin": null,
            "max_height": null,
            "max_width": null,
            "min_height": null,
            "min_width": null,
            "object_fit": null,
            "object_position": null,
            "order": null,
            "overflow": null,
            "overflow_x": null,
            "overflow_y": null,
            "padding": null,
            "right": null,
            "top": null,
            "visibility": null,
            "width": null
          }
        },
        "57c71a850746484aba27c2cd41332b63": {
          "model_module": "@jupyter-widgets/base",
          "model_name": "LayoutModel",
          "model_module_version": "1.2.0",
          "state": {
            "_model_module": "@jupyter-widgets/base",
            "_model_module_version": "1.2.0",
            "_model_name": "LayoutModel",
            "_view_count": null,
            "_view_module": "@jupyter-widgets/base",
            "_view_module_version": "1.2.0",
            "_view_name": "LayoutView",
            "align_content": null,
            "align_items": null,
            "align_self": null,
            "border": null,
            "bottom": null,
            "display": null,
            "flex": null,
            "flex_flow": null,
            "grid_area": null,
            "grid_auto_columns": null,
            "grid_auto_flow": null,
            "grid_auto_rows": null,
            "grid_column": null,
            "grid_gap": null,
            "grid_row": null,
            "grid_template_areas": null,
            "grid_template_columns": null,
            "grid_template_rows": null,
            "height": null,
            "justify_content": null,
            "justify_items": null,
            "left": null,
            "margin": null,
            "max_height": null,
            "max_width": null,
            "min_height": null,
            "min_width": null,
            "object_fit": null,
            "object_position": null,
            "order": null,
            "overflow": null,
            "overflow_x": null,
            "overflow_y": null,
            "padding": null,
            "right": null,
            "top": null,
            "visibility": null,
            "width": null
          }
        },
        "df03e70387a7439c857fbab7ac72da5a": {
          "model_module": "@jupyter-widgets/controls",
          "model_name": "DescriptionStyleModel",
          "model_module_version": "1.5.0",
          "state": {
            "_model_module": "@jupyter-widgets/controls",
            "_model_module_version": "1.5.0",
            "_model_name": "DescriptionStyleModel",
            "_view_count": null,
            "_view_module": "@jupyter-widgets/base",
            "_view_module_version": "1.2.0",
            "_view_name": "StyleView",
            "description_width": ""
          }
        },
        "9b180348adbd4f2184cecaf7e896163a": {
          "model_module": "@jupyter-widgets/base",
          "model_name": "LayoutModel",
          "model_module_version": "1.2.0",
          "state": {
            "_model_module": "@jupyter-widgets/base",
            "_model_module_version": "1.2.0",
            "_model_name": "LayoutModel",
            "_view_count": null,
            "_view_module": "@jupyter-widgets/base",
            "_view_module_version": "1.2.0",
            "_view_name": "LayoutView",
            "align_content": null,
            "align_items": null,
            "align_self": null,
            "border": null,
            "bottom": null,
            "display": null,
            "flex": null,
            "flex_flow": null,
            "grid_area": null,
            "grid_auto_columns": null,
            "grid_auto_flow": null,
            "grid_auto_rows": null,
            "grid_column": null,
            "grid_gap": null,
            "grid_row": null,
            "grid_template_areas": null,
            "grid_template_columns": null,
            "grid_template_rows": null,
            "height": null,
            "justify_content": null,
            "justify_items": null,
            "left": null,
            "margin": null,
            "max_height": null,
            "max_width": null,
            "min_height": null,
            "min_width": null,
            "object_fit": null,
            "object_position": null,
            "order": null,
            "overflow": null,
            "overflow_x": null,
            "overflow_y": null,
            "padding": null,
            "right": null,
            "top": null,
            "visibility": null,
            "width": null
          }
        },
        "708c0f0b57d349c2aecc0080e2086913": {
          "model_module": "@jupyter-widgets/controls",
          "model_name": "ProgressStyleModel",
          "model_module_version": "1.5.0",
          "state": {
            "_model_module": "@jupyter-widgets/controls",
            "_model_module_version": "1.5.0",
            "_model_name": "ProgressStyleModel",
            "_view_count": null,
            "_view_module": "@jupyter-widgets/base",
            "_view_module_version": "1.2.0",
            "_view_name": "StyleView",
            "bar_color": null,
            "description_width": ""
          }
        }
      }
    },
    "accelerator": "GPU"
  },
  "cells": [
    {
      "cell_type": "markdown",
      "metadata": {
        "id": "view-in-github",
        "colab_type": "text"
      },
      "source": [
        "<a href=\"https://colab.research.google.com/github/akshaygrao77/DeepLearning-Assignment3/blob/main/DL_Assignment_3.ipynb\" target=\"_parent\"><img src=\"https://colab.research.google.com/assets/colab-badge.svg\" alt=\"Open In Colab\"/></a>"
      ]
    },
    {
      "cell_type": "code",
      "source": [
        "import numpy as np\n",
        "import tensorflow as tf\n",
        "from tensorflow import keras\n",
        "import pandas as pd\n",
        "from keras.utils.vis_utils import plot_model\n",
        "from keras.callbacks import History"
      ],
      "metadata": {
        "id": "v8grmhdOGcQW"
      },
      "execution_count": 1,
      "outputs": []
    },
    {
      "cell_type": "code",
      "source": [
        "!curl https://storage.googleapis.com/gresearch/dakshina/dakshina_dataset_v1.0.tar --output daksh.tar\n",
        "!tar -xvf  'daksh.tar' "
      ],
      "metadata": {
        "colab": {
          "base_uri": "https://localhost:8080/"
        },
        "id": "WGA8GCP1GY0r",
        "outputId": "ffe92e58-5198-4727-9a96-6ef4fca74e21"
      },
      "execution_count": 2,
      "outputs": [
        {
          "output_type": "stream",
          "name": "stdout",
          "text": [
            "  % Total    % Received % Xferd  Average Speed   Time    Time     Time  Current\n",
            "                                 Dload  Upload   Total   Spent    Left  Speed\n",
            "100 1915M  100 1915M    0     0   127M      0  0:00:15  0:00:15 --:--:--  116M\n",
            "dakshina_dataset_v1.0/bn/\n",
            "dakshina_dataset_v1.0/bn/lexicons/\n",
            "dakshina_dataset_v1.0/bn/lexicons/bn.translit.sampled.test.tsv\n",
            "dakshina_dataset_v1.0/bn/lexicons/bn.translit.sampled.train.tsv\n",
            "dakshina_dataset_v1.0/bn/lexicons/bn.translit.sampled.dev.tsv\n",
            "dakshina_dataset_v1.0/bn/native_script_wikipedia/\n",
            "dakshina_dataset_v1.0/bn/native_script_wikipedia/bn.wiki-filt.valid.text.shuf.txt.gz\n",
            "dakshina_dataset_v1.0/bn/native_script_wikipedia/bn.wiki-full.info.sorted.tsv.gz\n",
            "dakshina_dataset_v1.0/bn/native_script_wikipedia/bn.wiki-filt.train.info.sorted.tsv.gz\n",
            "dakshina_dataset_v1.0/bn/native_script_wikipedia/bn.wiki-filt.train.text.sorted.tsv.gz\n",
            "dakshina_dataset_v1.0/bn/native_script_wikipedia/bn.wiki-filt.train.text.shuf.txt.gz\n",
            "dakshina_dataset_v1.0/bn/native_script_wikipedia/bn.wiki-full.nonblock.sections.tsv.gz\n",
            "dakshina_dataset_v1.0/bn/native_script_wikipedia/bn.wiki-full.omit_pages.txt.gz\n",
            "dakshina_dataset_v1.0/bn/native_script_wikipedia/bn.wiki-full.text.sorted.tsv.gz\n",
            "dakshina_dataset_v1.0/bn/native_script_wikipedia/bn.wiki-full.nonblock.sections.list.txt.gz\n",
            "dakshina_dataset_v1.0/bn/native_script_wikipedia/bn.wiki-full.urls.tsv.gz\n",
            "dakshina_dataset_v1.0/bn/native_script_wikipedia/bn.wiki-filt.valid.text.sorted.tsv.gz\n",
            "dakshina_dataset_v1.0/bn/native_script_wikipedia/bn.wiki-filt.valid.info.sorted.tsv.gz\n",
            "dakshina_dataset_v1.0/bn/romanized/\n",
            "dakshina_dataset_v1.0/bn/romanized/bn.romanized.rejoined.tsv\n",
            "dakshina_dataset_v1.0/bn/romanized/bn.romanized.rejoined.dev.native.txt\n",
            "dakshina_dataset_v1.0/bn/romanized/bn.romanized.split.tsv\n",
            "dakshina_dataset_v1.0/bn/romanized/bn.romanized.rejoined.dev.roman.txt\n",
            "dakshina_dataset_v1.0/bn/romanized/bn.romanized.rejoined.aligned.tsv\n",
            "dakshina_dataset_v1.0/bn/romanized/bn.romanized.split.validation.native.txt\n",
            "dakshina_dataset_v1.0/bn/romanized/bn.romanized.split.validation.edits.txt\n",
            "dakshina_dataset_v1.0/bn/romanized/bn.romanized.rejoined.aligned.cased_nopunct.tsv\n",
            "dakshina_dataset_v1.0/bn/romanized/bn.romanized.rejoined.test.roman.txt\n",
            "dakshina_dataset_v1.0/bn/romanized/bn.romanized.rejoined.test.native.txt\n",
            "dakshina_dataset_v1.0/gu/\n",
            "dakshina_dataset_v1.0/gu/lexicons/\n",
            "dakshina_dataset_v1.0/gu/lexicons/gu.translit.sampled.train.tsv\n",
            "dakshina_dataset_v1.0/gu/lexicons/gu.translit.sampled.test.tsv\n",
            "dakshina_dataset_v1.0/gu/lexicons/gu.translit.sampled.dev.tsv\n",
            "dakshina_dataset_v1.0/gu/native_script_wikipedia/\n",
            "dakshina_dataset_v1.0/gu/native_script_wikipedia/gu.wiki-filt.train.text.shuf.txt.gz\n",
            "dakshina_dataset_v1.0/gu/native_script_wikipedia/gu.wiki-full.nonblock.sections.list.txt.gz\n",
            "dakshina_dataset_v1.0/gu/native_script_wikipedia/gu.wiki-full.info.sorted.tsv.gz\n",
            "dakshina_dataset_v1.0/gu/native_script_wikipedia/gu.wiki-filt.valid.text.shuf.txt.gz\n",
            "dakshina_dataset_v1.0/gu/native_script_wikipedia/gu.wiki-filt.train.text.sorted.tsv.gz\n",
            "dakshina_dataset_v1.0/gu/native_script_wikipedia/gu.wiki-full.text.sorted.tsv.gz\n",
            "dakshina_dataset_v1.0/gu/native_script_wikipedia/gu.wiki-filt.train.info.sorted.tsv.gz\n",
            "dakshina_dataset_v1.0/gu/native_script_wikipedia/gu.wiki-full.nonblock.sections.tsv.gz\n",
            "dakshina_dataset_v1.0/gu/native_script_wikipedia/gu.wiki-full.omit_pages.txt.gz\n",
            "dakshina_dataset_v1.0/gu/native_script_wikipedia/gu.wiki-full.urls.tsv.gz\n",
            "dakshina_dataset_v1.0/gu/native_script_wikipedia/gu.wiki-filt.valid.text.sorted.tsv.gz\n",
            "dakshina_dataset_v1.0/gu/native_script_wikipedia/gu.wiki-filt.valid.info.sorted.tsv.gz\n",
            "dakshina_dataset_v1.0/gu/romanized/\n",
            "dakshina_dataset_v1.0/gu/romanized/gu.romanized.split.validation.edits.txt\n",
            "dakshina_dataset_v1.0/gu/romanized/gu.romanized.split.tsv\n",
            "dakshina_dataset_v1.0/gu/romanized/gu.romanized.rejoined.aligned.cased_nopunct.tsv\n",
            "dakshina_dataset_v1.0/gu/romanized/gu.romanized.rejoined.dev.roman.txt\n",
            "dakshina_dataset_v1.0/gu/romanized/gu.romanized.rejoined.aligned.tsv\n",
            "dakshina_dataset_v1.0/gu/romanized/gu.romanized.rejoined.test.native.txt\n",
            "dakshina_dataset_v1.0/gu/romanized/gu.romanized.rejoined.tsv\n",
            "dakshina_dataset_v1.0/gu/romanized/gu.romanized.rejoined.dev.native.txt\n",
            "dakshina_dataset_v1.0/gu/romanized/gu.romanized.rejoined.test.roman.txt\n",
            "dakshina_dataset_v1.0/gu/romanized/gu.romanized.split.validation.native.txt\n",
            "dakshina_dataset_v1.0/hi/\n",
            "dakshina_dataset_v1.0/hi/lexicons/\n",
            "dakshina_dataset_v1.0/hi/lexicons/hi.translit.sampled.dev.tsv\n",
            "dakshina_dataset_v1.0/hi/lexicons/hi.translit.sampled.train.tsv\n",
            "dakshina_dataset_v1.0/hi/lexicons/hi.translit.sampled.test.tsv\n",
            "dakshina_dataset_v1.0/hi/native_script_wikipedia/\n",
            "dakshina_dataset_v1.0/hi/native_script_wikipedia/hi.wiki-full.info.sorted.tsv.gz\n",
            "dakshina_dataset_v1.0/hi/native_script_wikipedia/hi.wiki-filt.valid.text.sorted.tsv.gz\n",
            "dakshina_dataset_v1.0/hi/native_script_wikipedia/hi.wiki-filt.train.text.sorted.tsv.gz\n",
            "dakshina_dataset_v1.0/hi/native_script_wikipedia/hi.wiki-full.urls.tsv.gz\n",
            "dakshina_dataset_v1.0/hi/native_script_wikipedia/hi.wiki-filt.valid.info.sorted.tsv.gz\n",
            "dakshina_dataset_v1.0/hi/native_script_wikipedia/hi.wiki-full.text.sorted.tsv.gz\n",
            "dakshina_dataset_v1.0/hi/native_script_wikipedia/hi.wiki-full.omit_pages.txt.gz\n",
            "dakshina_dataset_v1.0/hi/native_script_wikipedia/hi.wiki-filt.valid.text.shuf.txt.gz\n",
            "dakshina_dataset_v1.0/hi/native_script_wikipedia/hi.wiki-full.nonblock.sections.list.txt.gz\n",
            "dakshina_dataset_v1.0/hi/native_script_wikipedia/hi.wiki-filt.train.info.sorted.tsv.gz\n",
            "dakshina_dataset_v1.0/hi/native_script_wikipedia/hi.wiki-full.nonblock.sections.tsv.gz\n",
            "dakshina_dataset_v1.0/hi/native_script_wikipedia/hi.wiki-filt.train.text.shuf.txt.gz\n",
            "dakshina_dataset_v1.0/hi/romanized/\n",
            "dakshina_dataset_v1.0/hi/romanized/hi.romanized.rejoined.aligned.tsv\n",
            "dakshina_dataset_v1.0/hi/romanized/hi.romanized.split.validation.native.txt\n",
            "dakshina_dataset_v1.0/hi/romanized/hi.romanized.rejoined.tsv\n",
            "dakshina_dataset_v1.0/hi/romanized/hi.romanized.rejoined.dev.roman.txt\n",
            "dakshina_dataset_v1.0/hi/romanized/hi.romanized.rejoined.dev.native.txt\n",
            "dakshina_dataset_v1.0/hi/romanized/hi.romanized.rejoined.test.native.txt\n",
            "dakshina_dataset_v1.0/hi/romanized/hi.romanized.split.validation.edits.txt\n",
            "dakshina_dataset_v1.0/hi/romanized/hi.romanized.rejoined.test.roman.txt\n",
            "dakshina_dataset_v1.0/hi/romanized/hi.romanized.split.tsv\n",
            "dakshina_dataset_v1.0/hi/romanized/hi.romanized.rejoined.aligned.cased_nopunct.tsv\n",
            "dakshina_dataset_v1.0/kn/\n",
            "dakshina_dataset_v1.0/kn/lexicons/\n",
            "dakshina_dataset_v1.0/kn/lexicons/kn.translit.sampled.train.tsv\n",
            "dakshina_dataset_v1.0/kn/lexicons/kn.translit.sampled.dev.tsv\n",
            "dakshina_dataset_v1.0/kn/lexicons/kn.translit.sampled.test.tsv\n",
            "dakshina_dataset_v1.0/kn/native_script_wikipedia/\n",
            "dakshina_dataset_v1.0/kn/native_script_wikipedia/kn.wiki-full.text.sorted.tsv.gz\n",
            "dakshina_dataset_v1.0/kn/native_script_wikipedia/kn.wiki-filt.valid.text.shuf.txt.gz\n",
            "dakshina_dataset_v1.0/kn/native_script_wikipedia/kn.wiki-filt.valid.info.sorted.tsv.gz\n",
            "dakshina_dataset_v1.0/kn/native_script_wikipedia/kn.wiki-filt.train.text.shuf.txt.gz\n",
            "dakshina_dataset_v1.0/kn/native_script_wikipedia/kn.wiki-full.info.sorted.tsv.gz\n",
            "dakshina_dataset_v1.0/kn/native_script_wikipedia/kn.wiki-full.nonblock.sections.list.txt.gz\n",
            "dakshina_dataset_v1.0/kn/native_script_wikipedia/kn.wiki-full.urls.tsv.gz\n",
            "dakshina_dataset_v1.0/kn/native_script_wikipedia/kn.wiki-full.nonblock.sections.tsv.gz\n",
            "dakshina_dataset_v1.0/kn/native_script_wikipedia/kn.wiki-filt.valid.text.sorted.tsv.gz\n",
            "dakshina_dataset_v1.0/kn/native_script_wikipedia/kn.wiki-filt.train.text.sorted.tsv.gz\n",
            "dakshina_dataset_v1.0/kn/native_script_wikipedia/kn.wiki-filt.train.info.sorted.tsv.gz\n",
            "dakshina_dataset_v1.0/kn/native_script_wikipedia/kn.wiki-full.omit_pages.txt.gz\n",
            "dakshina_dataset_v1.0/kn/romanized/\n",
            "dakshina_dataset_v1.0/kn/romanized/kn.romanized.split.validation.edits.txt\n",
            "dakshina_dataset_v1.0/kn/romanized/kn.romanized.rejoined.dev.native.txt\n",
            "dakshina_dataset_v1.0/kn/romanized/kn.romanized.rejoined.test.roman.txt\n",
            "dakshina_dataset_v1.0/kn/romanized/kn.romanized.split.validation.native.txt\n",
            "dakshina_dataset_v1.0/kn/romanized/kn.romanized.rejoined.tsv\n",
            "dakshina_dataset_v1.0/kn/romanized/kn.romanized.rejoined.test.native.txt\n",
            "dakshina_dataset_v1.0/kn/romanized/kn.romanized.rejoined.dev.roman.txt\n",
            "dakshina_dataset_v1.0/kn/romanized/kn.romanized.rejoined.aligned.cased_nopunct.tsv\n",
            "dakshina_dataset_v1.0/kn/romanized/kn.romanized.split.tsv\n",
            "dakshina_dataset_v1.0/kn/romanized/kn.romanized.rejoined.aligned.tsv\n",
            "dakshina_dataset_v1.0/ml/\n",
            "dakshina_dataset_v1.0/ml/lexicons/\n",
            "dakshina_dataset_v1.0/ml/lexicons/ml.translit.sampled.train.tsv\n",
            "dakshina_dataset_v1.0/ml/lexicons/tmp.rom.txt\n",
            "dakshina_dataset_v1.0/ml/lexicons/tmp.tsv\n",
            "dakshina_dataset_v1.0/ml/lexicons/ml.translit.sampled.dev.tsv\n",
            "dakshina_dataset_v1.0/ml/lexicons/ml.translit.sampled.test.tsv\n",
            "dakshina_dataset_v1.0/ml/native_script_wikipedia/\n",
            "dakshina_dataset_v1.0/ml/native_script_wikipedia/ml.wiki-full.omit_pages.txt.gz\n",
            "dakshina_dataset_v1.0/ml/native_script_wikipedia/ml.wiki-filt.valid.info.sorted.tsv.gz\n",
            "dakshina_dataset_v1.0/ml/native_script_wikipedia/ml.wiki-full.info.sorted.tsv.gz\n",
            "dakshina_dataset_v1.0/ml/native_script_wikipedia/ml.wiki-filt.train.text.shuf.txt.gz\n",
            "dakshina_dataset_v1.0/ml/native_script_wikipedia/ml.wiki-full.text.sorted.tsv.gz\n",
            "dakshina_dataset_v1.0/ml/native_script_wikipedia/ml.wiki-filt.valid.text.sorted.tsv.gz\n",
            "dakshina_dataset_v1.0/ml/native_script_wikipedia/ml.wiki-full.nonblock.sections.list.txt.gz\n",
            "dakshina_dataset_v1.0/ml/native_script_wikipedia/ml.wiki-full.nonblock.sections.tsv.gz\n",
            "dakshina_dataset_v1.0/ml/native_script_wikipedia/ml.wiki-filt.train.text.sorted.tsv.gz\n",
            "dakshina_dataset_v1.0/ml/native_script_wikipedia/ml.wiki-full.urls.tsv.gz\n",
            "dakshina_dataset_v1.0/ml/native_script_wikipedia/ml.wiki-filt.valid.text.shuf.txt.gz\n",
            "dakshina_dataset_v1.0/ml/native_script_wikipedia/ml.wiki-filt.train.info.sorted.tsv.gz\n",
            "dakshina_dataset_v1.0/ml/romanized/\n",
            "dakshina_dataset_v1.0/ml/romanized/ml.romanized.rejoined.tsv\n",
            "dakshina_dataset_v1.0/ml/romanized/ml.romanized.rejoined.test.roman.txt\n",
            "dakshina_dataset_v1.0/ml/romanized/ml.romanized.split.validation.edits.txt\n",
            "dakshina_dataset_v1.0/ml/romanized/ml.romanized.rejoined.dev.roman.txt\n",
            "dakshina_dataset_v1.0/ml/romanized/ml.romanized.rejoined.test.native.txt\n",
            "dakshina_dataset_v1.0/ml/romanized/ml.romanized.rejoined.dev.native.txt\n",
            "dakshina_dataset_v1.0/ml/romanized/ml.romanized.rejoined.aligned.cased_nopunct.tsv\n",
            "dakshina_dataset_v1.0/ml/romanized/ml.romanized.split.tsv\n",
            "dakshina_dataset_v1.0/ml/romanized/ml.romanized.rejoined.aligned.tsv\n",
            "dakshina_dataset_v1.0/ml/romanized/ml.romanized.split.validation.native.txt\n",
            "dakshina_dataset_v1.0/mr/\n",
            "dakshina_dataset_v1.0/mr/lexicons/\n",
            "dakshina_dataset_v1.0/mr/lexicons/mr.translit.sampled.test.tsv\n",
            "dakshina_dataset_v1.0/mr/lexicons/mr.translit.sampled.train.tsv\n",
            "dakshina_dataset_v1.0/mr/lexicons/mr.translit.sampled.dev.tsv\n",
            "dakshina_dataset_v1.0/mr/native_script_wikipedia/\n",
            "dakshina_dataset_v1.0/mr/native_script_wikipedia/mr.wiki-full.omit_pages.txt.gz\n",
            "dakshina_dataset_v1.0/mr/native_script_wikipedia/mr.wiki-filt.train.text.sorted.tsv.gz\n",
            "dakshina_dataset_v1.0/mr/native_script_wikipedia/mr.wiki-full.nonblock.sections.list.txt.gz\n",
            "dakshina_dataset_v1.0/mr/native_script_wikipedia/mr.wiki-full.text.sorted.tsv.gz\n",
            "dakshina_dataset_v1.0/mr/native_script_wikipedia/mr.wiki-filt.valid.info.sorted.tsv.gz\n",
            "dakshina_dataset_v1.0/mr/native_script_wikipedia/mr.wiki-filt.train.text.shuf.txt.gz\n",
            "dakshina_dataset_v1.0/mr/native_script_wikipedia/mr.wiki-full.info.sorted.tsv.gz\n",
            "dakshina_dataset_v1.0/mr/native_script_wikipedia/mr.wiki-filt.valid.text.shuf.txt.gz\n",
            "dakshina_dataset_v1.0/mr/native_script_wikipedia/mr.wiki-full.urls.tsv.gz\n",
            "dakshina_dataset_v1.0/mr/native_script_wikipedia/mr.wiki-filt.valid.text.sorted.tsv.gz\n",
            "dakshina_dataset_v1.0/mr/native_script_wikipedia/mr.wiki-filt.train.info.sorted.tsv.gz\n",
            "dakshina_dataset_v1.0/mr/native_script_wikipedia/mr.wiki-full.nonblock.sections.tsv.gz\n",
            "dakshina_dataset_v1.0/mr/romanized/\n",
            "dakshina_dataset_v1.0/mr/romanized/mr.romanized.split.tsv\n",
            "dakshina_dataset_v1.0/mr/romanized/mr.romanized.rejoined.dev.roman.txt\n",
            "dakshina_dataset_v1.0/mr/romanized/mr.romanized.split.validation.native.txt\n",
            "dakshina_dataset_v1.0/mr/romanized/mr.romanized.rejoined.test.roman.txt\n",
            "dakshina_dataset_v1.0/mr/romanized/mr.romanized.rejoined.test.native.txt\n",
            "dakshina_dataset_v1.0/mr/romanized/mr.romanized.rejoined.dev.native.txt\n",
            "dakshina_dataset_v1.0/mr/romanized/mr.romanized.rejoined.tsv\n",
            "dakshina_dataset_v1.0/mr/romanized/mr.romanized.rejoined.aligned.tsv\n",
            "dakshina_dataset_v1.0/mr/romanized/mr.romanized.split.validation.edits.txt\n",
            "dakshina_dataset_v1.0/mr/romanized/mr.romanized.rejoined.aligned.cased_nopunct.tsv\n",
            "dakshina_dataset_v1.0/pa/\n",
            "dakshina_dataset_v1.0/pa/lexicons/\n",
            "dakshina_dataset_v1.0/pa/lexicons/pa.translit.sampled.dev.tsv\n",
            "dakshina_dataset_v1.0/pa/lexicons/pa.translit.sampled.test.tsv\n",
            "dakshina_dataset_v1.0/pa/lexicons/pa.translit.sampled.train.tsv\n",
            "dakshina_dataset_v1.0/pa/native_script_wikipedia/\n",
            "dakshina_dataset_v1.0/pa/native_script_wikipedia/pa.wiki-full.omit_pages.txt.gz\n",
            "dakshina_dataset_v1.0/pa/native_script_wikipedia/pa.wiki-full.text.sorted.tsv.gz\n",
            "dakshina_dataset_v1.0/pa/native_script_wikipedia/pa.wiki-filt.train.text.shuf.txt.gz\n",
            "dakshina_dataset_v1.0/pa/native_script_wikipedia/pa.wiki-filt.train.text.sorted.tsv.gz\n",
            "dakshina_dataset_v1.0/pa/native_script_wikipedia/pa.wiki-full.urls.tsv.gz\n",
            "dakshina_dataset_v1.0/pa/native_script_wikipedia/pa.wiki-full.info.sorted.tsv.gz\n",
            "dakshina_dataset_v1.0/pa/native_script_wikipedia/pa.wiki-filt.valid.info.sorted.tsv.gz\n",
            "dakshina_dataset_v1.0/pa/native_script_wikipedia/pa.wiki-filt.train.info.sorted.tsv.gz\n",
            "dakshina_dataset_v1.0/pa/native_script_wikipedia/pa.wiki-full.nonblock.sections.tsv.gz\n",
            "dakshina_dataset_v1.0/pa/native_script_wikipedia/pa.wiki-filt.valid.text.sorted.tsv.gz\n",
            "dakshina_dataset_v1.0/pa/native_script_wikipedia/pa.wiki-filt.valid.text.shuf.txt.gz\n",
            "dakshina_dataset_v1.0/pa/native_script_wikipedia/pa.wiki-full.nonblock.sections.list.txt.gz\n",
            "dakshina_dataset_v1.0/pa/romanized/\n",
            "dakshina_dataset_v1.0/pa/romanized/pa.romanized.rejoined.aligned.tsv\n",
            "dakshina_dataset_v1.0/pa/romanized/pa.romanized.rejoined.dev.roman.txt\n",
            "dakshina_dataset_v1.0/pa/romanized/pa.romanized.rejoined.test.roman.txt\n",
            "dakshina_dataset_v1.0/pa/romanized/pa.romanized.split.tsv\n",
            "dakshina_dataset_v1.0/pa/romanized/pa.romanized.rejoined.dev.native.txt\n",
            "dakshina_dataset_v1.0/pa/romanized/pa.romanized.split.validation.native.txt\n",
            "dakshina_dataset_v1.0/pa/romanized/pa.romanized.rejoined.aligned.cased_nopunct.tsv\n",
            "dakshina_dataset_v1.0/pa/romanized/pa.romanized.rejoined.tsv\n",
            "dakshina_dataset_v1.0/pa/romanized/pa.romanized.split.validation.edits.txt\n",
            "dakshina_dataset_v1.0/pa/romanized/pa.romanized.rejoined.test.native.txt\n",
            "dakshina_dataset_v1.0/sd/\n",
            "dakshina_dataset_v1.0/sd/lexicons/\n",
            "dakshina_dataset_v1.0/sd/lexicons/sd.translit.sampled.train.tsv\n",
            "dakshina_dataset_v1.0/sd/lexicons/sd.translit.sampled.test.tsv\n",
            "dakshina_dataset_v1.0/sd/lexicons/sd.translit.sampled.dev.tsv\n",
            "dakshina_dataset_v1.0/sd/native_script_wikipedia/\n",
            "dakshina_dataset_v1.0/sd/native_script_wikipedia/sd.wiki-full.nonblock.sections.tsv.gz\n",
            "dakshina_dataset_v1.0/sd/native_script_wikipedia/sd.wiki-filt.valid.text.shuf.txt.gz\n",
            "dakshina_dataset_v1.0/sd/native_script_wikipedia/sd.wiki-full.omit_pages.txt.gz\n",
            "dakshina_dataset_v1.0/sd/native_script_wikipedia/sd.wiki-filt.train.info.sorted.tsv.gz\n",
            "dakshina_dataset_v1.0/sd/native_script_wikipedia/sd.wiki-full.urls.tsv.gz\n",
            "dakshina_dataset_v1.0/sd/native_script_wikipedia/sd.wiki-filt.valid.info.sorted.tsv.gz\n",
            "dakshina_dataset_v1.0/sd/native_script_wikipedia/sd.wiki-filt.train.text.sorted.tsv.gz\n",
            "dakshina_dataset_v1.0/sd/native_script_wikipedia/sd.wiki-full.text.sorted.tsv.gz\n",
            "dakshina_dataset_v1.0/sd/native_script_wikipedia/sd.wiki-filt.train.text.shuf.txt.gz\n",
            "dakshina_dataset_v1.0/sd/native_script_wikipedia/sd.wiki-filt.valid.text.sorted.tsv.gz\n",
            "dakshina_dataset_v1.0/sd/native_script_wikipedia/sd.wiki-full.info.sorted.tsv.gz\n",
            "dakshina_dataset_v1.0/sd/native_script_wikipedia/sd.wiki-full.nonblock.sections.list.txt.gz\n",
            "dakshina_dataset_v1.0/sd/romanized/\n",
            "dakshina_dataset_v1.0/sd/romanized/sd.romanized.rejoined.dev.roman.txt\n",
            "dakshina_dataset_v1.0/sd/romanized/sd.romanized.split.tsv\n",
            "dakshina_dataset_v1.0/sd/romanized/sd.romanized.split.validation.native.txt\n",
            "dakshina_dataset_v1.0/sd/romanized/sd.romanized.rejoined.dev.native.txt\n",
            "dakshina_dataset_v1.0/sd/romanized/sd.romanized.rejoined.aligned.cased_nopunct.tsv\n",
            "dakshina_dataset_v1.0/sd/romanized/sd.romanized.rejoined.test.native.txt\n",
            "dakshina_dataset_v1.0/sd/romanized/sd.romanized.split.validation.edits.txt\n",
            "dakshina_dataset_v1.0/sd/romanized/sd.romanized.rejoined.aligned.tsv\n",
            "dakshina_dataset_v1.0/sd/romanized/sd.romanized.rejoined.test.roman.txt\n",
            "dakshina_dataset_v1.0/sd/romanized/sd.romanized.rejoined.tsv\n",
            "dakshina_dataset_v1.0/si/\n",
            "dakshina_dataset_v1.0/si/lexicons/\n",
            "dakshina_dataset_v1.0/si/lexicons/si.translit.sampled.test.tsv\n",
            "dakshina_dataset_v1.0/si/lexicons/si.translit.sampled.train.tsv\n",
            "dakshina_dataset_v1.0/si/lexicons/si.translit.sampled.dev.tsv\n",
            "dakshina_dataset_v1.0/si/native_script_wikipedia/\n",
            "dakshina_dataset_v1.0/si/native_script_wikipedia/si.wiki-full.urls.tsv.gz\n",
            "dakshina_dataset_v1.0/si/native_script_wikipedia/si.wiki-full.text.sorted.tsv.gz\n",
            "dakshina_dataset_v1.0/si/native_script_wikipedia/si.wiki-filt.train.info.sorted.tsv.gz\n",
            "dakshina_dataset_v1.0/si/native_script_wikipedia/si.wiki-full.omit_pages.txt.gz\n",
            "dakshina_dataset_v1.0/si/native_script_wikipedia/si.wiki-filt.train.text.shuf.txt.gz\n",
            "dakshina_dataset_v1.0/si/native_script_wikipedia/si.wiki-full.nonblock.sections.list.txt.gz\n",
            "dakshina_dataset_v1.0/si/native_script_wikipedia/si.wiki-filt.valid.info.sorted.tsv.gz\n",
            "dakshina_dataset_v1.0/si/native_script_wikipedia/si.wiki-full.nonblock.sections.tsv.gz\n",
            "dakshina_dataset_v1.0/si/native_script_wikipedia/si.wiki-filt.valid.text.shuf.txt.gz\n",
            "dakshina_dataset_v1.0/si/native_script_wikipedia/si.wiki-full.info.sorted.tsv.gz\n",
            "dakshina_dataset_v1.0/si/native_script_wikipedia/si.wiki-filt.train.text.sorted.tsv.gz\n",
            "dakshina_dataset_v1.0/si/native_script_wikipedia/si.wiki-filt.valid.text.sorted.tsv.gz\n",
            "dakshina_dataset_v1.0/si/romanized/\n",
            "dakshina_dataset_v1.0/si/romanized/si.romanized.split.tsv\n",
            "dakshina_dataset_v1.0/si/romanized/si.romanized.rejoined.test.native.txt\n",
            "dakshina_dataset_v1.0/si/romanized/si.romanized.rejoined.aligned.tsv\n",
            "dakshina_dataset_v1.0/si/romanized/si.romanized.rejoined.dev.native.txt\n",
            "dakshina_dataset_v1.0/si/romanized/si.romanized.rejoined.dev.roman.txt\n",
            "dakshina_dataset_v1.0/si/romanized/si.romanized.rejoined.test.roman.txt\n",
            "dakshina_dataset_v1.0/si/romanized/si.romanized.rejoined.aligned.cased_nopunct.tsv\n",
            "dakshina_dataset_v1.0/si/romanized/si.romanized.split.validation.edits.txt\n",
            "dakshina_dataset_v1.0/si/romanized/si.romanized.rejoined.tsv\n",
            "dakshina_dataset_v1.0/si/romanized/si.romanized.split.validation.native.txt\n",
            "dakshina_dataset_v1.0/ta/\n",
            "dakshina_dataset_v1.0/ta/lexicons/\n",
            "dakshina_dataset_v1.0/ta/lexicons/ta.translit.sampled.train.tsv\n",
            "dakshina_dataset_v1.0/ta/lexicons/ta.translit.sampled.dev.tsv\n",
            "dakshina_dataset_v1.0/ta/lexicons/ta.translit.sampled.test.tsv\n",
            "dakshina_dataset_v1.0/ta/native_script_wikipedia/\n",
            "dakshina_dataset_v1.0/ta/native_script_wikipedia/ta.wiki-filt.valid.text.shuf.txt.gz\n",
            "dakshina_dataset_v1.0/ta/native_script_wikipedia/ta.wiki-full.nonblock.sections.list.txt.gz\n",
            "dakshina_dataset_v1.0/ta/native_script_wikipedia/ta.wiki-filt.train.text.sorted.tsv.gz\n",
            "dakshina_dataset_v1.0/ta/native_script_wikipedia/ta.wiki-full.nonblock.sections.tsv.gz\n",
            "dakshina_dataset_v1.0/ta/native_script_wikipedia/ta.wiki-filt.valid.info.sorted.tsv.gz\n",
            "dakshina_dataset_v1.0/ta/native_script_wikipedia/ta.wiki-full.text.sorted.tsv.gz\n",
            "dakshina_dataset_v1.0/ta/native_script_wikipedia/ta.wiki-full.urls.tsv.gz\n",
            "dakshina_dataset_v1.0/ta/native_script_wikipedia/ta.wiki-filt.train.text.shuf.txt.gz\n",
            "dakshina_dataset_v1.0/ta/native_script_wikipedia/ta.wiki-filt.valid.text.sorted.tsv.gz\n",
            "dakshina_dataset_v1.0/ta/native_script_wikipedia/ta.wiki-full.info.sorted.tsv.gz\n",
            "dakshina_dataset_v1.0/ta/native_script_wikipedia/ta.wiki-full.omit_pages.txt.gz\n",
            "dakshina_dataset_v1.0/ta/native_script_wikipedia/ta.wiki-filt.train.info.sorted.tsv.gz\n",
            "dakshina_dataset_v1.0/ta/romanized/\n",
            "dakshina_dataset_v1.0/ta/romanized/ta.romanized.rejoined.aligned.tsv\n",
            "dakshina_dataset_v1.0/ta/romanized/ta.romanized.rejoined.dev.roman.txt\n",
            "dakshina_dataset_v1.0/ta/romanized/ta.romanized.rejoined.aligned.cased_nopunct.tsv\n",
            "dakshina_dataset_v1.0/ta/romanized/ta.romanized.rejoined.tsv\n",
            "dakshina_dataset_v1.0/ta/romanized/ta.romanized.split.validation.native.txt\n",
            "dakshina_dataset_v1.0/ta/romanized/ta.romanized.rejoined.test.roman.txt\n",
            "dakshina_dataset_v1.0/ta/romanized/ta.romanized.split.tsv\n",
            "dakshina_dataset_v1.0/ta/romanized/ta.romanized.rejoined.dev.native.txt\n",
            "dakshina_dataset_v1.0/ta/romanized/ta.romanized.split.validation.edits.txt\n",
            "dakshina_dataset_v1.0/ta/romanized/ta.romanized.rejoined.test.native.txt\n",
            "dakshina_dataset_v1.0/te/\n",
            "dakshina_dataset_v1.0/te/lexicons/\n",
            "dakshina_dataset_v1.0/te/lexicons/te.translit.sampled.dev.tsv\n",
            "dakshina_dataset_v1.0/te/lexicons/te.translit.sampled.test.tsv\n",
            "dakshina_dataset_v1.0/te/lexicons/te.translit.sampled.train.tsv\n",
            "dakshina_dataset_v1.0/te/native_script_wikipedia/\n",
            "dakshina_dataset_v1.0/te/native_script_wikipedia/te.wiki-full.info.sorted.tsv.gz\n",
            "dakshina_dataset_v1.0/te/native_script_wikipedia/te.wiki-filt.valid.info.sorted.tsv.gz\n",
            "dakshina_dataset_v1.0/te/native_script_wikipedia/te.wiki-full.text.sorted.tsv.gz\n",
            "dakshina_dataset_v1.0/te/native_script_wikipedia/te.wiki-filt.train.text.shuf.txt.gz\n",
            "dakshina_dataset_v1.0/te/native_script_wikipedia/te.wiki-filt.valid.text.shuf.txt.gz\n",
            "dakshina_dataset_v1.0/te/native_script_wikipedia/te.wiki-filt.train.text.sorted.tsv.gz\n",
            "dakshina_dataset_v1.0/te/native_script_wikipedia/te.wiki-full.omit_pages.txt.gz\n",
            "dakshina_dataset_v1.0/te/native_script_wikipedia/te.wiki-full.urls.tsv.gz\n",
            "dakshina_dataset_v1.0/te/native_script_wikipedia/te.wiki-full.nonblock.sections.tsv.gz\n",
            "dakshina_dataset_v1.0/te/native_script_wikipedia/te.wiki-full.nonblock.sections.list.txt.gz\n",
            "dakshina_dataset_v1.0/te/native_script_wikipedia/te.wiki-filt.train.info.sorted.tsv.gz\n",
            "dakshina_dataset_v1.0/te/native_script_wikipedia/te.wiki-filt.valid.text.sorted.tsv.gz\n",
            "dakshina_dataset_v1.0/te/romanized/\n",
            "dakshina_dataset_v1.0/te/romanized/te.romanized.rejoined.tsv\n",
            "dakshina_dataset_v1.0/te/romanized/te.romanized.rejoined.aligned.cased_nopunct.tsv\n",
            "dakshina_dataset_v1.0/te/romanized/te.romanized.rejoined.dev.roman.txt\n",
            "dakshina_dataset_v1.0/te/romanized/te.romanized.rejoined.dev.native.txt\n",
            "dakshina_dataset_v1.0/te/romanized/te.romanized.split.validation.native.txt\n",
            "dakshina_dataset_v1.0/te/romanized/te.romanized.rejoined.test.native.txt\n",
            "dakshina_dataset_v1.0/te/romanized/te.romanized.split.validation.edits.txt\n",
            "dakshina_dataset_v1.0/te/romanized/te.romanized.rejoined.aligned.tsv\n",
            "dakshina_dataset_v1.0/te/romanized/te.romanized.split.tsv\n",
            "dakshina_dataset_v1.0/te/romanized/te.romanized.rejoined.test.roman.txt\n",
            "dakshina_dataset_v1.0/ur/\n",
            "dakshina_dataset_v1.0/ur/lexicons/\n",
            "dakshina_dataset_v1.0/ur/lexicons/ur.translit.sampled.train.tsv\n",
            "dakshina_dataset_v1.0/ur/lexicons/ur.translit.sampled.test.tsv\n",
            "dakshina_dataset_v1.0/ur/lexicons/ur.translit.sampled.dev.tsv\n",
            "dakshina_dataset_v1.0/ur/native_script_wikipedia/\n",
            "dakshina_dataset_v1.0/ur/native_script_wikipedia/ur.wiki-filt.valid.text.sorted.tsv.gz\n",
            "dakshina_dataset_v1.0/ur/native_script_wikipedia/ur.wiki-full.nonblock.sections.tsv.gz\n",
            "dakshina_dataset_v1.0/ur/native_script_wikipedia/ur.wiki-full.info.sorted.tsv.gz\n",
            "dakshina_dataset_v1.0/ur/native_script_wikipedia/ur.wiki-full.text.sorted.tsv.gz\n",
            "dakshina_dataset_v1.0/ur/native_script_wikipedia/ur.wiki-full.omit_pages.txt.gz\n",
            "dakshina_dataset_v1.0/ur/native_script_wikipedia/ur.wiki-filt.train.text.sorted.tsv.gz\n",
            "dakshina_dataset_v1.0/ur/native_script_wikipedia/ur.wiki-full.urls.tsv.gz\n",
            "dakshina_dataset_v1.0/ur/native_script_wikipedia/ur.wiki-filt.train.text.shuf.txt.gz\n",
            "dakshina_dataset_v1.0/ur/native_script_wikipedia/ur.wiki-full.nonblock.sections.list.txt.gz\n",
            "dakshina_dataset_v1.0/ur/native_script_wikipedia/ur.wiki-filt.valid.info.sorted.tsv.gz\n",
            "dakshina_dataset_v1.0/ur/native_script_wikipedia/ur.wiki-filt.valid.text.shuf.txt.gz\n",
            "dakshina_dataset_v1.0/ur/native_script_wikipedia/ur.wiki-filt.train.info.sorted.tsv.gz\n",
            "dakshina_dataset_v1.0/ur/romanized/\n",
            "dakshina_dataset_v1.0/ur/romanized/ur.romanized.rejoined.tsv\n",
            "dakshina_dataset_v1.0/ur/romanized/ur.romanized.rejoined.dev.roman.txt\n",
            "dakshina_dataset_v1.0/ur/romanized/ur.romanized.split.validation.native.txt\n",
            "dakshina_dataset_v1.0/ur/romanized/ur.romanized.rejoined.aligned.cased_nopunct.tsv\n",
            "dakshina_dataset_v1.0/ur/romanized/ur.romanized.rejoined.dev.native.txt\n",
            "dakshina_dataset_v1.0/ur/romanized/ur.romanized.rejoined.test.native.txt\n",
            "dakshina_dataset_v1.0/ur/romanized/ur.romanized.split.validation.edits.txt\n",
            "dakshina_dataset_v1.0/ur/romanized/ur.romanized.rejoined.aligned.tsv\n",
            "dakshina_dataset_v1.0/ur/romanized/ur.romanized.split.tsv\n",
            "dakshina_dataset_v1.0/ur/romanized/ur.romanized.rejoined.test.roman.txt\n",
            "dakshina_dataset_v1.0/README.md\n"
          ]
        }
      ]
    },
    {
      "cell_type": "code",
      "source": [
        "!pip install wandb\n",
        "!wandb login\n",
        "import wandb\n",
        "from wandb.keras import WandbCallback"
      ],
      "metadata": {
        "colab": {
          "base_uri": "https://localhost:8080/"
        },
        "id": "qck0iG7IyN60",
        "outputId": "d0d4e762-c2fa-43b6-9b6f-fdc0bdd2b042"
      },
      "execution_count": 3,
      "outputs": [
        {
          "output_type": "stream",
          "name": "stdout",
          "text": [
            "Collecting wandb\n",
            "  Downloading wandb-0.12.14-py2.py3-none-any.whl (1.8 MB)\n",
            "\u001b[K     |████████████████████████████████| 1.8 MB 3.9 MB/s \n",
            "\u001b[?25hRequirement already satisfied: PyYAML in /usr/local/lib/python3.7/dist-packages (from wandb) (3.13)\n",
            "Collecting shortuuid>=0.5.0\n",
            "  Downloading shortuuid-1.0.8-py3-none-any.whl (9.5 kB)\n",
            "Requirement already satisfied: requests<3,>=2.0.0 in /usr/local/lib/python3.7/dist-packages (from wandb) (2.23.0)\n",
            "Collecting docker-pycreds>=0.4.0\n",
            "  Downloading docker_pycreds-0.4.0-py2.py3-none-any.whl (9.0 kB)\n",
            "Requirement already satisfied: psutil>=5.0.0 in /usr/local/lib/python3.7/dist-packages (from wandb) (5.4.8)\n",
            "Collecting pathtools\n",
            "  Downloading pathtools-0.1.2.tar.gz (11 kB)\n",
            "Collecting sentry-sdk>=1.0.0\n",
            "  Downloading sentry_sdk-1.5.10-py2.py3-none-any.whl (144 kB)\n",
            "\u001b[K     |████████████████████████████████| 144 kB 40.7 MB/s \n",
            "\u001b[?25hRequirement already satisfied: promise<3,>=2.0 in /usr/local/lib/python3.7/dist-packages (from wandb) (2.3)\n",
            "Requirement already satisfied: python-dateutil>=2.6.1 in /usr/local/lib/python3.7/dist-packages (from wandb) (2.8.2)\n",
            "Requirement already satisfied: protobuf>=3.12.0 in /usr/local/lib/python3.7/dist-packages (from wandb) (3.17.3)\n",
            "Requirement already satisfied: six>=1.13.0 in /usr/local/lib/python3.7/dist-packages (from wandb) (1.15.0)\n",
            "Requirement already satisfied: Click!=8.0.0,>=7.0 in /usr/local/lib/python3.7/dist-packages (from wandb) (7.1.2)\n",
            "Collecting GitPython>=1.0.0\n",
            "  Downloading GitPython-3.1.27-py3-none-any.whl (181 kB)\n",
            "\u001b[K     |████████████████████████████████| 181 kB 15.5 MB/s \n",
            "\u001b[?25hCollecting setproctitle\n",
            "  Downloading setproctitle-1.2.3-cp37-cp37m-manylinux_2_5_x86_64.manylinux1_x86_64.manylinux_2_17_x86_64.manylinux2014_x86_64.whl (29 kB)\n",
            "Collecting gitdb<5,>=4.0.1\n",
            "  Downloading gitdb-4.0.9-py3-none-any.whl (63 kB)\n",
            "\u001b[K     |████████████████████████████████| 63 kB 906 kB/s \n",
            "\u001b[?25hRequirement already satisfied: typing-extensions>=3.7.4.3 in /usr/local/lib/python3.7/dist-packages (from GitPython>=1.0.0->wandb) (4.1.1)\n",
            "Collecting smmap<6,>=3.0.1\n",
            "  Downloading smmap-5.0.0-py3-none-any.whl (24 kB)\n",
            "Requirement already satisfied: idna<3,>=2.5 in /usr/local/lib/python3.7/dist-packages (from requests<3,>=2.0.0->wandb) (2.10)\n",
            "Requirement already satisfied: chardet<4,>=3.0.2 in /usr/local/lib/python3.7/dist-packages (from requests<3,>=2.0.0->wandb) (3.0.4)\n",
            "Requirement already satisfied: urllib3!=1.25.0,!=1.25.1,<1.26,>=1.21.1 in /usr/local/lib/python3.7/dist-packages (from requests<3,>=2.0.0->wandb) (1.24.3)\n",
            "Requirement already satisfied: certifi>=2017.4.17 in /usr/local/lib/python3.7/dist-packages (from requests<3,>=2.0.0->wandb) (2021.10.8)\n",
            "Building wheels for collected packages: pathtools\n",
            "  Building wheel for pathtools (setup.py) ... \u001b[?25l\u001b[?25hdone\n",
            "  Created wheel for pathtools: filename=pathtools-0.1.2-py3-none-any.whl size=8806 sha256=99141184921493f62b4f293bddaae330cfe02a588692018c241cc613df903730\n",
            "  Stored in directory: /root/.cache/pip/wheels/3e/31/09/fa59cef12cdcfecc627b3d24273699f390e71828921b2cbba2\n",
            "Successfully built pathtools\n",
            "Installing collected packages: smmap, gitdb, shortuuid, setproctitle, sentry-sdk, pathtools, GitPython, docker-pycreds, wandb\n",
            "Successfully installed GitPython-3.1.27 docker-pycreds-0.4.0 gitdb-4.0.9 pathtools-0.1.2 sentry-sdk-1.5.10 setproctitle-1.2.3 shortuuid-1.0.8 smmap-5.0.0 wandb-0.12.14\n",
            "\u001b[34m\u001b[1mwandb\u001b[0m: You can find your API key in your browser here: https://wandb.ai/authorize\n",
            "\u001b[34m\u001b[1mwandb\u001b[0m: Paste an API key from your profile and hit enter, or press ctrl+c to quit: \n",
            "\u001b[34m\u001b[1mwandb\u001b[0m: Appending key for api.wandb.ai to your netrc file: /root/.netrc\n"
          ]
        }
      ]
    },
    {
      "cell_type": "code",
      "source": [
        "# wandb.init(project=\"DeepLearningAssignment-3\", entity='cs21s002-ee21s113-dlassignment-1')"
      ],
      "metadata": {
        "id": "SFfsHST6z4y4"
      },
      "execution_count": 4,
      "outputs": []
    },
    {
      "cell_type": "code",
      "source": [
        "wandb.init(project=\"DeepLearningAssignment-3\", entity='akshaygrao')"
      ],
      "metadata": {
        "colab": {
          "base_uri": "https://localhost:8080/",
          "height": 109
        },
        "id": "lxSP8Ba92LEB",
        "outputId": "12c5098e-55c6-411a-a1b2-ef4d7849e07a"
      },
      "execution_count": 5,
      "outputs": [
        {
          "output_type": "stream",
          "name": "stderr",
          "text": [
            "\u001b[34m\u001b[1mwandb\u001b[0m: Currently logged in as: \u001b[33makshaygrao\u001b[0m (use `wandb login --relogin` to force relogin)\n"
          ]
        },
        {
          "output_type": "display_data",
          "data": {
            "text/plain": [
              "<IPython.core.display.HTML object>"
            ],
            "text/html": [
              "Tracking run with wandb version 0.12.14"
            ]
          },
          "metadata": {}
        },
        {
          "output_type": "display_data",
          "data": {
            "text/plain": [
              "<IPython.core.display.HTML object>"
            ],
            "text/html": [
              "Run data is saved locally in <code>/content/wandb/run-20220420_035109-21sjusa6</code>"
            ]
          },
          "metadata": {}
        },
        {
          "output_type": "display_data",
          "data": {
            "text/plain": [
              "<IPython.core.display.HTML object>"
            ],
            "text/html": [
              "Syncing run <strong><a href=\"https://wandb.ai/akshaygrao/DeepLearningAssignment-3/runs/21sjusa6\" target=\"_blank\">robust-sun-11</a></strong> to <a href=\"https://wandb.ai/akshaygrao/DeepLearningAssignment-3\" target=\"_blank\">Weights & Biases</a> (<a href=\"https://wandb.me/run\" target=\"_blank\">docs</a>)<br/>"
            ]
          },
          "metadata": {}
        },
        {
          "output_type": "execute_result",
          "data": {
            "text/html": [
              "<button onClick=\"this.nextSibling.style.display='block';this.style.display='none';\">Display W&B run</button><iframe src=\"https://wandb.ai/akshaygrao/DeepLearningAssignment-3/runs/21sjusa6?jupyter=true\" style=\"border:none;width:100%;height:420px;display:none;\"></iframe>"
            ],
            "text/plain": [
              "<wandb.sdk.wandb_run.Run at 0x7fb62fbcaf90>"
            ]
          },
          "metadata": {},
          "execution_count": 5
        }
      ]
    },
    {
      "cell_type": "code",
      "source": [
        "def obtain_input_target_data_from_path(path,tokenizer_obj):\n",
        "  input_texts = []\n",
        "  target_texts = []\n",
        "  \n",
        "  df = pd.read_csv(path,sep=\"\\t\",names=[\"1\", \"2\",\"3\"]).astype(str)\n",
        "  if tokenizer_obj is None:\n",
        "    # Shuffle rows in random order with a fixed seed(for reproducability)\n",
        "    df=df.sample(frac=1,random_state=1)\n",
        "  # Add all the  input and target texts with start sequence and end sequence added to target \n",
        "  for index, row in df.iterrows():\n",
        "      input_text=row['2']\n",
        "      target_text= row['1']\n",
        "      # Skip empty lines/words\n",
        "      if target_text =='</s>' or input_text=='</s>':\n",
        "        continue\n",
        "      \n",
        "      target_text = \"\\t\" + target_text + \"\\n\"\n",
        "      input_texts.append(input_text)\n",
        "      target_texts.append(target_text)\n",
        "  \n",
        "  return input_texts, target_texts"
      ],
      "metadata": {
        "id": "mzR1_lcKgW5O"
      },
      "execution_count": 6,
      "outputs": []
    },
    {
      "cell_type": "code",
      "source": [
        "def convert_text_to_sequences(tokenizer_obj,inp_texts):\n",
        "  if tokenizer_obj is None:\n",
        "    tokenizer_obj = tf.keras.preprocessing.text.Tokenizer(filters='', char_level=True)\n",
        "    tokenizer_obj.fit_on_texts(inp_texts)\n",
        "  ret_tensor = tokenizer_obj.texts_to_sequences(inp_texts)\n",
        "  ret_tensor = tf.keras.preprocessing.sequence.pad_sequences(ret_tensor,padding='post')\n",
        "\n",
        "  return ret_tensor,tokenizer_obj"
      ],
      "metadata": {
        "id": "1pov4thdppKt"
      },
      "execution_count": 7,
      "outputs": []
    },
    {
      "cell_type": "code",
      "source": [
        "# This method converts a dataset(from path) to input and target sequences\n",
        "def pre_process_data(path,input_tokenizer=None,target_tokenizer=None,input_length=None,target_length=None):\n",
        "  \n",
        "  input_texts, target_texts = obtain_input_target_data_from_path(path,input_tokenizer)\n",
        "  \n",
        "  input_tensor,input_tokenizer = convert_text_to_sequences(input_tokenizer,input_texts)\n",
        "  \n",
        "  target_tensor,target_tokenizer = convert_text_to_sequences(target_tokenizer,target_texts)\n",
        "  \n",
        "  # Above functions return padded version wrt longest sequence in the given list of sequence\n",
        "  # The below function, pads more zeros wrt input_length and target_length\n",
        "  if input_length is not None and target_length is not None:\n",
        "      input_tensor=tf.concat([input_tensor,tf.zeros((input_tensor.shape[0],input_length-input_tensor.shape[1]))],axis=1)\n",
        "      target_tensor=tf.concat([target_tensor,tf.zeros((target_tensor.shape[0],target_length-target_tensor.shape[1]))],axis=1)\n",
        "  return input_texts,input_tensor,input_tokenizer,target_texts,target_tensor,target_tokenizer"
      ],
      "metadata": {
        "id": "s-fHBjgNHJNY"
      },
      "execution_count": 8,
      "outputs": []
    },
    {
      "cell_type": "code",
      "source": [
        "transliteration_target_language = 'kn'"
      ],
      "metadata": {
        "id": "KL3-IxpstPlS"
      },
      "execution_count": 9,
      "outputs": []
    },
    {
      "cell_type": "code",
      "source": [
        "train_input_texts,train_input_tensor,input_tokenizer,train_target_texts,train_target_tensor,target_tokenizer = pre_process_data(\"/content/dakshina_dataset_v1.0/\"+transliteration_target_language+\"/lexicons/\"+transliteration_target_language+\".translit.sampled.train.tsv\")\n",
        "# Only training dataset is used to fit the tokenizer on text. Other datasets just use this vocab for pre-processing\n",
        "# The length for padding is also set from training datasets\n",
        "val_input_texts,val_input_tensor,val_input_tokenizer,val_target_texts,val_target_tensor,val_target_tokenizer = pre_process_data(\"/content/dakshina_dataset_v1.0/\"+transliteration_target_language+\"/lexicons/\"+transliteration_target_language+\".translit.sampled.dev.tsv\",input_tokenizer,target_tokenizer,train_input_tensor.shape[1],train_target_tensor.shape[1])\n",
        "test_input_texts,test_input_tensor,test_input_tokenizer,test_target_texts,test_target_tensor,test_target_tokenizer = pre_process_data(\"/content/dakshina_dataset_v1.0/\"+transliteration_target_language+\"/lexicons/\"+transliteration_target_language+\".translit.sampled.test.tsv\",input_tokenizer,target_tokenizer,train_input_tensor.shape[1],train_target_tensor.shape[1])"
      ],
      "metadata": {
        "id": "FWLwIxUwISEb"
      },
      "execution_count": 10,
      "outputs": []
    },
    {
      "cell_type": "code",
      "source": [
        "print(test_input_tensor.shape)"
      ],
      "metadata": {
        "colab": {
          "base_uri": "https://localhost:8080/"
        },
        "id": "ObEnhBOMAHkw",
        "outputId": "24c0f5e0-7f64-4599-f867-964719f1f608"
      },
      "execution_count": 11,
      "outputs": [
        {
          "output_type": "stream",
          "name": "stdout",
          "text": [
            "(5047, 26)\n"
          ]
        }
      ]
    },
    {
      "cell_type": "code",
      "source": [
        "# print(train_input_texts[:2])\n",
        "# print(train_input_tensor[:2])\n",
        "# print(val_input_texts[:2])\n",
        "# print(val_input_tensor[:2])\n",
        "# print(train_target_texts[:10])\n",
        "# print(train_target_tensor[:10])\n",
        "print(len(train_input_texts))\n",
        "print(train_input_tensor.shape)\n",
        "# print(len(train_target_texts))\n",
        "# print(train_target_tensor.shape)"
      ],
      "metadata": {
        "id": "7x__RcWFtDlt",
        "colab": {
          "base_uri": "https://localhost:8080/"
        },
        "outputId": "866a2779-7d8f-4578-9187-569f395863da"
      },
      "execution_count": 12,
      "outputs": [
        {
          "output_type": "stream",
          "name": "stdout",
          "text": [
            "50624\n",
            "(50624, 26)\n"
          ]
        }
      ]
    },
    {
      "cell_type": "code",
      "source": [
        "num_encoder_tokens = len(input_tokenizer.word_index)+1\n",
        "num_decoder_tokens = len(target_tokenizer.word_index)+1\n",
        "max_encoder_seq_length =  train_input_tensor.shape[1]\n",
        "max_decoder_seq_length = train_target_tensor.shape[1]"
      ],
      "metadata": {
        "id": "pi_oWsEotJq8"
      },
      "execution_count": 13,
      "outputs": []
    },
    {
      "cell_type": "code",
      "source": [
        "print(num_encoder_tokens)\n",
        "print(num_decoder_tokens)\n",
        "print(max_encoder_seq_length)\n",
        "print(max_decoder_seq_length)"
      ],
      "metadata": {
        "colab": {
          "base_uri": "https://localhost:8080/"
        },
        "id": "ASxKQYeZ7knF",
        "outputId": "c539e081-5dc7-4ab1-c48d-295454535e66"
      },
      "execution_count": 14,
      "outputs": [
        {
          "output_type": "stream",
          "name": "stdout",
          "text": [
            "27\n",
            "64\n",
            "26\n",
            "26\n"
          ]
        }
      ]
    },
    {
      "cell_type": "code",
      "source": [
        "print(input_tokenizer.word_index.keys())"
      ],
      "metadata": {
        "colab": {
          "base_uri": "https://localhost:8080/"
        },
        "id": "4JrohAOrwYR8",
        "outputId": "cfe10823-d3e9-4292-8f77-571c34d594cd"
      },
      "execution_count": 15,
      "outputs": [
        {
          "output_type": "stream",
          "name": "stdout",
          "text": [
            "dict_keys(['a', 'i', 'n', 'r', 'd', 't', 'u', 'h', 'e', 'l', 's', 'g', 'v', 'k', 'y', 'o', 'm', 'p', 'b', 'c', 'j', 'w', 'f', 'q', 'z', 'x'])\n"
          ]
        }
      ]
    },
    {
      "cell_type": "code",
      "source": [
        "def build_layered_RNN_model(rnn_type,embedding_in_dim,embedding_out_dim,layers,dropout,inp_length,model_out_dim,initial_state = None):\n",
        "   #input layer ; takes in tokenize input\n",
        "  model_inputs = keras.Input(shape=( inp_length))\n",
        "  #embedding layer\n",
        "  embed = keras.layers.Embedding(embedding_in_dim, embedding_out_dim)(model_inputs)\n",
        "  \n",
        "  last_layer_model = None\n",
        "  if rnn_type == 'LSTM':\n",
        "    #adding everything except the last LSTM layer, because in last layer return state=True\n",
        "    for i in range(layers):\n",
        "      layered_model = keras.layers.LSTM(model_out_dim, return_sequences=True,return_state=True,dropout=dropout)\n",
        "      if i==0:\n",
        "        inp_layer = embed\n",
        "      else:\n",
        "        inp_layer = last_layer_model\n",
        "      \n",
        "      model_layer_out,state_h, state_c = layered_model(inp_layer,initial_state)\n",
        "      \n",
        "      last_layer_model = model_layer_out\n",
        "    \n",
        "    model_states = [state_h, state_c]\n",
        "    \n",
        "  elif rnn_type=='GRU':\n",
        "    #adding everything except the last GRU layer, because in last layer return state=True    \n",
        "    for i in range(layers):\n",
        "      layered_model = keras.layers.GRU(model_out_dim, return_sequences=True,return_state=True,dropout=dropout)\n",
        "      if i==0:\n",
        "        inp_layer = embed\n",
        "      else:\n",
        "        inp_layer = last_layer_model\n",
        "      \n",
        "      model_layer_out,state = layered_model(inp_layer,initial_state)\n",
        "      \n",
        "      last_layer_model = model_layer_out\n",
        "\n",
        "    model_states = [state]\n",
        "  elif rnn_type=='RNN':\n",
        "    #adding everything except the last RNN layer, because in last layer return state=True\n",
        "    for i in range(layers):      \n",
        "      layered_model = keras.layers.SimpleRNN(model_out_dim, return_sequences=True,return_state=True,dropout=dropout)\n",
        "      if i==0:\n",
        "        inp_layer = embed\n",
        "      else:\n",
        "        inp_layer = last_layer_model\n",
        "        \n",
        "      model_layer_out,state = layered_model(inp_layer,initial_state)\n",
        "      \n",
        "      last_layer_model = model_layer_out\n",
        "\n",
        "    model_states = [state]\n",
        "    \n",
        "  return model_states,last_layer_model,model_inputs\n"
      ],
      "metadata": {
        "id": "mF1p5Vjl6gGZ"
      },
      "execution_count": 16,
      "outputs": []
    },
    {
      "cell_type": "code",
      "source": [
        "\n",
        "#Build the model\n",
        "def build_model(rnn_type,embedding_dim,encoder_layers,decoder_layers,dropout,latent_dim):\n",
        "  \n",
        "  encoder_states,encoder_outputs,encoder_inputs = build_layered_RNN_model(rnn_type=rnn_type,embedding_in_dim = num_encoder_tokens,embedding_out_dim = embedding_dim,layers = encoder_layers,dropout = dropout,inp_length = max_encoder_seq_length,model_out_dim = latent_dim)\n",
        "\n",
        "  _,decoder_outputs,decoder_inputs = build_layered_RNN_model(rnn_type=rnn_type,embedding_in_dim = num_decoder_tokens,embedding_out_dim = embedding_dim,layers = decoder_layers,dropout = dropout,inp_length = max_decoder_seq_length,model_out_dim = latent_dim,initial_state = encoder_states)\n",
        "  \n",
        "  decoder_dense = keras.layers.Dense(num_decoder_tokens, activation=\"softmax\",name='final')\n",
        "  decoder_outputs = decoder_dense(decoder_outputs)\n",
        "\n",
        "  model = keras.Model([encoder_inputs, decoder_inputs], decoder_outputs)\n",
        "  \n",
        "  return model"
      ],
      "metadata": {
        "id": "Br2JpV-7xET_"
      },
      "execution_count": 17,
      "outputs": []
    },
    {
      "cell_type": "code",
      "source": [
        "def get_inference_encoder_model(model,encoder_layers):\n",
        "  encoder_inputs = model.input[0]  \n",
        "  if isinstance(model.layers[encoder_layers+3], keras.layers.LSTM):\n",
        "    encoder_outputs, state_h_enc, state_c_enc = model.layers[encoder_layers+3].output  \n",
        "    encoder_states = [state_h_enc, state_c_enc]\n",
        "  elif (isinstance(model.layers[encoder_layers+3], keras.layers.GRU) or isinstance(model.layers[encoder_layers+3], keras.layers.RNN)):\n",
        "    encoder_outputs, state = model.layers[encoder_layers+3].output  \n",
        "    encoder_states = [state]\n",
        "\n",
        "  encoder_model = keras.Model(encoder_inputs, encoder_states)\n",
        "  return encoder_model"
      ],
      "metadata": {
        "id": "iUuV-IQ8ltes"
      },
      "execution_count": 18,
      "outputs": []
    },
    {
      "cell_type": "code",
      "source": [
        "def get_inference_decoder_model(model,encoder_layers,decoder_layers,latent_dim):\n",
        "  # Decoder during inference takes just one character(i.e vector rep of a character). This is either from previous timestep or start of sequence(\"\\t\")\n",
        "  decoder_inputs =  keras.Input(shape=( 1))\n",
        "  # Contains input to each decoder layer\n",
        "  decoder_states_inputs=[]\n",
        "  # Contains state output from each decoder layer\n",
        "  decoder_states=[]\n",
        "  previous_decoder_output = None\n",
        "\n",
        "  emdedded_rep_of_decoder_input = model.layers[encoder_layers+2](decoder_inputs)\n",
        "  # \"encoder_layer + 4\" because inp,embedding of encoder + inp,embedding of decoder\n",
        "  if isinstance(model.layers[encoder_layers+4], keras.layers.LSTM):\n",
        "    for i in range(decoder_layers):\n",
        "      #every layer must have an input through which we can supply it's hidden state\n",
        "      decoder_state_input_h = keras.Input(shape=(latent_dim,),name='inp3_'+str(i))\n",
        "      decoder_state_input_c = keras.Input(shape=(latent_dim,),name='inp4_'+str(i))\n",
        "      init_state = [decoder_state_input_h, decoder_state_input_c]\n",
        "      decoder_lstm = model.layers[i+encoder_layers+4]\n",
        "      if i==0:\n",
        "        decoder_outputs, state_h_dec, state_c_dec = decoder_lstm(emdedded_rep_of_decoder_input, initial_state=init_state)\n",
        "      else:\n",
        "        decoder_outputs, state_h_dec, state_c_dec = decoder_lstm(previous_decoder_output, initial_state=init_state )\n",
        "      \n",
        "      previous_decoder_output = decoder_outputs\n",
        "      decoder_states_inputs.append (decoder_state_input_h)\n",
        "      decoder_states_inputs.append (decoder_state_input_c)\n",
        "      decoder_states.append (state_h_dec)\n",
        "      decoder_states.append (state_c_dec)\n",
        "  elif isinstance(model.layers[encoder_layers + 4], keras.layers.GRU):\n",
        "    for i in range(decoder_layers):\n",
        "      decoder_state_input = keras.Input(shape=(latent_dim,),name='inp3_'+str(i))\n",
        "      init_state = [decoder_state_input]\n",
        "      decoder_lstm = model.layers[i+encoder_layers+4]\n",
        "      if i==0:\n",
        "        decoder_outputs, state = decoder_lstm(emdedded_rep_of_decoder_input, initial_state=init_state)\n",
        "      else:\n",
        "        decoder_outputs, state = decoder_lstm(previous_decoder_output, initial_state=init_state )\n",
        "      \n",
        "      previous_decoder_output = decoder_outputs\n",
        "      decoder_states_inputs.append (decoder_state_input)\n",
        "      decoder_states.append (state)\n",
        "  elif isinstance(model.layers[encoder_layers + 4], keras.layers.RNN):\n",
        "    for i in range(decoder_layers):\n",
        "      decoder_state_input = keras.Input(shape=(latent_dim,),name='inp3_'+str(i))\n",
        "      init_state = [decoder_state_input]\n",
        "      decoder_lstm = model.layers[i+encoder_layers+4]\n",
        "      if i==0:\n",
        "        decoder_outputs, state = decoder_lstm(emdedded_rep_of_decoder_input, initial_state=init_state)\n",
        "      else:\n",
        "        decoder_outputs, state = decoder_lstm(previous_decoder_output, initial_state=init_state )\n",
        "      \n",
        "      previous_decoder_output = decoder_outputs\n",
        "      decoder_states_inputs.append (decoder_state_input)\n",
        "      decoder_states.append (state)      \n",
        "  decoder_dense = model.get_layer('final')\n",
        "  decoder_outputs = decoder_dense(previous_decoder_output)\n",
        "  decoder_model = keras.Model([decoder_inputs] + decoder_states_inputs, [decoder_outputs] + decoder_states)\n",
        "\n",
        "  return decoder_model"
      ],
      "metadata": {
        "id": "WhC8eYW4mPv-"
      },
      "execution_count": 19,
      "outputs": []
    },
    {
      "cell_type": "code",
      "source": [
        "def build_inference_model(model,encoder_layers,decoder_layers,latent_dim):\n",
        "    encoder_model = get_inference_encoder_model(model,encoder_layers)\n",
        "    \n",
        "    decoder_model = get_inference_decoder_model(model,encoder_layers,decoder_layers,latent_dim)\n",
        "\n",
        "    return encoder_model,decoder_model"
      ],
      "metadata": {
        "id": "NDJJuJM8koKB"
      },
      "execution_count": 20,
      "outputs": []
    },
    {
      "cell_type": "code",
      "source": [
        "index_to_char_target = dict((target_tokenizer.word_index[key], key) for key in target_tokenizer.word_index.keys())"
      ],
      "metadata": {
        "id": "Y0gUSgh26w03"
      },
      "execution_count": 21,
      "outputs": []
    },
    {
      "cell_type": "code",
      "source": [
        "def decode_batch_of_sequences(rnn_type,input_seq,encoder_model,decoder_model,batch_size,encoder_layers,decoder_layers):\n",
        "    # Get encoder output\n",
        "    encoder_output_state_values = encoder_model.predict(input_seq)\n",
        "    if rnn_type=='GRU' or 'RNN':\n",
        "      decoder_input_state_values=[encoder_output_state_values]\n",
        "    \n",
        "    # This is needed because encoder state is fed to all decoder layers\n",
        "    decoder_input_state_values = decoder_input_state_values * decoder_layers\n",
        "    \n",
        "    # This is contain previously predicted character's index for every words in batch.\n",
        "    prev_char_index = np.zeros((batch_size, 1))\n",
        "    # We start with \\t for every word in batch\n",
        "    prev_char_index[:, 0] = target_tokenizer.word_index['\\t']\n",
        "    \n",
        "    predicted_words = [ \"\" for i in range(batch_size)]\n",
        "    done=[False for i in range(batch_size)]\n",
        "    for i in range(max_decoder_seq_length):\n",
        "        decoder_out = decoder_model.predict(tuple([prev_char_index] + decoder_input_state_values))\n",
        "        # Decoder output has both output of all timesteps followed by hidden states\n",
        "        output_probability = decoder_out[0]\n",
        "        # Decoder state input is previous layer state output\n",
        "        decoder_input_state_values = decoder_out[1:]\n",
        "        for j in range(batch_size):\n",
        "          if done[j]:\n",
        "            continue          \n",
        "          sampled_token_index = np.argmax(output_probability[j, -1, :])\n",
        "          if sampled_token_index == 0:\n",
        "            sampled_char='\\n'\n",
        "          else:\n",
        "            sampled_char = index_to_char_target[sampled_token_index]\n",
        "          if sampled_char == '\\n':\n",
        "            done[j]=True\n",
        "            continue            \n",
        "          predicted_words[j] += sampled_char\n",
        "          #update the previously predicted characters        \n",
        "          prev_char_index[j,0]=target_tokenizer.word_index[sampled_char]\n",
        "    return predicted_words"
      ],
      "metadata": {
        "id": "Qojx7JC35S5y"
      },
      "execution_count": 22,
      "outputs": []
    },
    {
      "cell_type": "code",
      "source": [
        "def test_accuracy(rnn_type,encoder_model,decoder_model,encoder_layers,decoder_layers):\n",
        "  success=0\n",
        "  #Get all the predicted words\n",
        "  pred=decode_batch_of_sequences(rnn_type,test_input_tensor,encoder_model,decoder_model,test_input_tensor.shape[0],encoder_layers,decoder_layers)\n",
        "  for seq_index in range(test_input_tensor.shape[0]):\n",
        "      predicted_word = pred[seq_index]\n",
        "      target_word=test_target_texts[seq_index][1:-1]\n",
        "      #test the word one by one and write to files\n",
        "      if target_word == predicted_word:\n",
        "        success+=1\n",
        "        f = open(\"success.txt\", \"a\")\n",
        "        f.write(test_input_texts[seq_index]+' '+target_word+' '+predicted_word+'\\n')\n",
        "        f.close()\n",
        "      else:\n",
        "        f = open(\"failure.txt\", \"a\")\n",
        "        f.write(test_input_texts[seq_index]+' '+target_word+' '+predicted_word+'\\n')\n",
        "        f.close()\n",
        "  return float(success)/float(test_input_tensor.shape[0])"
      ],
      "metadata": {
        "id": "kbTznqNEx4sR"
      },
      "execution_count": 23,
      "outputs": []
    },
    {
      "cell_type": "code",
      "source": [
        "def batch_validate(rnn_type,encoder_model,decoder_model,encoder_layers,decoder_layers):\n",
        "  success=0\n",
        "  #get all the predicted words\n",
        "  pred=decode_batch_of_sequences(rnn_type,val_input_tensor,encoder_model,decoder_model,val_input_tensor.shape[0],encoder_layers,decoder_layers)\n",
        "\n",
        "  for seq_index in range(val_input_tensor.shape[0]):\n",
        "      predicted_word = pred[seq_index]\n",
        "      target_word=val_target_texts[seq_index][1:-1]\n",
        "      #test the words one by one\n",
        "      if predicted_word == target_word:\n",
        "        # print(\"pred:\"+str(pred[seq_index]))\n",
        "        # print(\"Target: \"+str(val_target_texts[seq_index][1:-1]))\n",
        "        success+=1\n",
        "  print(\"success:\"+str(success))\n",
        "  # print(\"val_input_tensor.shape[0]:\"+str(val_input_tensor.shape[0]))\n",
        "  return float(success)/float(val_input_tensor.shape[0])"
      ],
      "metadata": {
        "id": "jcWesBWKm2hn"
      },
      "execution_count": 30,
      "outputs": []
    },
    {
      "cell_type": "code",
      "source": [
        "default_config = {\n",
        "        \"rnn_type\": \"LSTM\",\n",
        "        \"dropout\": 0.5,\n",
        "        \"encoder_layers\":3,\n",
        "        \"decoder_layers\":4,\n",
        "        \"latent_dim\": 64,\n",
        "        \"epochs\": 10,\n",
        "        \"lr\": 0.0001,\n",
        "        \"embedding_out_dim\": 64,\n",
        "        \"beam_search\":False\n",
        "    }\n",
        "\n",
        "#Keras callback    \n",
        "history = History()"
      ],
      "metadata": {
        "id": "VX5pjUqzDVr-"
      },
      "execution_count": 25,
      "outputs": []
    },
    {
      "cell_type": "code",
      "source": [
        "def HP_tuning_run():\n",
        "    # Create a MirroredStrategy.\n",
        "    if tf.config.list_physical_devices('GPU'):\n",
        "        strategy = tf.distribute.MirroredStrategy()\n",
        "    else:  # use default strategy\n",
        "        strategy = tf.distribute.get_strategy()\n",
        "    print('Number of devices: {}'.format(strategy.num_replicas_in_sync))\n",
        "\n",
        "    # wandb.init(config=default_config, magic=True,project=\"DeepLearningAssignment-3\", entity='cs21s002-ee21s113-dlassignment-1')\n",
        "    wandb.init(config=default_config, magic=True,project=\"DeepLearningAssignment-3\", entity='akshaygrao')\n",
        "    config = wandb.config\n",
        "    print(\"Config: \"+str(config))\n",
        "    run_name = str(config).replace(\"{\", \"\").replace(\"}\",\"\").replace(\":\",\"-\")\n",
        "    wandb.run.name = run_name\n",
        "\n",
        "    # Open a strategy scope and create the model\n",
        "    with strategy.scope():\n",
        "      model = build_model(config.rnn_type,config.embedding_out_dim,config.encoder_layers,config.decoder_layers,config.dropout,config.latent_dim)\n",
        "\n",
        "    plot_model(model, to_file='model.png', show_shapes=True, show_dtype=True,show_layer_names=True)\n",
        "\n",
        "    model.summary()\n",
        "\n",
        "    model.compile(optimizer=keras.optimizers.Adam(config.lr), loss=keras.losses.SparseCategoricalCrossentropy(reduction='none'), metrics=[\"accuracy\"])\n",
        "\n",
        "    hist=model.fit([train_input_tensor, train_target_tensor],tf.concat([train_target_tensor[:,1:],tf.zeros((train_target_tensor[:,:].shape[0],1))], axis=1),batch_size=32,epochs=config.epochs,shuffle=True,callbacks=[WandbCallback(), history])\n",
        "\n",
        "    model.save(f'{run_name.replace(\",\",\"-\")}.h5')  # creates a HDF5 file 'my_model.h5'\n",
        "    inf = keras.models.load_model(f'{run_name.replace(\",\",\"-\")}.h5')\n",
        "    encoder_inference_model,decoder_inference_model=build_inference_model(inf,encoder_layers=config.encoder_layers,decoder_layers=config.decoder_layers,latent_dim=config.latent_dim)\n",
        "    plot_model(encoder_inference_model, to_file='encoder_model.png', show_shapes=True)\n",
        "    plot_model(decoder_inference_model, to_file='decoder_model.png', show_shapes=True)\n",
        "    \n",
        "    val_acc=batch_validate(config.rnn_type,encoder_inference_model,decoder_inference_model,config.encoder_layers,config.decoder_layers)\n",
        "    print(\"val_acc\"+str(val_acc))\n",
        "    wandb.log({\"val_acc\":val_acc}) \n"
      ],
      "metadata": {
        "id": "PvOMovPZyGqj"
      },
      "execution_count": 26,
      "outputs": []
    },
    {
      "cell_type": "code",
      "source": [
        "sweep_config = {\n",
        "    \"name\": \"Assignment 3 - alpha\",\n",
        "    \"method\": \"bayes\",\n",
        "    \"metric\":{\n",
        "      \"goal\": \"maximize\",\n",
        "      \"name\": \"val_acc\"\n",
        "    },\n",
        "    \"early_terminate\":{\n",
        "      \"type\": \"hyperband\",\n",
        "      \"min_iter\": 2,\n",
        "      \"eta\":2\n",
        "    },\n",
        "    \"project\": 'DeepLearningAssignment-3',\n",
        "    \"parameters\": {\n",
        "        \"rnn_type\": {\n",
        "            \"values\": [\"LSTM\",\"RNN\",\"GRU\"]\n",
        "        },\n",
        "        \"dropout\": {\n",
        "            \"values\": [0.3,0.5,0.7]\n",
        "        },\n",
        "        \"encoder_layers\": {\n",
        "            \"values\": [2,5,7,10]\n",
        "        },\n",
        "        \"decoder_layers\": {\n",
        "            \"values\": [2,5,7,10]\n",
        "        },\n",
        "        \"latent_dim\": {\n",
        "            \"values\": [32,64,128]\n",
        "        },\n",
        "        \"epochs\": {\n",
        "            \"values\": [5,10,15]\n",
        "        },\n",
        "        \"lr\": {\n",
        "            \"values\": [0.0001]\n",
        "        },\n",
        "        \"embedding_out_dim\": {\n",
        "            \"values\":[32,64,128]\n",
        "        },\n",
        "        \"beam_search\":{\n",
        "            \"values\":[False]\n",
        "        }\n",
        "        \n",
        "    }\n",
        "}"
      ],
      "metadata": {
        "id": "w5KOeeV13mvj"
      },
      "execution_count": 27,
      "outputs": []
    },
    {
      "cell_type": "code",
      "source": [
        "sweep_id = wandb.sweep(sweep_config,  project='DeepLearningAssignment-3', entity='akshaygrao')"
      ],
      "metadata": {
        "colab": {
          "base_uri": "https://localhost:8080/"
        },
        "id": "fag3IotW5Qu2",
        "outputId": "0f5c4b5a-9eb1-4ddb-f998-998bd3c22024"
      },
      "execution_count": 28,
      "outputs": [
        {
          "output_type": "stream",
          "name": "stdout",
          "text": [
            "Create sweep with ID: 343i8hbd\n",
            "Sweep URL: https://wandb.ai/akshaygrao/DeepLearningAssignment-3/sweeps/343i8hbd\n"
          ]
        }
      ]
    },
    {
      "cell_type": "code",
      "source": [
        "wandb.agent(sweep_id, function=HP_tuning_run, project='DeepLearningAssignment-3', entity='akshaygrao')"
      ],
      "metadata": {
        "colab": {
          "base_uri": "https://localhost:8080/",
          "height": 1000,
          "referenced_widgets": [
            "62a4cf8dd2634b08b2393f65e017fc61",
            "8b3edb84008b4dc9ae3353ce00695991",
            "76fb7356a3c3471eacfee61f5e0945b3",
            "f77c5f78fbfe4a83afa95b8ad67e656f",
            "be2729b7a111484ebbb4692948627cc4",
            "8acac931d1c540aa9b18f8ab25a387b1",
            "292fe831648b4fe28680705f8bb42756",
            "c7f2b904107641999851b25b41e91b76",
            "38105b3505654e5eb43876e14a639a0e",
            "9dd397b4e15d46b0bd32600dbb07ce7f",
            "6e9d364f7fe34bf9882aac044611929f",
            "c88c0f04b16a4f38a8aaadc27f5a6304",
            "4747b76138b24bd5afb8685af0150c93",
            "1dee051a68ab40d19cd7c96e2722dd3d",
            "c71c3c98e94845d0885aa7cafae31712",
            "d5f1c432bdc44014a542d58a916c4345",
            "dff4f65658884c2b8fc47ab09e3e1662",
            "28e45afa3cb64af79414fb00af8f8bf4",
            "cf1786171479478ea64cb0b7ad3262b1",
            "599cb5f5eeab461ba8ae9d8cfdd4d9de",
            "b2cf89edfcc34ba98e5ec288fe214927",
            "55d51dc614044b41847c05787b01f1d3",
            "c5efef08a5d24c6cbc87b67f660107f5",
            "dcbbcdf7cd81402db92174bac79a4960",
            "286f12c988674c9bba83d2622b9af4f9",
            "5699003fa19145dca4b4435b7a5adce9",
            "3ea77101d6c34c099b7cda4fcb27f6c8",
            "e0385b0dafa245a495c4f6b05eceea50",
            "e6ce25c0ef464a0a9d0ff526c4634f07",
            "5226ed0360154ca0b92eeea9b0d1b065",
            "61a8895a4cf14a30a1c09b96c58a2e15",
            "c09a772e52b54f6ea861cc414648f723",
            "bb8094b9db4346c4801b84dd57fcf038",
            "9be42306f654436b8437eed663227ffb",
            "a74ece19b3c64037a6bd513c6145cd01",
            "f000b0b79df148a8ba27f13b8169c2e4",
            "83cb0da8313447ecaf5a263606d1520f",
            "b1723079c51c49e0ac14fc68f1eb8d13",
            "b89b47177f434d669aa29f1739db552e",
            "af1fa399aea649be848e92abbcff42ea",
            "0b23326d66b34e958eeef03261db7cb1",
            "af7cb9a18e1142e0a94a20ccf562238e",
            "2c6ad9fda80448f3b5e19e20e20532c7",
            "30a12d50ace24a2bb6466188f2e70463",
            "ae780f216dd44f98a48d8ea21a8dc79e",
            "9a2dcb95229c4ba88337c4faf34d8fa4",
            "44d40058f90442cf84001162a25b6bdb",
            "b97dbcc234fe4ada9b6a12ac51a91ed1",
            "e598b933d30443aab3964c07717ac3a0",
            "c4779319f2754ff387a80988ff3e2c3a",
            "fa91e2e14bec49139fc1f876e265f8ce",
            "072afd1fdc2b48d8a0c0fc6e3e0d5d36",
            "36b335231c8442eb9b7296650ea37979",
            "c370437c97214491a214f685b50760ae",
            "a90dec5e6db34ad3964d569daafa0f6d",
            "5eaf8560276e46fc9a5e58a11a8096e8",
            "d86852991ca847bebe18f64a8fe71cd7",
            "22ee569462fd491fa6555e13d45ec79c",
            "05b1dd2785ec4925a06d9d830f8d9792",
            "1282875dcf634b1ea5bb767f68efa9d3",
            "57c71a850746484aba27c2cd41332b63",
            "df03e70387a7439c857fbab7ac72da5a",
            "9b180348adbd4f2184cecaf7e896163a",
            "708c0f0b57d349c2aecc0080e2086913"
          ]
        },
        "id": "itgfsYWC5oCn",
        "outputId": "27ecf7dd-4d07-4bdb-91b4-c1099811e0aa"
      },
      "execution_count": null,
      "outputs": [
        {
          "output_type": "stream",
          "name": "stderr",
          "text": [
            "\u001b[34m\u001b[1mwandb\u001b[0m: Agent Starting Run: su2cnce5 with config:\n",
            "\u001b[34m\u001b[1mwandb\u001b[0m: \tbeam_search: False\n",
            "\u001b[34m\u001b[1mwandb\u001b[0m: \tdecoder_layers: 2\n",
            "\u001b[34m\u001b[1mwandb\u001b[0m: \tdropout: 0.7\n",
            "\u001b[34m\u001b[1mwandb\u001b[0m: \tembedding_out_dim: 32\n",
            "\u001b[34m\u001b[1mwandb\u001b[0m: \tencoder_layers: 5\n",
            "\u001b[34m\u001b[1mwandb\u001b[0m: \tepochs: 5\n",
            "\u001b[34m\u001b[1mwandb\u001b[0m: \tlatent_dim: 32\n",
            "\u001b[34m\u001b[1mwandb\u001b[0m: \tlr: 0.0001\n",
            "\u001b[34m\u001b[1mwandb\u001b[0m: \trnn_type: LSTM\n"
          ]
        },
        {
          "output_type": "stream",
          "name": "stdout",
          "text": [
            "INFO:tensorflow:Using MirroredStrategy with devices ('/job:localhost/replica:0/task:0/device:GPU:0',)\n",
            "Number of devices: 1\n"
          ]
        },
        {
          "output_type": "stream",
          "name": "stderr",
          "text": [
            "\u001b[34m\u001b[1mwandb\u001b[0m: \u001b[33mWARNING\u001b[0m Ignored wandb.init() arg project when running a sweep.\n",
            "\u001b[34m\u001b[1mwandb\u001b[0m: \u001b[33mWARNING\u001b[0m Ignored wandb.init() arg entity when running a sweep.\n"
          ]
        },
        {
          "output_type": "display_data",
          "data": {
            "text/plain": [
              "<IPython.core.display.HTML object>"
            ],
            "text/html": [
              "Tracking run with wandb version 0.12.14"
            ]
          },
          "metadata": {}
        },
        {
          "output_type": "display_data",
          "data": {
            "text/plain": [
              "<IPython.core.display.HTML object>"
            ],
            "text/html": [
              "Run data is saved locally in <code>/content/wandb/run-20220420_041321-su2cnce5</code>"
            ]
          },
          "metadata": {}
        },
        {
          "output_type": "display_data",
          "data": {
            "text/plain": [
              "<IPython.core.display.HTML object>"
            ],
            "text/html": [
              "Syncing run <strong><a href=\"https://wandb.ai/akshaygrao/DeepLearningAssignment-3/runs/su2cnce5\" target=\"_blank\">pleasant-sweep-3</a></strong> to <a href=\"https://wandb.ai/akshaygrao/DeepLearningAssignment-3\" target=\"_blank\">Weights & Biases</a> (<a href=\"https://wandb.me/run\" target=\"_blank\">docs</a>)<br/>Sweep page:  <a href=\"https://wandb.ai/akshaygrao/DeepLearningAssignment-3/sweeps/343i8hbd\" target=\"_blank\">https://wandb.ai/akshaygrao/DeepLearningAssignment-3/sweeps/343i8hbd</a>"
            ]
          },
          "metadata": {}
        },
        {
          "output_type": "stream",
          "name": "stdout",
          "text": [
            "Config: {'beam_search': False, 'decoder_layers': 2, 'dropout': 0.7, 'embedding_out_dim': 32, 'encoder_layers': 5, 'epochs': 5, 'latent_dim': 32, 'lr': 0.0001, 'rnn_type': 'LSTM'}\n",
            "Model: \"model\"\n",
            "__________________________________________________________________________________________________\n",
            " Layer (type)                   Output Shape         Param #     Connected to                     \n",
            "==================================================================================================\n",
            " input_1 (InputLayer)           [(None, 26)]         0           []                               \n",
            "                                                                                                  \n",
            " embedding (Embedding)          (None, 26, 32)       864         ['input_1[0][0]']                \n",
            "                                                                                                  \n",
            " lstm (LSTM)                    [(None, 26, 32),     8320        ['embedding[0][0]']              \n",
            "                                 (None, 32),                                                      \n",
            "                                 (None, 32)]                                                      \n",
            "                                                                                                  \n",
            " lstm_1 (LSTM)                  [(None, 26, 32),     8320        ['lstm[0][0]']                   \n",
            "                                 (None, 32),                                                      \n",
            "                                 (None, 32)]                                                      \n",
            "                                                                                                  \n",
            " lstm_2 (LSTM)                  [(None, 26, 32),     8320        ['lstm_1[0][0]']                 \n",
            "                                 (None, 32),                                                      \n",
            "                                 (None, 32)]                                                      \n",
            "                                                                                                  \n",
            " input_2 (InputLayer)           [(None, 26)]         0           []                               \n",
            "                                                                                                  \n",
            " lstm_3 (LSTM)                  [(None, 26, 32),     8320        ['lstm_2[0][0]']                 \n",
            "                                 (None, 32),                                                      \n",
            "                                 (None, 32)]                                                      \n",
            "                                                                                                  \n",
            " embedding_1 (Embedding)        (None, 26, 32)       2048        ['input_2[0][0]']                \n",
            "                                                                                                  \n",
            " lstm_4 (LSTM)                  [(None, 26, 32),     8320        ['lstm_3[0][0]']                 \n",
            "                                 (None, 32),                                                      \n",
            "                                 (None, 32)]                                                      \n",
            "                                                                                                  \n",
            " lstm_5 (LSTM)                  [(None, 26, 32),     8320        ['embedding_1[0][0]',            \n",
            "                                 (None, 32),                      'lstm_4[0][1]',                 \n",
            "                                 (None, 32)]                      'lstm_4[0][2]']                 \n",
            "                                                                                                  \n",
            " lstm_6 (LSTM)                  [(None, 26, 32),     8320        ['lstm_5[0][0]',                 \n",
            "                                 (None, 32),                      'lstm_4[0][1]',                 \n",
            "                                 (None, 32)]                      'lstm_4[0][2]']                 \n",
            "                                                                                                  \n",
            " final (Dense)                  (None, 26, 64)       2112        ['lstm_6[0][0]']                 \n",
            "                                                                                                  \n",
            "==================================================================================================\n",
            "Total params: 63,264\n",
            "Trainable params: 63,264\n",
            "Non-trainable params: 0\n",
            "__________________________________________________________________________________________________\n",
            "Epoch 1/5\n",
            "   4/1582 [..............................] - ETA: 32s - loss: 4.1655 - accuracy: 0.0078    WARNING:tensorflow:Callback method `on_train_batch_end` is slow compared to the batch time (batch time: 0.0185s vs `on_train_batch_end` time: 0.0595s). Check your callbacks.\n",
            "1582/1582 [==============================] - 46s 22ms/step - loss: 1.7438 - accuracy: 0.6398 - _timestamp: 1650428054.0000 - _runtime: 53.0000\n",
            "Epoch 2/5\n",
            "1582/1582 [==============================] - 34s 22ms/step - loss: 1.2323 - accuracy: 0.6720 - _timestamp: 1650428089.0000 - _runtime: 88.0000\n",
            "Epoch 3/5\n",
            "1582/1582 [==============================] - 35s 22ms/step - loss: 1.1485 - accuracy: 0.6958 - _timestamp: 1650428124.0000 - _runtime: 123.0000\n",
            "Epoch 4/5\n",
            "1582/1582 [==============================] - 34s 22ms/step - loss: 1.1088 - accuracy: 0.7042 - _timestamp: 1650428158.0000 - _runtime: 157.0000\n",
            "Epoch 5/5\n",
            "1582/1582 [==============================] - 35s 22ms/step - loss: 1.0782 - accuracy: 0.7105 - _timestamp: 1650428192.0000 - _runtime: 191.0000\n",
            "success:0\n",
            "val_acc0.0\n",
            "\n"
          ]
        },
        {
          "output_type": "display_data",
          "data": {
            "text/plain": [
              "<IPython.core.display.HTML object>"
            ],
            "text/html": [
              "Waiting for W&B process to finish... <strong style=\"color:green\">(success).</strong>"
            ]
          },
          "metadata": {}
        },
        {
          "output_type": "display_data",
          "data": {
            "text/plain": [
              "VBox(children=(Label(value='0.990 MB of 0.990 MB uploaded (0.000 MB deduped)\\r'), FloatProgress(value=1.0, max…"
            ],
            "application/vnd.jupyter.widget-view+json": {
              "version_major": 2,
              "version_minor": 0,
              "model_id": "62a4cf8dd2634b08b2393f65e017fc61"
            }
          },
          "metadata": {}
        },
        {
          "output_type": "display_data",
          "data": {
            "text/plain": [
              "<IPython.core.display.HTML object>"
            ],
            "text/html": [
              "<style>\n",
              "    table.wandb td:nth-child(1) { padding: 0 10px; text-align: right }\n",
              "    .wandb-row { display: flex; flex-direction: row; flex-wrap: wrap; width: 100% }\n",
              "    .wandb-col { display: flex; flex-direction: column; flex-basis: 100%; flex: 1; padding: 10px; }\n",
              "    </style>\n",
              "<div class=\"wandb-row\"><div class=\"wandb-col\"><h3>Run history:</h3><br/><table class=\"wandb\"><tr><td>accuracy</td><td>▁▄▇▇█</td></tr><tr><td>epoch</td><td>▁▃▅▆█</td></tr><tr><td>loss</td><td>█▃▂▁▁</td></tr><tr><td>val_acc</td><td>▁</td></tr></table><br/></div><div class=\"wandb-col\"><h3>Run summary:</h3><br/><table class=\"wandb\"><tr><td>accuracy</td><td>0.71053</td></tr><tr><td>epoch</td><td>4</td></tr><tr><td>loss</td><td>1.07817</td></tr><tr><td>val_acc</td><td>0.0</td></tr></table><br/></div></div>"
            ]
          },
          "metadata": {}
        },
        {
          "output_type": "display_data",
          "data": {
            "text/plain": [
              "<IPython.core.display.HTML object>"
            ],
            "text/html": [
              "Synced <strong style=\"color:#cdcd00\">pleasant-sweep-3</strong>: <a href=\"https://wandb.ai/akshaygrao/DeepLearningAssignment-3/runs/su2cnce5\" target=\"_blank\">https://wandb.ai/akshaygrao/DeepLearningAssignment-3/runs/su2cnce5</a><br/>Synced 5 W&B file(s), 1 media file(s), 0 artifact file(s) and 1 other file(s)"
            ]
          },
          "metadata": {}
        },
        {
          "output_type": "display_data",
          "data": {
            "text/plain": [
              "<IPython.core.display.HTML object>"
            ],
            "text/html": [
              "Find logs at: <code>./wandb/run-20220420_041321-su2cnce5/logs</code>"
            ]
          },
          "metadata": {}
        },
        {
          "output_type": "stream",
          "name": "stderr",
          "text": [
            "\u001b[34m\u001b[1mwandb\u001b[0m: Agent Starting Run: dwjt2w0g with config:\n",
            "\u001b[34m\u001b[1mwandb\u001b[0m: \tbeam_search: False\n",
            "\u001b[34m\u001b[1mwandb\u001b[0m: \tdecoder_layers: 7\n",
            "\u001b[34m\u001b[1mwandb\u001b[0m: \tdropout: 0.7\n",
            "\u001b[34m\u001b[1mwandb\u001b[0m: \tembedding_out_dim: 128\n",
            "\u001b[34m\u001b[1mwandb\u001b[0m: \tencoder_layers: 5\n",
            "\u001b[34m\u001b[1mwandb\u001b[0m: \tepochs: 15\n",
            "\u001b[34m\u001b[1mwandb\u001b[0m: \tlatent_dim: 128\n",
            "\u001b[34m\u001b[1mwandb\u001b[0m: \tlr: 0.0001\n",
            "\u001b[34m\u001b[1mwandb\u001b[0m: \trnn_type: GRU\n"
          ]
        },
        {
          "output_type": "stream",
          "name": "stdout",
          "text": [
            "INFO:tensorflow:Using MirroredStrategy with devices ('/job:localhost/replica:0/task:0/device:GPU:0',)\n",
            "Number of devices: 1\n"
          ]
        },
        {
          "output_type": "stream",
          "name": "stderr",
          "text": [
            "\u001b[34m\u001b[1mwandb\u001b[0m: \u001b[33mWARNING\u001b[0m Ignored wandb.init() arg project when running a sweep.\n",
            "\u001b[34m\u001b[1mwandb\u001b[0m: \u001b[33mWARNING\u001b[0m Ignored wandb.init() arg entity when running a sweep.\n"
          ]
        },
        {
          "output_type": "display_data",
          "data": {
            "text/plain": [
              "<IPython.core.display.HTML object>"
            ],
            "text/html": [
              "Tracking run with wandb version 0.12.14"
            ]
          },
          "metadata": {}
        },
        {
          "output_type": "display_data",
          "data": {
            "text/plain": [
              "<IPython.core.display.HTML object>"
            ],
            "text/html": [
              "Run data is saved locally in <code>/content/wandb/run-20220420_041708-dwjt2w0g</code>"
            ]
          },
          "metadata": {}
        },
        {
          "output_type": "display_data",
          "data": {
            "text/plain": [
              "<IPython.core.display.HTML object>"
            ],
            "text/html": [
              "Syncing run <strong><a href=\"https://wandb.ai/akshaygrao/DeepLearningAssignment-3/runs/dwjt2w0g\" target=\"_blank\">fanciful-sweep-4</a></strong> to <a href=\"https://wandb.ai/akshaygrao/DeepLearningAssignment-3\" target=\"_blank\">Weights & Biases</a> (<a href=\"https://wandb.me/run\" target=\"_blank\">docs</a>)<br/>Sweep page:  <a href=\"https://wandb.ai/akshaygrao/DeepLearningAssignment-3/sweeps/343i8hbd\" target=\"_blank\">https://wandb.ai/akshaygrao/DeepLearningAssignment-3/sweeps/343i8hbd</a>"
            ]
          },
          "metadata": {}
        },
        {
          "output_type": "stream",
          "name": "stdout",
          "text": [
            "Config: {'beam_search': False, 'decoder_layers': 7, 'dropout': 0.7, 'embedding_out_dim': 128, 'encoder_layers': 5, 'epochs': 15, 'latent_dim': 128, 'lr': 0.0001, 'rnn_type': 'GRU'}\n",
            "Model: \"model\"\n",
            "__________________________________________________________________________________________________\n",
            " Layer (type)                   Output Shape         Param #     Connected to                     \n",
            "==================================================================================================\n",
            " input_1 (InputLayer)           [(None, 26)]         0           []                               \n",
            "                                                                                                  \n",
            " embedding (Embedding)          (None, 26, 128)      3456        ['input_1[0][0]']                \n",
            "                                                                                                  \n",
            " gru (GRU)                      [(None, 26, 128),    99072       ['embedding[0][0]']              \n",
            "                                 (None, 128)]                                                     \n",
            "                                                                                                  \n",
            " gru_1 (GRU)                    [(None, 26, 128),    99072       ['gru[0][0]']                    \n",
            "                                 (None, 128)]                                                     \n",
            "                                                                                                  \n",
            " gru_2 (GRU)                    [(None, 26, 128),    99072       ['gru_1[0][0]']                  \n",
            "                                 (None, 128)]                                                     \n",
            "                                                                                                  \n",
            " input_2 (InputLayer)           [(None, 26)]         0           []                               \n",
            "                                                                                                  \n",
            " gru_3 (GRU)                    [(None, 26, 128),    99072       ['gru_2[0][0]']                  \n",
            "                                 (None, 128)]                                                     \n",
            "                                                                                                  \n",
            " embedding_1 (Embedding)        (None, 26, 128)      8192        ['input_2[0][0]']                \n",
            "                                                                                                  \n",
            " gru_4 (GRU)                    [(None, 26, 128),    99072       ['gru_3[0][0]']                  \n",
            "                                 (None, 128)]                                                     \n",
            "                                                                                                  \n",
            " gru_5 (GRU)                    [(None, 26, 128),    99072       ['embedding_1[0][0]',            \n",
            "                                 (None, 128)]                     'gru_4[0][1]']                  \n",
            "                                                                                                  \n",
            " gru_6 (GRU)                    [(None, 26, 128),    99072       ['gru_5[0][0]',                  \n",
            "                                 (None, 128)]                     'gru_4[0][1]']                  \n",
            "                                                                                                  \n",
            " gru_7 (GRU)                    [(None, 26, 128),    99072       ['gru_6[0][0]',                  \n",
            "                                 (None, 128)]                     'gru_4[0][1]']                  \n",
            "                                                                                                  \n",
            " gru_8 (GRU)                    [(None, 26, 128),    99072       ['gru_7[0][0]',                  \n",
            "                                 (None, 128)]                     'gru_4[0][1]']                  \n",
            "                                                                                                  \n",
            " gru_9 (GRU)                    [(None, 26, 128),    99072       ['gru_8[0][0]',                  \n",
            "                                 (None, 128)]                     'gru_4[0][1]']                  \n",
            "                                                                                                  \n",
            " gru_10 (GRU)                   [(None, 26, 128),    99072       ['gru_9[0][0]',                  \n",
            "                                 (None, 128)]                     'gru_4[0][1]']                  \n",
            "                                                                                                  \n",
            " gru_11 (GRU)                   [(None, 26, 128),    99072       ['gru_10[0][0]',                 \n",
            "                                 (None, 128)]                     'gru_4[0][1]']                  \n",
            "                                                                                                  \n",
            " final (Dense)                  (None, 26, 64)       8256        ['gru_11[0][0]']                 \n",
            "                                                                                                  \n",
            "==================================================================================================\n",
            "Total params: 1,208,768\n",
            "Trainable params: 1,208,768\n",
            "Non-trainable params: 0\n",
            "__________________________________________________________________________________________________\n",
            "Epoch 1/15\n",
            "   5/1582 [..............................] - ETA: 56s - loss: 4.1504 - accuracy: 0.1411WARNING:tensorflow:Callback method `on_train_batch_end` is slow compared to the batch time (batch time: 0.0287s vs `on_train_batch_end` time: 0.0986s). Check your callbacks.\n",
            "1582/1582 [==============================] - 67s 33ms/step - loss: 1.3320 - accuracy: 0.6622 - _timestamp: 1650428306.0000 - _runtime: 78.0000\n",
            "Epoch 2/15\n",
            "1582/1582 [==============================] - 52s 33ms/step - loss: 1.1499 - accuracy: 0.6807 - _timestamp: 1650428358.0000 - _runtime: 130.0000\n",
            "Epoch 3/15\n",
            "1582/1582 [==============================] - 50s 32ms/step - loss: 1.0905 - accuracy: 0.6999 - _timestamp: 1650428408.0000 - _runtime: 180.0000\n",
            "Epoch 4/15\n",
            "1582/1582 [==============================] - 50s 32ms/step - loss: 1.0482 - accuracy: 0.7132 - _timestamp: 1650428459.0000 - _runtime: 231.0000\n",
            "Epoch 5/15\n",
            "1582/1582 [==============================] - 50s 32ms/step - loss: 0.9959 - accuracy: 0.7243 - _timestamp: 1650428509.0000 - _runtime: 281.0000\n",
            "Epoch 6/15\n",
            "1582/1582 [==============================] - 50s 31ms/step - loss: 0.9222 - accuracy: 0.7387 - _timestamp: 1650428559.0000 - _runtime: 331.0000\n",
            "Epoch 7/15\n",
            "1582/1582 [==============================] - 52s 33ms/step - loss: 0.8861 - accuracy: 0.7464 - _timestamp: 1650428610.0000 - _runtime: 382.0000\n",
            "Epoch 8/15\n",
            "1582/1582 [==============================] - 50s 31ms/step - loss: 0.8587 - accuracy: 0.7533 - _timestamp: 1650428660.0000 - _runtime: 432.0000\n",
            "Epoch 9/15\n",
            "1582/1582 [==============================] - 50s 31ms/step - loss: 0.8305 - accuracy: 0.7605 - _timestamp: 1650428710.0000 - _runtime: 482.0000\n",
            "Epoch 10/15\n",
            "1582/1582 [==============================] - 51s 32ms/step - loss: 0.8061 - accuracy: 0.7673 - _timestamp: 1650428761.0000 - _runtime: 533.0000\n",
            "Epoch 11/15\n",
            "1582/1582 [==============================] - 50s 32ms/step - loss: 0.7848 - accuracy: 0.7734 - _timestamp: 1650428811.0000 - _runtime: 583.0000\n",
            "Epoch 12/15\n",
            "1582/1582 [==============================] - 50s 32ms/step - loss: 0.7663 - accuracy: 0.7788 - _timestamp: 1650428861.0000 - _runtime: 633.0000\n",
            "Epoch 13/15\n",
            "1582/1582 [==============================] - 50s 31ms/step - loss: 0.7485 - accuracy: 0.7838 - _timestamp: 1650428910.0000 - _runtime: 682.0000\n",
            "Epoch 14/15\n",
            "1582/1582 [==============================] - 47s 30ms/step - loss: 0.7310 - accuracy: 0.7883 - _timestamp: 1650428957.0000 - _runtime: 729.0000\n",
            "Epoch 15/15\n",
            "1582/1582 [==============================] - 47s 30ms/step - loss: 0.7140 - accuracy: 0.7927 - _timestamp: 1650429004.0000 - _runtime: 776.0000\n",
            "success:8\n",
            "val_acc0.0015914064054107818\n",
            "\n"
          ]
        },
        {
          "output_type": "display_data",
          "data": {
            "text/plain": [
              "<IPython.core.display.HTML object>"
            ],
            "text/html": [
              "Waiting for W&B process to finish... <strong style=\"color:green\">(success).</strong>"
            ]
          },
          "metadata": {}
        },
        {
          "output_type": "display_data",
          "data": {
            "text/plain": [
              "VBox(children=(Label(value='1.552 MB of 1.552 MB uploaded (0.000 MB deduped)\\r'), FloatProgress(value=1.0, max…"
            ],
            "application/vnd.jupyter.widget-view+json": {
              "version_major": 2,
              "version_minor": 0,
              "model_id": "38105b3505654e5eb43876e14a639a0e"
            }
          },
          "metadata": {}
        },
        {
          "output_type": "display_data",
          "data": {
            "text/plain": [
              "<IPython.core.display.HTML object>"
            ],
            "text/html": [
              "<style>\n",
              "    table.wandb td:nth-child(1) { padding: 0 10px; text-align: right }\n",
              "    .wandb-row { display: flex; flex-direction: row; flex-wrap: wrap; width: 100% }\n",
              "    .wandb-col { display: flex; flex-direction: column; flex-basis: 100%; flex: 1; padding: 10px; }\n",
              "    </style>\n",
              "<div class=\"wandb-row\"><div class=\"wandb-col\"><h3>Run history:</h3><br/><table class=\"wandb\"><tr><td>accuracy</td><td>▁▂▃▄▄▅▆▆▆▇▇▇███</td></tr><tr><td>epoch</td><td>▁▁▂▃▃▃▄▅▅▅▆▇▇▇█</td></tr><tr><td>loss</td><td>█▆▅▅▄▃▃▃▂▂▂▂▁▁▁</td></tr><tr><td>val_acc</td><td>▁</td></tr></table><br/></div><div class=\"wandb-col\"><h3>Run summary:</h3><br/><table class=\"wandb\"><tr><td>accuracy</td><td>0.79267</td></tr><tr><td>epoch</td><td>14</td></tr><tr><td>loss</td><td>0.71397</td></tr><tr><td>val_acc</td><td>0.00159</td></tr></table><br/></div></div>"
            ]
          },
          "metadata": {}
        },
        {
          "output_type": "display_data",
          "data": {
            "text/plain": [
              "<IPython.core.display.HTML object>"
            ],
            "text/html": [
              "Synced <strong style=\"color:#cdcd00\">fanciful-sweep-4</strong>: <a href=\"https://wandb.ai/akshaygrao/DeepLearningAssignment-3/runs/dwjt2w0g\" target=\"_blank\">https://wandb.ai/akshaygrao/DeepLearningAssignment-3/runs/dwjt2w0g</a><br/>Synced 5 W&B file(s), 1 media file(s), 0 artifact file(s) and 1 other file(s)"
            ]
          },
          "metadata": {}
        },
        {
          "output_type": "display_data",
          "data": {
            "text/plain": [
              "<IPython.core.display.HTML object>"
            ],
            "text/html": [
              "Find logs at: <code>./wandb/run-20220420_041708-dwjt2w0g/logs</code>"
            ]
          },
          "metadata": {}
        },
        {
          "output_type": "stream",
          "name": "stderr",
          "text": [
            "\u001b[34m\u001b[1mwandb\u001b[0m: Agent Starting Run: e44fn58m with config:\n",
            "\u001b[34m\u001b[1mwandb\u001b[0m: \tbeam_search: False\n",
            "\u001b[34m\u001b[1mwandb\u001b[0m: \tdecoder_layers: 7\n",
            "\u001b[34m\u001b[1mwandb\u001b[0m: \tdropout: 0.7\n",
            "\u001b[34m\u001b[1mwandb\u001b[0m: \tembedding_out_dim: 128\n",
            "\u001b[34m\u001b[1mwandb\u001b[0m: \tencoder_layers: 10\n",
            "\u001b[34m\u001b[1mwandb\u001b[0m: \tepochs: 10\n",
            "\u001b[34m\u001b[1mwandb\u001b[0m: \tlatent_dim: 128\n",
            "\u001b[34m\u001b[1mwandb\u001b[0m: \tlr: 0.0001\n",
            "\u001b[34m\u001b[1mwandb\u001b[0m: \trnn_type: GRU\n"
          ]
        },
        {
          "output_type": "stream",
          "name": "stdout",
          "text": [
            "INFO:tensorflow:Using MirroredStrategy with devices ('/job:localhost/replica:0/task:0/device:GPU:0',)\n",
            "Number of devices: 1\n"
          ]
        },
        {
          "output_type": "stream",
          "name": "stderr",
          "text": [
            "\u001b[34m\u001b[1mwandb\u001b[0m: \u001b[33mWARNING\u001b[0m Ignored wandb.init() arg project when running a sweep.\n",
            "\u001b[34m\u001b[1mwandb\u001b[0m: \u001b[33mWARNING\u001b[0m Ignored wandb.init() arg entity when running a sweep.\n"
          ]
        },
        {
          "output_type": "display_data",
          "data": {
            "text/plain": [
              "<IPython.core.display.HTML object>"
            ],
            "text/html": [
              "Tracking run with wandb version 0.12.14"
            ]
          },
          "metadata": {}
        },
        {
          "output_type": "display_data",
          "data": {
            "text/plain": [
              "<IPython.core.display.HTML object>"
            ],
            "text/html": [
              "Run data is saved locally in <code>/content/wandb/run-20220420_043051-e44fn58m</code>"
            ]
          },
          "metadata": {}
        },
        {
          "output_type": "display_data",
          "data": {
            "text/plain": [
              "<IPython.core.display.HTML object>"
            ],
            "text/html": [
              "Syncing run <strong><a href=\"https://wandb.ai/akshaygrao/DeepLearningAssignment-3/runs/e44fn58m\" target=\"_blank\">pleasant-sweep-5</a></strong> to <a href=\"https://wandb.ai/akshaygrao/DeepLearningAssignment-3\" target=\"_blank\">Weights & Biases</a> (<a href=\"https://wandb.me/run\" target=\"_blank\">docs</a>)<br/>Sweep page:  <a href=\"https://wandb.ai/akshaygrao/DeepLearningAssignment-3/sweeps/343i8hbd\" target=\"_blank\">https://wandb.ai/akshaygrao/DeepLearningAssignment-3/sweeps/343i8hbd</a>"
            ]
          },
          "metadata": {}
        },
        {
          "output_type": "stream",
          "name": "stdout",
          "text": [
            "Config: {'beam_search': False, 'decoder_layers': 7, 'dropout': 0.7, 'embedding_out_dim': 128, 'encoder_layers': 10, 'epochs': 10, 'latent_dim': 128, 'lr': 0.0001, 'rnn_type': 'GRU'}\n",
            "Model: \"model\"\n",
            "__________________________________________________________________________________________________\n",
            " Layer (type)                   Output Shape         Param #     Connected to                     \n",
            "==================================================================================================\n",
            " input_1 (InputLayer)           [(None, 26)]         0           []                               \n",
            "                                                                                                  \n",
            " embedding (Embedding)          (None, 26, 128)      3456        ['input_1[0][0]']                \n",
            "                                                                                                  \n",
            " gru (GRU)                      [(None, 26, 128),    99072       ['embedding[0][0]']              \n",
            "                                 (None, 128)]                                                     \n",
            "                                                                                                  \n",
            " gru_1 (GRU)                    [(None, 26, 128),    99072       ['gru[0][0]']                    \n",
            "                                 (None, 128)]                                                     \n",
            "                                                                                                  \n",
            " gru_2 (GRU)                    [(None, 26, 128),    99072       ['gru_1[0][0]']                  \n",
            "                                 (None, 128)]                                                     \n",
            "                                                                                                  \n",
            " gru_3 (GRU)                    [(None, 26, 128),    99072       ['gru_2[0][0]']                  \n",
            "                                 (None, 128)]                                                     \n",
            "                                                                                                  \n",
            " gru_4 (GRU)                    [(None, 26, 128),    99072       ['gru_3[0][0]']                  \n",
            "                                 (None, 128)]                                                     \n",
            "                                                                                                  \n",
            " gru_5 (GRU)                    [(None, 26, 128),    99072       ['gru_4[0][0]']                  \n",
            "                                 (None, 128)]                                                     \n",
            "                                                                                                  \n",
            " gru_6 (GRU)                    [(None, 26, 128),    99072       ['gru_5[0][0]']                  \n",
            "                                 (None, 128)]                                                     \n",
            "                                                                                                  \n",
            " gru_7 (GRU)                    [(None, 26, 128),    99072       ['gru_6[0][0]']                  \n",
            "                                 (None, 128)]                                                     \n",
            "                                                                                                  \n",
            " input_2 (InputLayer)           [(None, 26)]         0           []                               \n",
            "                                                                                                  \n",
            " gru_8 (GRU)                    [(None, 26, 128),    99072       ['gru_7[0][0]']                  \n",
            "                                 (None, 128)]                                                     \n",
            "                                                                                                  \n",
            " embedding_1 (Embedding)        (None, 26, 128)      8192        ['input_2[0][0]']                \n",
            "                                                                                                  \n",
            " gru_9 (GRU)                    [(None, 26, 128),    99072       ['gru_8[0][0]']                  \n",
            "                                 (None, 128)]                                                     \n",
            "                                                                                                  \n",
            " gru_10 (GRU)                   [(None, 26, 128),    99072       ['embedding_1[0][0]',            \n",
            "                                 (None, 128)]                     'gru_9[0][1]']                  \n",
            "                                                                                                  \n",
            " gru_11 (GRU)                   [(None, 26, 128),    99072       ['gru_10[0][0]',                 \n",
            "                                 (None, 128)]                     'gru_9[0][1]']                  \n",
            "                                                                                                  \n",
            " gru_12 (GRU)                   [(None, 26, 128),    99072       ['gru_11[0][0]',                 \n",
            "                                 (None, 128)]                     'gru_9[0][1]']                  \n",
            "                                                                                                  \n",
            " gru_13 (GRU)                   [(None, 26, 128),    99072       ['gru_12[0][0]',                 \n",
            "                                 (None, 128)]                     'gru_9[0][1]']                  \n",
            "                                                                                                  \n",
            " gru_14 (GRU)                   [(None, 26, 128),    99072       ['gru_13[0][0]',                 \n",
            "                                 (None, 128)]                     'gru_9[0][1]']                  \n",
            "                                                                                                  \n",
            " gru_15 (GRU)                   [(None, 26, 128),    99072       ['gru_14[0][0]',                 \n",
            "                                 (None, 128)]                     'gru_9[0][1]']                  \n",
            "                                                                                                  \n",
            " gru_16 (GRU)                   [(None, 26, 128),    99072       ['gru_15[0][0]',                 \n",
            "                                 (None, 128)]                     'gru_9[0][1]']                  \n",
            "                                                                                                  \n",
            " final (Dense)                  (None, 26, 64)       8256        ['gru_16[0][0]']                 \n",
            "                                                                                                  \n",
            "==================================================================================================\n",
            "Total params: 1,704,128\n",
            "Trainable params: 1,704,128\n",
            "Non-trainable params: 0\n",
            "__________________________________________________________________________________________________\n",
            "Epoch 1/10\n",
            "   5/1582 [..............................] - ETA: 1:22 - loss: 4.1488 - accuracy: 0.1397WARNING:tensorflow:Callback method `on_train_batch_end` is slow compared to the batch time (batch time: 0.0410s vs `on_train_batch_end` time: 0.1312s). Check your callbacks.\n",
            "1582/1582 [==============================] - 85s 40ms/step - loss: 1.4184 - accuracy: 0.6537 - _timestamp: 1650429145.0000 - _runtime: 94.0000\n",
            "Epoch 2/10\n",
            "1582/1582 [==============================] - 63s 40ms/step - loss: 1.1688 - accuracy: 0.6762 - _timestamp: 1650429208.0000 - _runtime: 157.0000\n",
            "Epoch 3/10\n",
            "1582/1582 [==============================] - 64s 40ms/step - loss: 1.1140 - accuracy: 0.6904 - _timestamp: 1650429272.0000 - _runtime: 221.0000\n",
            "Epoch 4/10\n",
            "1582/1582 [==============================] - 66s 42ms/step - loss: 1.0416 - accuracy: 0.7152 - _timestamp: 1650429338.0000 - _runtime: 287.0000\n",
            "Epoch 5/10\n",
            "1582/1582 [==============================] - 69s 43ms/step - loss: 0.9575 - accuracy: 0.7322 - _timestamp: 1650429407.0000 - _runtime: 356.0000\n",
            "Epoch 6/10\n",
            "1582/1582 [==============================] - 67s 43ms/step - loss: 0.9042 - accuracy: 0.7421 - _timestamp: 1650429474.0000 - _runtime: 423.0000\n",
            "Epoch 7/10\n",
            "1582/1582 [==============================] - 67s 42ms/step - loss: 0.8757 - accuracy: 0.7491 - _timestamp: 1650429541.0000 - _runtime: 490.0000\n",
            "Epoch 8/10\n",
            "1582/1582 [==============================] - 67s 42ms/step - loss: 0.8527 - accuracy: 0.7545 - _timestamp: 1650429608.0000 - _runtime: 557.0000\n",
            "Epoch 9/10\n",
            "1582/1582 [==============================] - 67s 42ms/step - loss: 0.8327 - accuracy: 0.7592 - _timestamp: 1650429675.0000 - _runtime: 624.0000\n",
            "Epoch 10/10\n",
            "1582/1582 [==============================] - 67s 42ms/step - loss: 0.8152 - accuracy: 0.7638 - _timestamp: 1650429742.0000 - _runtime: 691.0000\n",
            "success:3\n",
            "val_acc0.0005967774020290431\n",
            "\n"
          ]
        },
        {
          "output_type": "display_data",
          "data": {
            "text/plain": [
              "<IPython.core.display.HTML object>"
            ],
            "text/html": [
              "Waiting for W&B process to finish... <strong style=\"color:green\">(success).</strong>"
            ]
          },
          "metadata": {}
        },
        {
          "output_type": "display_data",
          "data": {
            "text/plain": [
              "VBox(children=(Label(value='2.182 MB of 2.182 MB uploaded (0.000 MB deduped)\\r'), FloatProgress(value=1.0, max…"
            ],
            "application/vnd.jupyter.widget-view+json": {
              "version_major": 2,
              "version_minor": 0,
              "model_id": "dff4f65658884c2b8fc47ab09e3e1662"
            }
          },
          "metadata": {}
        },
        {
          "output_type": "display_data",
          "data": {
            "text/plain": [
              "<IPython.core.display.HTML object>"
            ],
            "text/html": [
              "<style>\n",
              "    table.wandb td:nth-child(1) { padding: 0 10px; text-align: right }\n",
              "    .wandb-row { display: flex; flex-direction: row; flex-wrap: wrap; width: 100% }\n",
              "    .wandb-col { display: flex; flex-direction: column; flex-basis: 100%; flex: 1; padding: 10px; }\n",
              "    </style>\n",
              "<div class=\"wandb-row\"><div class=\"wandb-col\"><h3>Run history:</h3><br/><table class=\"wandb\"><tr><td>accuracy</td><td>▁▂▃▅▆▇▇▇██</td></tr><tr><td>epoch</td><td>▁▂▃▃▄▅▆▆▇█</td></tr><tr><td>loss</td><td>█▅▄▄▃▂▂▁▁▁</td></tr><tr><td>val_acc</td><td>▁</td></tr></table><br/></div><div class=\"wandb-col\"><h3>Run summary:</h3><br/><table class=\"wandb\"><tr><td>accuracy</td><td>0.76384</td></tr><tr><td>epoch</td><td>9</td></tr><tr><td>loss</td><td>0.81518</td></tr><tr><td>val_acc</td><td>0.0006</td></tr></table><br/></div></div>"
            ]
          },
          "metadata": {}
        },
        {
          "output_type": "display_data",
          "data": {
            "text/plain": [
              "<IPython.core.display.HTML object>"
            ],
            "text/html": [
              "Synced <strong style=\"color:#cdcd00\">pleasant-sweep-5</strong>: <a href=\"https://wandb.ai/akshaygrao/DeepLearningAssignment-3/runs/e44fn58m\" target=\"_blank\">https://wandb.ai/akshaygrao/DeepLearningAssignment-3/runs/e44fn58m</a><br/>Synced 5 W&B file(s), 1 media file(s), 0 artifact file(s) and 1 other file(s)"
            ]
          },
          "metadata": {}
        },
        {
          "output_type": "display_data",
          "data": {
            "text/plain": [
              "<IPython.core.display.HTML object>"
            ],
            "text/html": [
              "Find logs at: <code>./wandb/run-20220420_043051-e44fn58m/logs</code>"
            ]
          },
          "metadata": {}
        },
        {
          "output_type": "stream",
          "name": "stderr",
          "text": [
            "\u001b[34m\u001b[1mwandb\u001b[0m: Agent Starting Run: jc8bnh12 with config:\n",
            "\u001b[34m\u001b[1mwandb\u001b[0m: \tbeam_search: False\n",
            "\u001b[34m\u001b[1mwandb\u001b[0m: \tdecoder_layers: 7\n",
            "\u001b[34m\u001b[1mwandb\u001b[0m: \tdropout: 0.7\n",
            "\u001b[34m\u001b[1mwandb\u001b[0m: \tembedding_out_dim: 128\n",
            "\u001b[34m\u001b[1mwandb\u001b[0m: \tencoder_layers: 7\n",
            "\u001b[34m\u001b[1mwandb\u001b[0m: \tepochs: 10\n",
            "\u001b[34m\u001b[1mwandb\u001b[0m: \tlatent_dim: 128\n",
            "\u001b[34m\u001b[1mwandb\u001b[0m: \tlr: 0.0001\n",
            "\u001b[34m\u001b[1mwandb\u001b[0m: \trnn_type: GRU\n"
          ]
        },
        {
          "output_type": "stream",
          "name": "stdout",
          "text": [
            "INFO:tensorflow:Using MirroredStrategy with devices ('/job:localhost/replica:0/task:0/device:GPU:0',)\n",
            "Number of devices: 1\n"
          ]
        },
        {
          "output_type": "stream",
          "name": "stderr",
          "text": [
            "\u001b[34m\u001b[1mwandb\u001b[0m: \u001b[33mWARNING\u001b[0m Ignored wandb.init() arg project when running a sweep.\n",
            "\u001b[34m\u001b[1mwandb\u001b[0m: \u001b[33mWARNING\u001b[0m Ignored wandb.init() arg entity when running a sweep.\n"
          ]
        },
        {
          "output_type": "display_data",
          "data": {
            "text/plain": [
              "<IPython.core.display.HTML object>"
            ],
            "text/html": [
              "Tracking run with wandb version 0.12.14"
            ]
          },
          "metadata": {}
        },
        {
          "output_type": "display_data",
          "data": {
            "text/plain": [
              "<IPython.core.display.HTML object>"
            ],
            "text/html": [
              "Run data is saved locally in <code>/content/wandb/run-20220420_044316-jc8bnh12</code>"
            ]
          },
          "metadata": {}
        },
        {
          "output_type": "display_data",
          "data": {
            "text/plain": [
              "<IPython.core.display.HTML object>"
            ],
            "text/html": [
              "Syncing run <strong><a href=\"https://wandb.ai/akshaygrao/DeepLearningAssignment-3/runs/jc8bnh12\" target=\"_blank\">genial-sweep-6</a></strong> to <a href=\"https://wandb.ai/akshaygrao/DeepLearningAssignment-3\" target=\"_blank\">Weights & Biases</a> (<a href=\"https://wandb.me/run\" target=\"_blank\">docs</a>)<br/>Sweep page:  <a href=\"https://wandb.ai/akshaygrao/DeepLearningAssignment-3/sweeps/343i8hbd\" target=\"_blank\">https://wandb.ai/akshaygrao/DeepLearningAssignment-3/sweeps/343i8hbd</a>"
            ]
          },
          "metadata": {}
        },
        {
          "output_type": "stream",
          "name": "stdout",
          "text": [
            "Config: {'beam_search': False, 'decoder_layers': 7, 'dropout': 0.7, 'embedding_out_dim': 128, 'encoder_layers': 7, 'epochs': 10, 'latent_dim': 128, 'lr': 0.0001, 'rnn_type': 'GRU'}\n",
            "Model: \"model\"\n",
            "__________________________________________________________________________________________________\n",
            " Layer (type)                   Output Shape         Param #     Connected to                     \n",
            "==================================================================================================\n",
            " input_1 (InputLayer)           [(None, 26)]         0           []                               \n",
            "                                                                                                  \n",
            " embedding (Embedding)          (None, 26, 128)      3456        ['input_1[0][0]']                \n",
            "                                                                                                  \n",
            " gru (GRU)                      [(None, 26, 128),    99072       ['embedding[0][0]']              \n",
            "                                 (None, 128)]                                                     \n",
            "                                                                                                  \n",
            " gru_1 (GRU)                    [(None, 26, 128),    99072       ['gru[0][0]']                    \n",
            "                                 (None, 128)]                                                     \n",
            "                                                                                                  \n",
            " gru_2 (GRU)                    [(None, 26, 128),    99072       ['gru_1[0][0]']                  \n",
            "                                 (None, 128)]                                                     \n",
            "                                                                                                  \n",
            " gru_3 (GRU)                    [(None, 26, 128),    99072       ['gru_2[0][0]']                  \n",
            "                                 (None, 128)]                                                     \n",
            "                                                                                                  \n",
            " gru_4 (GRU)                    [(None, 26, 128),    99072       ['gru_3[0][0]']                  \n",
            "                                 (None, 128)]                                                     \n",
            "                                                                                                  \n",
            " input_2 (InputLayer)           [(None, 26)]         0           []                               \n",
            "                                                                                                  \n",
            " gru_5 (GRU)                    [(None, 26, 128),    99072       ['gru_4[0][0]']                  \n",
            "                                 (None, 128)]                                                     \n",
            "                                                                                                  \n",
            " embedding_1 (Embedding)        (None, 26, 128)      8192        ['input_2[0][0]']                \n",
            "                                                                                                  \n",
            " gru_6 (GRU)                    [(None, 26, 128),    99072       ['gru_5[0][0]']                  \n",
            "                                 (None, 128)]                                                     \n",
            "                                                                                                  \n",
            " gru_7 (GRU)                    [(None, 26, 128),    99072       ['embedding_1[0][0]',            \n",
            "                                 (None, 128)]                     'gru_6[0][1]']                  \n",
            "                                                                                                  \n",
            " gru_8 (GRU)                    [(None, 26, 128),    99072       ['gru_7[0][0]',                  \n",
            "                                 (None, 128)]                     'gru_6[0][1]']                  \n",
            "                                                                                                  \n",
            " gru_9 (GRU)                    [(None, 26, 128),    99072       ['gru_8[0][0]',                  \n",
            "                                 (None, 128)]                     'gru_6[0][1]']                  \n",
            "                                                                                                  \n",
            " gru_10 (GRU)                   [(None, 26, 128),    99072       ['gru_9[0][0]',                  \n",
            "                                 (None, 128)]                     'gru_6[0][1]']                  \n",
            "                                                                                                  \n",
            " gru_11 (GRU)                   [(None, 26, 128),    99072       ['gru_10[0][0]',                 \n",
            "                                 (None, 128)]                     'gru_6[0][1]']                  \n",
            "                                                                                                  \n",
            " gru_12 (GRU)                   [(None, 26, 128),    99072       ['gru_11[0][0]',                 \n",
            "                                 (None, 128)]                     'gru_6[0][1]']                  \n",
            "                                                                                                  \n",
            " gru_13 (GRU)                   [(None, 26, 128),    99072       ['gru_12[0][0]',                 \n",
            "                                 (None, 128)]                     'gru_6[0][1]']                  \n",
            "                                                                                                  \n",
            " final (Dense)                  (None, 26, 64)       8256        ['gru_13[0][0]']                 \n",
            "                                                                                                  \n",
            "==================================================================================================\n",
            "Total params: 1,406,912\n",
            "Trainable params: 1,406,912\n",
            "Non-trainable params: 0\n",
            "__________________________________________________________________________________________________\n",
            "Epoch 1/10\n",
            "   5/1582 [..............................] - ETA: 1:07 - loss: 4.1518 - accuracy: 0.0966WARNING:tensorflow:Callback method `on_train_batch_end` is slow compared to the batch time (batch time: 0.0361s vs `on_train_batch_end` time: 0.1354s). Check your callbacks.\n",
            "1582/1582 [==============================] - 79s 37ms/step - loss: 1.3725 - accuracy: 0.6581 - _timestamp: 1650429884.0000 - _runtime: 88.0000\n",
            "Epoch 2/10\n",
            "1582/1582 [==============================] - 60s 38ms/step - loss: 1.1681 - accuracy: 0.6762 - _timestamp: 1650429944.0000 - _runtime: 148.0000\n",
            "Epoch 3/10\n",
            "1582/1582 [==============================] - 60s 38ms/step - loss: 1.1222 - accuracy: 0.6887 - _timestamp: 1650430004.0000 - _runtime: 208.0000\n",
            "Epoch 4/10\n",
            "1582/1582 [==============================] - 60s 38ms/step - loss: 1.0519 - accuracy: 0.7128 - _timestamp: 1650430064.0000 - _runtime: 268.0000\n",
            "Epoch 5/10\n",
            "1582/1582 [==============================] - 60s 38ms/step - loss: 0.9742 - accuracy: 0.7287 - _timestamp: 1650430123.0000 - _runtime: 327.0000\n",
            "Epoch 6/10\n",
            "1582/1582 [==============================] - 60s 38ms/step - loss: 0.9093 - accuracy: 0.7404 - _timestamp: 1650430184.0000 - _runtime: 388.0000\n",
            "Epoch 7/10\n",
            "1582/1582 [==============================] - 59s 38ms/step - loss: 0.8774 - accuracy: 0.7487 - _timestamp: 1650430243.0000 - _runtime: 447.0000\n",
            "Epoch 8/10\n",
            "1582/1582 [==============================] - 59s 37ms/step - loss: 0.8495 - accuracy: 0.7563 - _timestamp: 1650430302.0000 - _runtime: 506.0000\n",
            "Epoch 9/10\n",
            "1582/1582 [==============================] - 59s 37ms/step - loss: 0.8248 - accuracy: 0.7630 - _timestamp: 1650430360.0000 - _runtime: 564.0000\n",
            "Epoch 10/10\n",
            "1582/1582 [==============================] - 60s 38ms/step - loss: 0.8042 - accuracy: 0.7686 - _timestamp: 1650430420.0000 - _runtime: 624.0000\n",
            "success:1\n",
            "val_acc0.00019892580067634773\n",
            "\n"
          ]
        },
        {
          "output_type": "display_data",
          "data": {
            "text/plain": [
              "<IPython.core.display.HTML object>"
            ],
            "text/html": [
              "Waiting for W&B process to finish... <strong style=\"color:green\">(success).</strong>"
            ]
          },
          "metadata": {}
        },
        {
          "output_type": "display_data",
          "data": {
            "text/plain": [
              "VBox(children=(Label(value='1.804 MB of 1.804 MB uploaded (0.000 MB deduped)\\r'), FloatProgress(value=1.0, max…"
            ],
            "application/vnd.jupyter.widget-view+json": {
              "version_major": 2,
              "version_minor": 0,
              "model_id": "286f12c988674c9bba83d2622b9af4f9"
            }
          },
          "metadata": {}
        },
        {
          "output_type": "display_data",
          "data": {
            "text/plain": [
              "<IPython.core.display.HTML object>"
            ],
            "text/html": [
              "<style>\n",
              "    table.wandb td:nth-child(1) { padding: 0 10px; text-align: right }\n",
              "    .wandb-row { display: flex; flex-direction: row; flex-wrap: wrap; width: 100% }\n",
              "    .wandb-col { display: flex; flex-direction: column; flex-basis: 100%; flex: 1; padding: 10px; }\n",
              "    </style>\n",
              "<div class=\"wandb-row\"><div class=\"wandb-col\"><h3>Run history:</h3><br/><table class=\"wandb\"><tr><td>accuracy</td><td>▁▂▃▄▅▆▇▇██</td></tr><tr><td>epoch</td><td>▁▂▃▃▄▅▆▆▇█</td></tr><tr><td>loss</td><td>█▅▅▄▃▂▂▂▁▁</td></tr><tr><td>val_acc</td><td>▁</td></tr></table><br/></div><div class=\"wandb-col\"><h3>Run summary:</h3><br/><table class=\"wandb\"><tr><td>accuracy</td><td>0.76865</td></tr><tr><td>epoch</td><td>9</td></tr><tr><td>loss</td><td>0.80425</td></tr><tr><td>val_acc</td><td>0.0002</td></tr></table><br/></div></div>"
            ]
          },
          "metadata": {}
        },
        {
          "output_type": "display_data",
          "data": {
            "text/plain": [
              "<IPython.core.display.HTML object>"
            ],
            "text/html": [
              "Synced <strong style=\"color:#cdcd00\">genial-sweep-6</strong>: <a href=\"https://wandb.ai/akshaygrao/DeepLearningAssignment-3/runs/jc8bnh12\" target=\"_blank\">https://wandb.ai/akshaygrao/DeepLearningAssignment-3/runs/jc8bnh12</a><br/>Synced 5 W&B file(s), 1 media file(s), 0 artifact file(s) and 1 other file(s)"
            ]
          },
          "metadata": {}
        },
        {
          "output_type": "display_data",
          "data": {
            "text/plain": [
              "<IPython.core.display.HTML object>"
            ],
            "text/html": [
              "Find logs at: <code>./wandb/run-20220420_044316-jc8bnh12/logs</code>"
            ]
          },
          "metadata": {}
        },
        {
          "output_type": "stream",
          "name": "stderr",
          "text": [
            "\u001b[34m\u001b[1mwandb\u001b[0m: Agent Starting Run: leg7y9mp with config:\n",
            "\u001b[34m\u001b[1mwandb\u001b[0m: \tbeam_search: False\n",
            "\u001b[34m\u001b[1mwandb\u001b[0m: \tdecoder_layers: 10\n",
            "\u001b[34m\u001b[1mwandb\u001b[0m: \tdropout: 0.7\n",
            "\u001b[34m\u001b[1mwandb\u001b[0m: \tembedding_out_dim: 128\n",
            "\u001b[34m\u001b[1mwandb\u001b[0m: \tencoder_layers: 2\n",
            "\u001b[34m\u001b[1mwandb\u001b[0m: \tepochs: 10\n",
            "\u001b[34m\u001b[1mwandb\u001b[0m: \tlatent_dim: 128\n",
            "\u001b[34m\u001b[1mwandb\u001b[0m: \tlr: 0.0001\n",
            "\u001b[34m\u001b[1mwandb\u001b[0m: \trnn_type: GRU\n"
          ]
        },
        {
          "output_type": "stream",
          "name": "stdout",
          "text": [
            "INFO:tensorflow:Using MirroredStrategy with devices ('/job:localhost/replica:0/task:0/device:GPU:0',)\n",
            "Number of devices: 1\n"
          ]
        },
        {
          "output_type": "stream",
          "name": "stderr",
          "text": [
            "\u001b[34m\u001b[1mwandb\u001b[0m: \u001b[33mWARNING\u001b[0m Ignored wandb.init() arg project when running a sweep.\n",
            "\u001b[34m\u001b[1mwandb\u001b[0m: \u001b[33mWARNING\u001b[0m Ignored wandb.init() arg entity when running a sweep.\n"
          ]
        },
        {
          "output_type": "display_data",
          "data": {
            "text/plain": [
              "<IPython.core.display.HTML object>"
            ],
            "text/html": [
              "Tracking run with wandb version 0.12.14"
            ]
          },
          "metadata": {}
        },
        {
          "output_type": "display_data",
          "data": {
            "text/plain": [
              "<IPython.core.display.HTML object>"
            ],
            "text/html": [
              "Run data is saved locally in <code>/content/wandb/run-20220420_045429-leg7y9mp</code>"
            ]
          },
          "metadata": {}
        },
        {
          "output_type": "display_data",
          "data": {
            "text/plain": [
              "<IPython.core.display.HTML object>"
            ],
            "text/html": [
              "Syncing run <strong><a href=\"https://wandb.ai/akshaygrao/DeepLearningAssignment-3/runs/leg7y9mp\" target=\"_blank\">wild-sweep-7</a></strong> to <a href=\"https://wandb.ai/akshaygrao/DeepLearningAssignment-3\" target=\"_blank\">Weights & Biases</a> (<a href=\"https://wandb.me/run\" target=\"_blank\">docs</a>)<br/>Sweep page:  <a href=\"https://wandb.ai/akshaygrao/DeepLearningAssignment-3/sweeps/343i8hbd\" target=\"_blank\">https://wandb.ai/akshaygrao/DeepLearningAssignment-3/sweeps/343i8hbd</a>"
            ]
          },
          "metadata": {}
        },
        {
          "output_type": "stream",
          "name": "stdout",
          "text": [
            "Config: {'beam_search': False, 'decoder_layers': 10, 'dropout': 0.7, 'embedding_out_dim': 128, 'encoder_layers': 2, 'epochs': 10, 'latent_dim': 128, 'lr': 0.0001, 'rnn_type': 'GRU'}\n",
            "Model: \"model\"\n",
            "__________________________________________________________________________________________________\n",
            " Layer (type)                   Output Shape         Param #     Connected to                     \n",
            "==================================================================================================\n",
            " input_1 (InputLayer)           [(None, 26)]         0           []                               \n",
            "                                                                                                  \n",
            " embedding (Embedding)          (None, 26, 128)      3456        ['input_1[0][0]']                \n",
            "                                                                                                  \n",
            " input_2 (InputLayer)           [(None, 26)]         0           []                               \n",
            "                                                                                                  \n",
            " gru (GRU)                      [(None, 26, 128),    99072       ['embedding[0][0]']              \n",
            "                                 (None, 128)]                                                     \n",
            "                                                                                                  \n",
            " embedding_1 (Embedding)        (None, 26, 128)      8192        ['input_2[0][0]']                \n",
            "                                                                                                  \n",
            " gru_1 (GRU)                    [(None, 26, 128),    99072       ['gru[0][0]']                    \n",
            "                                 (None, 128)]                                                     \n",
            "                                                                                                  \n",
            " gru_2 (GRU)                    [(None, 26, 128),    99072       ['embedding_1[0][0]',            \n",
            "                                 (None, 128)]                     'gru_1[0][1]']                  \n",
            "                                                                                                  \n",
            " gru_3 (GRU)                    [(None, 26, 128),    99072       ['gru_2[0][0]',                  \n",
            "                                 (None, 128)]                     'gru_1[0][1]']                  \n",
            "                                                                                                  \n",
            " gru_4 (GRU)                    [(None, 26, 128),    99072       ['gru_3[0][0]',                  \n",
            "                                 (None, 128)]                     'gru_1[0][1]']                  \n",
            "                                                                                                  \n",
            " gru_5 (GRU)                    [(None, 26, 128),    99072       ['gru_4[0][0]',                  \n",
            "                                 (None, 128)]                     'gru_1[0][1]']                  \n",
            "                                                                                                  \n",
            " gru_6 (GRU)                    [(None, 26, 128),    99072       ['gru_5[0][0]',                  \n",
            "                                 (None, 128)]                     'gru_1[0][1]']                  \n",
            "                                                                                                  \n",
            " gru_7 (GRU)                    [(None, 26, 128),    99072       ['gru_6[0][0]',                  \n",
            "                                 (None, 128)]                     'gru_1[0][1]']                  \n",
            "                                                                                                  \n",
            " gru_8 (GRU)                    [(None, 26, 128),    99072       ['gru_7[0][0]',                  \n",
            "                                 (None, 128)]                     'gru_1[0][1]']                  \n",
            "                                                                                                  \n",
            " gru_9 (GRU)                    [(None, 26, 128),    99072       ['gru_8[0][0]',                  \n",
            "                                 (None, 128)]                     'gru_1[0][1]']                  \n",
            "                                                                                                  \n",
            " gru_10 (GRU)                   [(None, 26, 128),    99072       ['gru_9[0][0]',                  \n",
            "                                 (None, 128)]                     'gru_1[0][1]']                  \n",
            "                                                                                                  \n",
            " gru_11 (GRU)                   [(None, 26, 128),    99072       ['gru_10[0][0]',                 \n",
            "                                 (None, 128)]                     'gru_1[0][1]']                  \n",
            "                                                                                                  \n",
            " final (Dense)                  (None, 26, 64)       8256        ['gru_11[0][0]']                 \n",
            "                                                                                                  \n",
            "==================================================================================================\n",
            "Total params: 1,208,768\n",
            "Trainable params: 1,208,768\n",
            "Non-trainable params: 0\n",
            "__________________________________________________________________________________________________\n",
            "Epoch 1/10\n",
            "   5/1582 [..............................] - ETA: 56s - loss: 4.1509 - accuracy: 0.1829WARNING:tensorflow:Callback method `on_train_batch_end` is slow compared to the batch time (batch time: 0.0292s vs `on_train_batch_end` time: 0.0957s). Check your callbacks.\n",
            "1582/1582 [==============================] - 70s 33ms/step - loss: 1.3374 - accuracy: 0.6620 - _timestamp: 1650430548.0000 - _runtime: 79.0000\n",
            "Epoch 2/10\n",
            "1582/1582 [==============================] - 53s 33ms/step - loss: 1.1646 - accuracy: 0.6773 - _timestamp: 1650430601.0000 - _runtime: 132.0000\n",
            "Epoch 3/10\n",
            "1582/1582 [==============================] - 53s 34ms/step - loss: 1.1359 - accuracy: 0.6837 - _timestamp: 1650430654.0000 - _runtime: 185.0000\n",
            "Epoch 4/10\n",
            "1582/1582 [==============================] - 53s 34ms/step - loss: 1.1019 - accuracy: 0.6935 - _timestamp: 1650430707.0000 - _runtime: 238.0000\n",
            "Epoch 5/10\n",
            "1582/1582 [==============================] - 53s 34ms/step - loss: 1.0475 - accuracy: 0.7135 - _timestamp: 1650430760.0000 - _runtime: 291.0000\n",
            "Epoch 6/10\n",
            "1582/1582 [==============================] - 53s 33ms/step - loss: 1.0182 - accuracy: 0.7198 - _timestamp: 1650430813.0000 - _runtime: 344.0000\n",
            "Epoch 7/10\n",
            "1582/1582 [==============================] - 53s 33ms/step - loss: 0.9503 - accuracy: 0.7326 - _timestamp: 1650430865.0000 - _runtime: 396.0000\n",
            "Epoch 8/10\n",
            "1582/1582 [==============================] - 53s 34ms/step - loss: 0.9183 - accuracy: 0.7382 - _timestamp: 1650430919.0000 - _runtime: 450.0000\n",
            "Epoch 9/10\n",
            "1582/1582 [==============================] - 53s 34ms/step - loss: 0.9008 - accuracy: 0.7422 - _timestamp: 1650430972.0000 - _runtime: 503.0000\n",
            "Epoch 10/10\n",
            "1582/1582 [==============================] - 53s 33ms/step - loss: 0.8886 - accuracy: 0.7453 - _timestamp: 1650431025.0000 - _runtime: 556.0000\n",
            "success:0\n",
            "val_acc0.0\n",
            "\n"
          ]
        },
        {
          "output_type": "display_data",
          "data": {
            "text/plain": [
              "<IPython.core.display.HTML object>"
            ],
            "text/html": [
              "Waiting for W&B process to finish... <strong style=\"color:green\">(success).</strong>"
            ]
          },
          "metadata": {}
        },
        {
          "output_type": "display_data",
          "data": {
            "text/plain": [
              "VBox(children=(Label(value='1.548 MB of 1.548 MB uploaded (0.000 MB deduped)\\r'), FloatProgress(value=1.0, max…"
            ],
            "application/vnd.jupyter.widget-view+json": {
              "version_major": 2,
              "version_minor": 0,
              "model_id": "bb8094b9db4346c4801b84dd57fcf038"
            }
          },
          "metadata": {}
        },
        {
          "output_type": "display_data",
          "data": {
            "text/plain": [
              "<IPython.core.display.HTML object>"
            ],
            "text/html": [
              "<style>\n",
              "    table.wandb td:nth-child(1) { padding: 0 10px; text-align: right }\n",
              "    .wandb-row { display: flex; flex-direction: row; flex-wrap: wrap; width: 100% }\n",
              "    .wandb-col { display: flex; flex-direction: column; flex-basis: 100%; flex: 1; padding: 10px; }\n",
              "    </style>\n",
              "<div class=\"wandb-row\"><div class=\"wandb-col\"><h3>Run history:</h3><br/><table class=\"wandb\"><tr><td>accuracy</td><td>▁▂▃▄▅▆▇▇██</td></tr><tr><td>epoch</td><td>▁▂▃▃▄▅▆▆▇█</td></tr><tr><td>loss</td><td>█▅▅▄▃▃▂▁▁▁</td></tr><tr><td>val_acc</td><td>▁</td></tr></table><br/></div><div class=\"wandb-col\"><h3>Run summary:</h3><br/><table class=\"wandb\"><tr><td>accuracy</td><td>0.74529</td></tr><tr><td>epoch</td><td>9</td></tr><tr><td>loss</td><td>0.88858</td></tr><tr><td>val_acc</td><td>0.0</td></tr></table><br/></div></div>"
            ]
          },
          "metadata": {}
        },
        {
          "output_type": "display_data",
          "data": {
            "text/plain": [
              "<IPython.core.display.HTML object>"
            ],
            "text/html": [
              "Synced <strong style=\"color:#cdcd00\">wild-sweep-7</strong>: <a href=\"https://wandb.ai/akshaygrao/DeepLearningAssignment-3/runs/leg7y9mp\" target=\"_blank\">https://wandb.ai/akshaygrao/DeepLearningAssignment-3/runs/leg7y9mp</a><br/>Synced 5 W&B file(s), 1 media file(s), 0 artifact file(s) and 1 other file(s)"
            ]
          },
          "metadata": {}
        },
        {
          "output_type": "display_data",
          "data": {
            "text/plain": [
              "<IPython.core.display.HTML object>"
            ],
            "text/html": [
              "Find logs at: <code>./wandb/run-20220420_045429-leg7y9mp/logs</code>"
            ]
          },
          "metadata": {}
        },
        {
          "output_type": "stream",
          "name": "stderr",
          "text": [
            "\u001b[34m\u001b[1mwandb\u001b[0m: Agent Starting Run: wnbv28iq with config:\n",
            "\u001b[34m\u001b[1mwandb\u001b[0m: \tbeam_search: False\n",
            "\u001b[34m\u001b[1mwandb\u001b[0m: \tdecoder_layers: 5\n",
            "\u001b[34m\u001b[1mwandb\u001b[0m: \tdropout: 0.7\n",
            "\u001b[34m\u001b[1mwandb\u001b[0m: \tembedding_out_dim: 128\n",
            "\u001b[34m\u001b[1mwandb\u001b[0m: \tencoder_layers: 2\n",
            "\u001b[34m\u001b[1mwandb\u001b[0m: \tepochs: 15\n",
            "\u001b[34m\u001b[1mwandb\u001b[0m: \tlatent_dim: 128\n",
            "\u001b[34m\u001b[1mwandb\u001b[0m: \tlr: 0.0001\n",
            "\u001b[34m\u001b[1mwandb\u001b[0m: \trnn_type: GRU\n"
          ]
        },
        {
          "output_type": "stream",
          "name": "stdout",
          "text": [
            "INFO:tensorflow:Using MirroredStrategy with devices ('/job:localhost/replica:0/task:0/device:GPU:0',)\n",
            "Number of devices: 1\n"
          ]
        },
        {
          "output_type": "stream",
          "name": "stderr",
          "text": [
            "\u001b[34m\u001b[1mwandb\u001b[0m: \u001b[33mWARNING\u001b[0m Ignored wandb.init() arg project when running a sweep.\n",
            "\u001b[34m\u001b[1mwandb\u001b[0m: \u001b[33mWARNING\u001b[0m Ignored wandb.init() arg entity when running a sweep.\n"
          ]
        },
        {
          "output_type": "display_data",
          "data": {
            "text/plain": [
              "<IPython.core.display.HTML object>"
            ],
            "text/html": [
              "Tracking run with wandb version 0.12.14"
            ]
          },
          "metadata": {}
        },
        {
          "output_type": "display_data",
          "data": {
            "text/plain": [
              "<IPython.core.display.HTML object>"
            ],
            "text/html": [
              "Run data is saved locally in <code>/content/wandb/run-20220420_050438-wnbv28iq</code>"
            ]
          },
          "metadata": {}
        },
        {
          "output_type": "display_data",
          "data": {
            "text/plain": [
              "<IPython.core.display.HTML object>"
            ],
            "text/html": [
              "Syncing run <strong><a href=\"https://wandb.ai/akshaygrao/DeepLearningAssignment-3/runs/wnbv28iq\" target=\"_blank\">sleek-sweep-8</a></strong> to <a href=\"https://wandb.ai/akshaygrao/DeepLearningAssignment-3\" target=\"_blank\">Weights & Biases</a> (<a href=\"https://wandb.me/run\" target=\"_blank\">docs</a>)<br/>Sweep page:  <a href=\"https://wandb.ai/akshaygrao/DeepLearningAssignment-3/sweeps/343i8hbd\" target=\"_blank\">https://wandb.ai/akshaygrao/DeepLearningAssignment-3/sweeps/343i8hbd</a>"
            ]
          },
          "metadata": {}
        },
        {
          "output_type": "stream",
          "name": "stdout",
          "text": [
            "Config: {'beam_search': False, 'decoder_layers': 5, 'dropout': 0.7, 'embedding_out_dim': 128, 'encoder_layers': 2, 'epochs': 15, 'latent_dim': 128, 'lr': 0.0001, 'rnn_type': 'GRU'}\n",
            "Model: \"model\"\n",
            "__________________________________________________________________________________________________\n",
            " Layer (type)                   Output Shape         Param #     Connected to                     \n",
            "==================================================================================================\n",
            " input_1 (InputLayer)           [(None, 26)]         0           []                               \n",
            "                                                                                                  \n",
            " embedding (Embedding)          (None, 26, 128)      3456        ['input_1[0][0]']                \n",
            "                                                                                                  \n",
            " input_2 (InputLayer)           [(None, 26)]         0           []                               \n",
            "                                                                                                  \n",
            " gru (GRU)                      [(None, 26, 128),    99072       ['embedding[0][0]']              \n",
            "                                 (None, 128)]                                                     \n",
            "                                                                                                  \n",
            " embedding_1 (Embedding)        (None, 26, 128)      8192        ['input_2[0][0]']                \n",
            "                                                                                                  \n",
            " gru_1 (GRU)                    [(None, 26, 128),    99072       ['gru[0][0]']                    \n",
            "                                 (None, 128)]                                                     \n",
            "                                                                                                  \n",
            " gru_2 (GRU)                    [(None, 26, 128),    99072       ['embedding_1[0][0]',            \n",
            "                                 (None, 128)]                     'gru_1[0][1]']                  \n",
            "                                                                                                  \n",
            " gru_3 (GRU)                    [(None, 26, 128),    99072       ['gru_2[0][0]',                  \n",
            "                                 (None, 128)]                     'gru_1[0][1]']                  \n",
            "                                                                                                  \n",
            " gru_4 (GRU)                    [(None, 26, 128),    99072       ['gru_3[0][0]',                  \n",
            "                                 (None, 128)]                     'gru_1[0][1]']                  \n",
            "                                                                                                  \n",
            " gru_5 (GRU)                    [(None, 26, 128),    99072       ['gru_4[0][0]',                  \n",
            "                                 (None, 128)]                     'gru_1[0][1]']                  \n",
            "                                                                                                  \n",
            " gru_6 (GRU)                    [(None, 26, 128),    99072       ['gru_5[0][0]',                  \n",
            "                                 (None, 128)]                     'gru_1[0][1]']                  \n",
            "                                                                                                  \n",
            " final (Dense)                  (None, 26, 64)       8256        ['gru_6[0][0]']                  \n",
            "                                                                                                  \n",
            "==================================================================================================\n",
            "Total params: 713,408\n",
            "Trainable params: 713,408\n",
            "Non-trainable params: 0\n",
            "__________________________________________________________________________________________________\n",
            "Epoch 1/15\n",
            "   5/1582 [..............................] - ETA: 42s - loss: 4.1429 - accuracy: 0.1070WARNING:tensorflow:Callback method `on_train_batch_end` is slow compared to the batch time (batch time: 0.0219s vs `on_train_batch_end` time: 0.0556s). Check your callbacks.\n",
            "1582/1582 [==============================] - 45s 22ms/step - loss: 1.3338 - accuracy: 0.6643 - _timestamp: 1650431131.0000 - _runtime: 53.0000\n",
            "Epoch 2/15\n",
            "1582/1582 [==============================] - 34s 22ms/step - loss: 1.0913 - accuracy: 0.7033 - _timestamp: 1650431165.0000 - _runtime: 87.0000\n",
            "Epoch 3/15\n",
            "1582/1582 [==============================] - 35s 22ms/step - loss: 1.0445 - accuracy: 0.7143 - _timestamp: 1650431201.0000 - _runtime: 123.0000\n",
            "Epoch 4/15\n",
            "1582/1582 [==============================] - 35s 22ms/step - loss: 0.9596 - accuracy: 0.7309 - _timestamp: 1650431235.0000 - _runtime: 157.0000\n",
            "Epoch 5/15\n",
            "1582/1582 [==============================] - 35s 22ms/step - loss: 0.9190 - accuracy: 0.7398 - _timestamp: 1650431270.0000 - _runtime: 192.0000\n",
            "Epoch 6/15\n",
            "1582/1582 [==============================] - 35s 22ms/step - loss: 0.8951 - accuracy: 0.7452 - _timestamp: 1650431305.0000 - _runtime: 227.0000\n",
            "Epoch 7/15\n",
            "1582/1582 [==============================] - 35s 22ms/step - loss: 0.8767 - accuracy: 0.7498 - _timestamp: 1650431340.0000 - _runtime: 262.0000\n",
            "Epoch 8/15\n",
            "1582/1582 [==============================] - 35s 22ms/step - loss: 0.8603 - accuracy: 0.7542 - _timestamp: 1650431376.0000 - _runtime: 298.0000\n",
            "Epoch 9/15\n",
            "1582/1582 [==============================] - 35s 22ms/step - loss: 0.8443 - accuracy: 0.7593 - _timestamp: 1650431411.0000 - _runtime: 333.0000\n",
            "Epoch 10/15\n",
            "1582/1582 [==============================] - 35s 22ms/step - loss: 0.8286 - accuracy: 0.7633 - _timestamp: 1650431446.0000 - _runtime: 368.0000\n",
            "Epoch 11/15\n",
            "1582/1582 [==============================] - 36s 23ms/step - loss: 0.8142 - accuracy: 0.7668 - _timestamp: 1650431481.0000 - _runtime: 403.0000\n",
            "Epoch 12/15\n",
            "1582/1582 [==============================] - 35s 22ms/step - loss: 0.7990 - accuracy: 0.7711 - _timestamp: 1650431517.0000 - _runtime: 439.0000\n",
            "Epoch 13/15\n",
            "1582/1582 [==============================] - 35s 22ms/step - loss: 0.7825 - accuracy: 0.7755 - _timestamp: 1650431552.0000 - _runtime: 474.0000\n",
            "Epoch 14/15\n",
            "1582/1582 [==============================] - 36s 23ms/step - loss: 0.7665 - accuracy: 0.7798 - _timestamp: 1650431588.0000 - _runtime: 510.0000\n",
            "Epoch 15/15\n",
            "1582/1582 [==============================] - 36s 23ms/step - loss: 0.7489 - accuracy: 0.7848 - _timestamp: 1650431624.0000 - _runtime: 546.0000\n",
            "success:0\n",
            "val_acc0.0\n",
            "\n"
          ]
        },
        {
          "output_type": "display_data",
          "data": {
            "text/plain": [
              "<IPython.core.display.HTML object>"
            ],
            "text/html": [
              "Waiting for W&B process to finish... <strong style=\"color:green\">(success).</strong>"
            ]
          },
          "metadata": {}
        },
        {
          "output_type": "display_data",
          "data": {
            "text/plain": [
              "VBox(children=(Label(value='0.926 MB of 0.926 MB uploaded (0.000 MB deduped)\\r'), FloatProgress(value=1.0, max…"
            ],
            "application/vnd.jupyter.widget-view+json": {
              "version_major": 2,
              "version_minor": 0,
              "model_id": "0b23326d66b34e958eeef03261db7cb1"
            }
          },
          "metadata": {}
        },
        {
          "output_type": "display_data",
          "data": {
            "text/plain": [
              "<IPython.core.display.HTML object>"
            ],
            "text/html": [
              "<style>\n",
              "    table.wandb td:nth-child(1) { padding: 0 10px; text-align: right }\n",
              "    .wandb-row { display: flex; flex-direction: row; flex-wrap: wrap; width: 100% }\n",
              "    .wandb-col { display: flex; flex-direction: column; flex-basis: 100%; flex: 1; padding: 10px; }\n",
              "    </style>\n",
              "<div class=\"wandb-row\"><div class=\"wandb-col\"><h3>Run history:</h3><br/><table class=\"wandb\"><tr><td>accuracy</td><td>▁▃▄▅▅▆▆▆▇▇▇▇▇██</td></tr><tr><td>epoch</td><td>▁▁▂▃▃▃▄▅▅▅▆▇▇▇█</td></tr><tr><td>loss</td><td>█▅▅▄▃▃▃▂▂▂▂▂▁▁▁</td></tr><tr><td>val_acc</td><td>▁</td></tr></table><br/></div><div class=\"wandb-col\"><h3>Run summary:</h3><br/><table class=\"wandb\"><tr><td>accuracy</td><td>0.78479</td></tr><tr><td>epoch</td><td>14</td></tr><tr><td>loss</td><td>0.74887</td></tr><tr><td>val_acc</td><td>0.0</td></tr></table><br/></div></div>"
            ]
          },
          "metadata": {}
        },
        {
          "output_type": "display_data",
          "data": {
            "text/plain": [
              "<IPython.core.display.HTML object>"
            ],
            "text/html": [
              "Synced <strong style=\"color:#cdcd00\">sleek-sweep-8</strong>: <a href=\"https://wandb.ai/akshaygrao/DeepLearningAssignment-3/runs/wnbv28iq\" target=\"_blank\">https://wandb.ai/akshaygrao/DeepLearningAssignment-3/runs/wnbv28iq</a><br/>Synced 5 W&B file(s), 1 media file(s), 0 artifact file(s) and 1 other file(s)"
            ]
          },
          "metadata": {}
        },
        {
          "output_type": "display_data",
          "data": {
            "text/plain": [
              "<IPython.core.display.HTML object>"
            ],
            "text/html": [
              "Find logs at: <code>./wandb/run-20220420_050438-wnbv28iq/logs</code>"
            ]
          },
          "metadata": {}
        },
        {
          "output_type": "stream",
          "name": "stderr",
          "text": [
            "\u001b[34m\u001b[1mwandb\u001b[0m: Agent Starting Run: v4v4z4rk with config:\n",
            "\u001b[34m\u001b[1mwandb\u001b[0m: \tbeam_search: False\n",
            "\u001b[34m\u001b[1mwandb\u001b[0m: \tdecoder_layers: 5\n",
            "\u001b[34m\u001b[1mwandb\u001b[0m: \tdropout: 0.7\n",
            "\u001b[34m\u001b[1mwandb\u001b[0m: \tembedding_out_dim: 128\n",
            "\u001b[34m\u001b[1mwandb\u001b[0m: \tencoder_layers: 7\n",
            "\u001b[34m\u001b[1mwandb\u001b[0m: \tepochs: 15\n",
            "\u001b[34m\u001b[1mwandb\u001b[0m: \tlatent_dim: 128\n",
            "\u001b[34m\u001b[1mwandb\u001b[0m: \tlr: 0.0001\n",
            "\u001b[34m\u001b[1mwandb\u001b[0m: \trnn_type: GRU\n"
          ]
        },
        {
          "output_type": "stream",
          "name": "stdout",
          "text": [
            "INFO:tensorflow:Using MirroredStrategy with devices ('/job:localhost/replica:0/task:0/device:GPU:0',)\n",
            "Number of devices: 1\n"
          ]
        },
        {
          "output_type": "stream",
          "name": "stderr",
          "text": [
            "\u001b[34m\u001b[1mwandb\u001b[0m: \u001b[33mWARNING\u001b[0m Ignored wandb.init() arg project when running a sweep.\n",
            "\u001b[34m\u001b[1mwandb\u001b[0m: \u001b[33mWARNING\u001b[0m Ignored wandb.init() arg entity when running a sweep.\n"
          ]
        },
        {
          "output_type": "display_data",
          "data": {
            "text/plain": [
              "<IPython.core.display.HTML object>"
            ],
            "text/html": [
              "Tracking run with wandb version 0.12.14"
            ]
          },
          "metadata": {}
        },
        {
          "output_type": "display_data",
          "data": {
            "text/plain": [
              "<IPython.core.display.HTML object>"
            ],
            "text/html": [
              "Run data is saved locally in <code>/content/wandb/run-20220420_051431-v4v4z4rk</code>"
            ]
          },
          "metadata": {}
        },
        {
          "output_type": "display_data",
          "data": {
            "text/plain": [
              "<IPython.core.display.HTML object>"
            ],
            "text/html": [
              "Syncing run <strong><a href=\"https://wandb.ai/akshaygrao/DeepLearningAssignment-3/runs/v4v4z4rk\" target=\"_blank\">true-sweep-9</a></strong> to <a href=\"https://wandb.ai/akshaygrao/DeepLearningAssignment-3\" target=\"_blank\">Weights & Biases</a> (<a href=\"https://wandb.me/run\" target=\"_blank\">docs</a>)<br/>Sweep page:  <a href=\"https://wandb.ai/akshaygrao/DeepLearningAssignment-3/sweeps/343i8hbd\" target=\"_blank\">https://wandb.ai/akshaygrao/DeepLearningAssignment-3/sweeps/343i8hbd</a>"
            ]
          },
          "metadata": {}
        },
        {
          "output_type": "stream",
          "name": "stdout",
          "text": [
            "Config: {'beam_search': False, 'decoder_layers': 5, 'dropout': 0.7, 'embedding_out_dim': 128, 'encoder_layers': 7, 'epochs': 15, 'latent_dim': 128, 'lr': 0.0001, 'rnn_type': 'GRU'}\n",
            "Model: \"model\"\n",
            "__________________________________________________________________________________________________\n",
            " Layer (type)                   Output Shape         Param #     Connected to                     \n",
            "==================================================================================================\n",
            " input_1 (InputLayer)           [(None, 26)]         0           []                               \n",
            "                                                                                                  \n",
            " embedding (Embedding)          (None, 26, 128)      3456        ['input_1[0][0]']                \n",
            "                                                                                                  \n",
            " gru (GRU)                      [(None, 26, 128),    99072       ['embedding[0][0]']              \n",
            "                                 (None, 128)]                                                     \n",
            "                                                                                                  \n",
            " gru_1 (GRU)                    [(None, 26, 128),    99072       ['gru[0][0]']                    \n",
            "                                 (None, 128)]                                                     \n",
            "                                                                                                  \n",
            " gru_2 (GRU)                    [(None, 26, 128),    99072       ['gru_1[0][0]']                  \n",
            "                                 (None, 128)]                                                     \n",
            "                                                                                                  \n",
            " gru_3 (GRU)                    [(None, 26, 128),    99072       ['gru_2[0][0]']                  \n",
            "                                 (None, 128)]                                                     \n",
            "                                                                                                  \n",
            " gru_4 (GRU)                    [(None, 26, 128),    99072       ['gru_3[0][0]']                  \n",
            "                                 (None, 128)]                                                     \n",
            "                                                                                                  \n",
            " input_2 (InputLayer)           [(None, 26)]         0           []                               \n",
            "                                                                                                  \n",
            " gru_5 (GRU)                    [(None, 26, 128),    99072       ['gru_4[0][0]']                  \n",
            "                                 (None, 128)]                                                     \n",
            "                                                                                                  \n",
            " embedding_1 (Embedding)        (None, 26, 128)      8192        ['input_2[0][0]']                \n",
            "                                                                                                  \n",
            " gru_6 (GRU)                    [(None, 26, 128),    99072       ['gru_5[0][0]']                  \n",
            "                                 (None, 128)]                                                     \n",
            "                                                                                                  \n",
            " gru_7 (GRU)                    [(None, 26, 128),    99072       ['embedding_1[0][0]',            \n",
            "                                 (None, 128)]                     'gru_6[0][1]']                  \n",
            "                                                                                                  \n",
            " gru_8 (GRU)                    [(None, 26, 128),    99072       ['gru_7[0][0]',                  \n",
            "                                 (None, 128)]                     'gru_6[0][1]']                  \n",
            "                                                                                                  \n",
            " gru_9 (GRU)                    [(None, 26, 128),    99072       ['gru_8[0][0]',                  \n",
            "                                 (None, 128)]                     'gru_6[0][1]']                  \n",
            "                                                                                                  \n",
            " gru_10 (GRU)                   [(None, 26, 128),    99072       ['gru_9[0][0]',                  \n",
            "                                 (None, 128)]                     'gru_6[0][1]']                  \n",
            "                                                                                                  \n",
            " gru_11 (GRU)                   [(None, 26, 128),    99072       ['gru_10[0][0]',                 \n",
            "                                 (None, 128)]                     'gru_6[0][1]']                  \n",
            "                                                                                                  \n",
            " final (Dense)                  (None, 26, 64)       8256        ['gru_11[0][0]']                 \n",
            "                                                                                                  \n",
            "==================================================================================================\n",
            "Total params: 1,208,768\n",
            "Trainable params: 1,208,768\n",
            "Non-trainable params: 0\n",
            "__________________________________________________________________________________________________\n",
            "Epoch 1/15\n",
            "   5/1582 [..............................] - ETA: 57s - loss: 4.1504 - accuracy: 0.0839WARNING:tensorflow:Callback method `on_train_batch_end` is slow compared to the batch time (batch time: 0.0292s vs `on_train_batch_end` time: 0.1002s). Check your callbacks.\n",
            "1582/1582 [==============================] - 69s 33ms/step - loss: 1.3222 - accuracy: 0.6653 - _timestamp: 1650431749.0000 - _runtime: 78.0000\n",
            "Epoch 2/15\n",
            "1582/1582 [==============================] - 53s 33ms/step - loss: 1.0945 - accuracy: 0.7017 - _timestamp: 1650431801.0000 - _runtime: 130.0000\n",
            "Epoch 3/15\n",
            "1582/1582 [==============================] - 52s 33ms/step - loss: 1.0508 - accuracy: 0.7139 - _timestamp: 1650431854.0000 - _runtime: 183.0000\n",
            "Epoch 4/15\n",
            "1582/1582 [==============================] - 53s 33ms/step - loss: 0.9706 - accuracy: 0.7297 - _timestamp: 1650431907.0000 - _runtime: 236.0000\n",
            "Epoch 5/15\n",
            "1582/1582 [==============================] - 54s 34ms/step - loss: 0.9105 - accuracy: 0.7417 - _timestamp: 1650431960.0000 - _runtime: 289.0000\n",
            "Epoch 6/15\n",
            "1582/1582 [==============================] - 53s 34ms/step - loss: 0.8774 - accuracy: 0.7489 - _timestamp: 1650432013.0000 - _runtime: 342.0000\n",
            "Epoch 7/15\n",
            "1582/1582 [==============================] - 53s 34ms/step - loss: 0.8516 - accuracy: 0.7560 - _timestamp: 1650432067.0000 - _runtime: 396.0000\n",
            "Epoch 8/15\n",
            "1582/1582 [==============================] - 53s 34ms/step - loss: 0.8279 - accuracy: 0.7628 - _timestamp: 1650432120.0000 - _runtime: 449.0000\n",
            "Epoch 9/15\n",
            "1582/1582 [==============================] - 54s 34ms/step - loss: 0.8058 - accuracy: 0.7687 - _timestamp: 1650432174.0000 - _runtime: 503.0000\n",
            "Epoch 10/15\n",
            "1582/1582 [==============================] - 53s 33ms/step - loss: 0.7866 - accuracy: 0.7740 - _timestamp: 1650432226.0000 - _runtime: 555.0000\n",
            "Epoch 11/15\n",
            "1582/1582 [==============================] - 52s 33ms/step - loss: 0.7690 - accuracy: 0.7785 - _timestamp: 1650432279.0000 - _runtime: 608.0000\n",
            "Epoch 12/15\n",
            "1582/1582 [==============================] - 52s 33ms/step - loss: 0.7510 - accuracy: 0.7834 - _timestamp: 1650432331.0000 - _runtime: 660.0000\n",
            "Epoch 13/15\n",
            "1582/1582 [==============================] - 52s 33ms/step - loss: 0.7350 - accuracy: 0.7876 - _timestamp: 1650432383.0000 - _runtime: 712.0000\n",
            "Epoch 14/15\n",
            "1582/1582 [==============================] - 52s 33ms/step - loss: 0.7200 - accuracy: 0.7914 - _timestamp: 1650432435.0000 - _runtime: 764.0000\n",
            "Epoch 15/15\n",
            "1582/1582 [==============================] - 51s 32ms/step - loss: 0.7059 - accuracy: 0.7952 - _timestamp: 1650432486.0000 - _runtime: 815.0000\n",
            "success:2\n",
            "val_acc0.00039785160135269546\n",
            "\n"
          ]
        },
        {
          "output_type": "display_data",
          "data": {
            "text/plain": [
              "<IPython.core.display.HTML object>"
            ],
            "text/html": [
              "Waiting for W&B process to finish... <strong style=\"color:green\">(success).</strong>"
            ]
          },
          "metadata": {}
        },
        {
          "output_type": "display_data",
          "data": {
            "text/plain": [
              "VBox(children=(Label(value='1.556 MB of 1.556 MB uploaded (0.000 MB deduped)\\r'), FloatProgress(value=1.0, max…"
            ],
            "application/vnd.jupyter.widget-view+json": {
              "version_major": 2,
              "version_minor": 0,
              "model_id": "e598b933d30443aab3964c07717ac3a0"
            }
          },
          "metadata": {}
        },
        {
          "output_type": "display_data",
          "data": {
            "text/plain": [
              "<IPython.core.display.HTML object>"
            ],
            "text/html": [
              "<style>\n",
              "    table.wandb td:nth-child(1) { padding: 0 10px; text-align: right }\n",
              "    .wandb-row { display: flex; flex-direction: row; flex-wrap: wrap; width: 100% }\n",
              "    .wandb-col { display: flex; flex-direction: column; flex-basis: 100%; flex: 1; padding: 10px; }\n",
              "    </style>\n",
              "<div class=\"wandb-row\"><div class=\"wandb-col\"><h3>Run history:</h3><br/><table class=\"wandb\"><tr><td>accuracy</td><td>▁▃▄▄▅▆▆▆▇▇▇▇███</td></tr><tr><td>epoch</td><td>▁▁▂▃▃▃▄▅▅▅▆▇▇▇█</td></tr><tr><td>loss</td><td>█▅▅▄▃▃▃▂▂▂▂▂▁▁▁</td></tr><tr><td>val_acc</td><td>▁</td></tr></table><br/></div><div class=\"wandb-col\"><h3>Run summary:</h3><br/><table class=\"wandb\"><tr><td>accuracy</td><td>0.79516</td></tr><tr><td>epoch</td><td>14</td></tr><tr><td>loss</td><td>0.70586</td></tr><tr><td>val_acc</td><td>0.0004</td></tr></table><br/></div></div>"
            ]
          },
          "metadata": {}
        },
        {
          "output_type": "display_data",
          "data": {
            "text/plain": [
              "<IPython.core.display.HTML object>"
            ],
            "text/html": [
              "Synced <strong style=\"color:#cdcd00\">true-sweep-9</strong>: <a href=\"https://wandb.ai/akshaygrao/DeepLearningAssignment-3/runs/v4v4z4rk\" target=\"_blank\">https://wandb.ai/akshaygrao/DeepLearningAssignment-3/runs/v4v4z4rk</a><br/>Synced 5 W&B file(s), 1 media file(s), 0 artifact file(s) and 1 other file(s)"
            ]
          },
          "metadata": {}
        },
        {
          "output_type": "display_data",
          "data": {
            "text/plain": [
              "<IPython.core.display.HTML object>"
            ],
            "text/html": [
              "Find logs at: <code>./wandb/run-20220420_051431-v4v4z4rk/logs</code>"
            ]
          },
          "metadata": {}
        },
        {
          "output_type": "stream",
          "name": "stderr",
          "text": [
            "\u001b[34m\u001b[1mwandb\u001b[0m: Agent Starting Run: afsbagd3 with config:\n",
            "\u001b[34m\u001b[1mwandb\u001b[0m: \tbeam_search: False\n",
            "\u001b[34m\u001b[1mwandb\u001b[0m: \tdecoder_layers: 10\n",
            "\u001b[34m\u001b[1mwandb\u001b[0m: \tdropout: 0.3\n",
            "\u001b[34m\u001b[1mwandb\u001b[0m: \tembedding_out_dim: 32\n",
            "\u001b[34m\u001b[1mwandb\u001b[0m: \tencoder_layers: 5\n",
            "\u001b[34m\u001b[1mwandb\u001b[0m: \tepochs: 5\n",
            "\u001b[34m\u001b[1mwandb\u001b[0m: \tlatent_dim: 64\n",
            "\u001b[34m\u001b[1mwandb\u001b[0m: \tlr: 0.0001\n",
            "\u001b[34m\u001b[1mwandb\u001b[0m: \trnn_type: RNN\n"
          ]
        },
        {
          "output_type": "stream",
          "name": "stdout",
          "text": [
            "INFO:tensorflow:Using MirroredStrategy with devices ('/job:localhost/replica:0/task:0/device:GPU:0',)\n",
            "Number of devices: 1\n"
          ]
        },
        {
          "output_type": "stream",
          "name": "stderr",
          "text": [
            "\u001b[34m\u001b[1mwandb\u001b[0m: \u001b[33mWARNING\u001b[0m Ignored wandb.init() arg project when running a sweep.\n",
            "\u001b[34m\u001b[1mwandb\u001b[0m: \u001b[33mWARNING\u001b[0m Ignored wandb.init() arg entity when running a sweep.\n"
          ]
        },
        {
          "output_type": "display_data",
          "data": {
            "text/plain": [
              "<IPython.core.display.HTML object>"
            ],
            "text/html": [
              "Tracking run with wandb version 0.12.14"
            ]
          },
          "metadata": {}
        },
        {
          "output_type": "display_data",
          "data": {
            "text/plain": [
              "<IPython.core.display.HTML object>"
            ],
            "text/html": [
              "Run data is saved locally in <code>/content/wandb/run-20220420_052859-afsbagd3</code>"
            ]
          },
          "metadata": {}
        },
        {
          "output_type": "display_data",
          "data": {
            "text/plain": [
              "<IPython.core.display.HTML object>"
            ],
            "text/html": [
              "Syncing run <strong><a href=\"https://wandb.ai/akshaygrao/DeepLearningAssignment-3/runs/afsbagd3\" target=\"_blank\">sandy-sweep-10</a></strong> to <a href=\"https://wandb.ai/akshaygrao/DeepLearningAssignment-3\" target=\"_blank\">Weights & Biases</a> (<a href=\"https://wandb.me/run\" target=\"_blank\">docs</a>)<br/>Sweep page:  <a href=\"https://wandb.ai/akshaygrao/DeepLearningAssignment-3/sweeps/343i8hbd\" target=\"_blank\">https://wandb.ai/akshaygrao/DeepLearningAssignment-3/sweeps/343i8hbd</a>"
            ]
          },
          "metadata": {}
        },
        {
          "output_type": "stream",
          "name": "stdout",
          "text": [
            "Config: {'beam_search': False, 'decoder_layers': 10, 'dropout': 0.3, 'embedding_out_dim': 32, 'encoder_layers': 5, 'epochs': 5, 'latent_dim': 64, 'lr': 0.0001, 'rnn_type': 'RNN'}\n",
            "Model: \"model\"\n",
            "__________________________________________________________________________________________________\n",
            " Layer (type)                   Output Shape         Param #     Connected to                     \n",
            "==================================================================================================\n",
            " input_1 (InputLayer)           [(None, 26)]         0           []                               \n",
            "                                                                                                  \n",
            " embedding (Embedding)          (None, 26, 32)       864         ['input_1[0][0]']                \n",
            "                                                                                                  \n",
            " simple_rnn (SimpleRNN)         [(None, 26, 64),     6208        ['embedding[0][0]']              \n",
            "                                 (None, 64)]                                                      \n",
            "                                                                                                  \n",
            " simple_rnn_1 (SimpleRNN)       [(None, 26, 64),     8256        ['simple_rnn[0][0]']             \n",
            "                                 (None, 64)]                                                      \n",
            "                                                                                                  \n",
            " simple_rnn_2 (SimpleRNN)       [(None, 26, 64),     8256        ['simple_rnn_1[0][0]']           \n",
            "                                 (None, 64)]                                                      \n",
            "                                                                                                  \n",
            " input_2 (InputLayer)           [(None, 26)]         0           []                               \n",
            "                                                                                                  \n",
            " simple_rnn_3 (SimpleRNN)       [(None, 26, 64),     8256        ['simple_rnn_2[0][0]']           \n",
            "                                 (None, 64)]                                                      \n",
            "                                                                                                  \n",
            " embedding_1 (Embedding)        (None, 26, 32)       2048        ['input_2[0][0]']                \n",
            "                                                                                                  \n",
            " simple_rnn_4 (SimpleRNN)       [(None, 26, 64),     8256        ['simple_rnn_3[0][0]']           \n",
            "                                 (None, 64)]                                                      \n",
            "                                                                                                  \n",
            " simple_rnn_5 (SimpleRNN)       [(None, 26, 64),     6208        ['embedding_1[0][0]',            \n",
            "                                 (None, 64)]                      'simple_rnn_4[0][1]']           \n",
            "                                                                                                  \n",
            " simple_rnn_6 (SimpleRNN)       [(None, 26, 64),     8256        ['simple_rnn_5[0][0]',           \n",
            "                                 (None, 64)]                      'simple_rnn_4[0][1]']           \n",
            "                                                                                                  \n",
            " simple_rnn_7 (SimpleRNN)       [(None, 26, 64),     8256        ['simple_rnn_6[0][0]',           \n",
            "                                 (None, 64)]                      'simple_rnn_4[0][1]']           \n",
            "                                                                                                  \n",
            " simple_rnn_8 (SimpleRNN)       [(None, 26, 64),     8256        ['simple_rnn_7[0][0]',           \n",
            "                                 (None, 64)]                      'simple_rnn_4[0][1]']           \n",
            "                                                                                                  \n",
            " simple_rnn_9 (SimpleRNN)       [(None, 26, 64),     8256        ['simple_rnn_8[0][0]',           \n",
            "                                 (None, 64)]                      'simple_rnn_4[0][1]']           \n",
            "                                                                                                  \n",
            " simple_rnn_10 (SimpleRNN)      [(None, 26, 64),     8256        ['simple_rnn_9[0][0]',           \n",
            "                                 (None, 64)]                      'simple_rnn_4[0][1]']           \n",
            "                                                                                                  \n",
            " simple_rnn_11 (SimpleRNN)      [(None, 26, 64),     8256        ['simple_rnn_10[0][0]',          \n",
            "                                 (None, 64)]                      'simple_rnn_4[0][1]']           \n",
            "                                                                                                  \n",
            " simple_rnn_12 (SimpleRNN)      [(None, 26, 64),     8256        ['simple_rnn_11[0][0]',          \n",
            "                                 (None, 64)]                      'simple_rnn_4[0][1]']           \n",
            "                                                                                                  \n",
            " simple_rnn_13 (SimpleRNN)      [(None, 26, 64),     8256        ['simple_rnn_12[0][0]',          \n",
            "                                 (None, 64)]                      'simple_rnn_4[0][1]']           \n",
            "                                                                                                  \n",
            " simple_rnn_14 (SimpleRNN)      [(None, 26, 64),     8256        ['simple_rnn_13[0][0]',          \n",
            "                                 (None, 64)]                      'simple_rnn_4[0][1]']           \n",
            "                                                                                                  \n",
            " final (Dense)                  (None, 26, 64)       4160        ['simple_rnn_14[0][0]']          \n",
            "                                                                                                  \n",
            "==================================================================================================\n",
            "Total params: 126,816\n",
            "Trainable params: 126,816\n",
            "Non-trainable params: 0\n",
            "__________________________________________________________________________________________________\n",
            "Epoch 1/5\n",
            "1582/1582 [==============================] - 469s 289ms/step - loss: 1.5208 - accuracy: 0.6345 - _timestamp: 1650433016.0000 - _runtime: 477.0000\n",
            "Epoch 2/5\n",
            "1582/1582 [==============================] - 454s 287ms/step - loss: 1.1940 - accuracy: 0.6741 - _timestamp: 1650433470.0000 - _runtime: 931.0000\n",
            "Epoch 3/5\n",
            "1582/1582 [==============================] - 453s 286ms/step - loss: 1.1622 - accuracy: 0.6790 - _timestamp: 1650433923.0000 - _runtime: 1384.0000\n",
            "Epoch 4/5\n",
            "1582/1582 [==============================] - 444s 281ms/step - loss: 1.1401 - accuracy: 0.6834 - _timestamp: 1650434367.0000 - _runtime: 1828.0000\n",
            "Epoch 5/5\n",
            "1582/1582 [==============================] - 451s 285ms/step - loss: 1.1248 - accuracy: 0.6868 - _timestamp: 1650434818.0000 - _runtime: 2279.0000\n",
            "success:0\n",
            "val_acc0.0\n",
            "\n"
          ]
        },
        {
          "output_type": "display_data",
          "data": {
            "text/plain": [
              "<IPython.core.display.HTML object>"
            ],
            "text/html": [
              "Waiting for W&B process to finish... <strong style=\"color:green\">(success).</strong>"
            ]
          },
          "metadata": {}
        },
        {
          "output_type": "display_data",
          "data": {
            "text/plain": [
              "VBox(children=(Label(value='1.603 MB of 1.603 MB uploaded (0.000 MB deduped)\\r'), FloatProgress(value=1.0, max…"
            ],
            "application/vnd.jupyter.widget-view+json": {
              "version_major": 2,
              "version_minor": 0,
              "model_id": "d86852991ca847bebe18f64a8fe71cd7"
            }
          },
          "metadata": {}
        },
        {
          "output_type": "display_data",
          "data": {
            "text/plain": [
              "<IPython.core.display.HTML object>"
            ],
            "text/html": [
              "<style>\n",
              "    table.wandb td:nth-child(1) { padding: 0 10px; text-align: right }\n",
              "    .wandb-row { display: flex; flex-direction: row; flex-wrap: wrap; width: 100% }\n",
              "    .wandb-col { display: flex; flex-direction: column; flex-basis: 100%; flex: 1; padding: 10px; }\n",
              "    </style>\n",
              "<div class=\"wandb-row\"><div class=\"wandb-col\"><h3>Run history:</h3><br/><table class=\"wandb\"><tr><td>accuracy</td><td>▁▆▇██</td></tr><tr><td>epoch</td><td>▁▃▅▆█</td></tr><tr><td>loss</td><td>█▂▂▁▁</td></tr><tr><td>val_acc</td><td>▁</td></tr></table><br/></div><div class=\"wandb-col\"><h3>Run summary:</h3><br/><table class=\"wandb\"><tr><td>accuracy</td><td>0.68682</td></tr><tr><td>epoch</td><td>4</td></tr><tr><td>loss</td><td>1.12482</td></tr><tr><td>val_acc</td><td>0.0</td></tr></table><br/></div></div>"
            ]
          },
          "metadata": {}
        },
        {
          "output_type": "display_data",
          "data": {
            "text/plain": [
              "<IPython.core.display.HTML object>"
            ],
            "text/html": [
              "Synced <strong style=\"color:#cdcd00\">sandy-sweep-10</strong>: <a href=\"https://wandb.ai/akshaygrao/DeepLearningAssignment-3/runs/afsbagd3\" target=\"_blank\">https://wandb.ai/akshaygrao/DeepLearningAssignment-3/runs/afsbagd3</a><br/>Synced 5 W&B file(s), 1 media file(s), 0 artifact file(s) and 1 other file(s)"
            ]
          },
          "metadata": {}
        },
        {
          "output_type": "display_data",
          "data": {
            "text/plain": [
              "<IPython.core.display.HTML object>"
            ],
            "text/html": [
              "Find logs at: <code>./wandb/run-20220420_052859-afsbagd3/logs</code>"
            ]
          },
          "metadata": {}
        },
        {
          "output_type": "stream",
          "name": "stderr",
          "text": [
            "\u001b[34m\u001b[1mwandb\u001b[0m: Agent Starting Run: svsq4o0p with config:\n",
            "\u001b[34m\u001b[1mwandb\u001b[0m: \tbeam_search: False\n",
            "\u001b[34m\u001b[1mwandb\u001b[0m: \tdecoder_layers: 2\n",
            "\u001b[34m\u001b[1mwandb\u001b[0m: \tdropout: 0.3\n",
            "\u001b[34m\u001b[1mwandb\u001b[0m: \tembedding_out_dim: 128\n",
            "\u001b[34m\u001b[1mwandb\u001b[0m: \tencoder_layers: 7\n",
            "\u001b[34m\u001b[1mwandb\u001b[0m: \tepochs: 5\n",
            "\u001b[34m\u001b[1mwandb\u001b[0m: \tlatent_dim: 64\n",
            "\u001b[34m\u001b[1mwandb\u001b[0m: \tlr: 0.0001\n",
            "\u001b[34m\u001b[1mwandb\u001b[0m: \trnn_type: RNN\n"
          ]
        },
        {
          "output_type": "stream",
          "name": "stdout",
          "text": [
            "INFO:tensorflow:Using MirroredStrategy with devices ('/job:localhost/replica:0/task:0/device:GPU:0',)\n",
            "Number of devices: 1\n"
          ]
        },
        {
          "output_type": "stream",
          "name": "stderr",
          "text": [
            "\u001b[34m\u001b[1mwandb\u001b[0m: \u001b[33mWARNING\u001b[0m Ignored wandb.init() arg project when running a sweep.\n",
            "\u001b[34m\u001b[1mwandb\u001b[0m: \u001b[33mWARNING\u001b[0m Ignored wandb.init() arg entity when running a sweep.\n"
          ]
        },
        {
          "output_type": "display_data",
          "data": {
            "text/plain": [
              "<IPython.core.display.HTML object>"
            ],
            "text/html": [
              "Tracking run with wandb version 0.12.14"
            ]
          },
          "metadata": {}
        },
        {
          "output_type": "display_data",
          "data": {
            "text/plain": [
              "<IPython.core.display.HTML object>"
            ],
            "text/html": [
              "Run data is saved locally in <code>/content/wandb/run-20220420_060743-svsq4o0p</code>"
            ]
          },
          "metadata": {}
        },
        {
          "output_type": "display_data",
          "data": {
            "text/plain": [
              "<IPython.core.display.HTML object>"
            ],
            "text/html": [
              "Syncing run <strong><a href=\"https://wandb.ai/akshaygrao/DeepLearningAssignment-3/runs/svsq4o0p\" target=\"_blank\">gallant-sweep-11</a></strong> to <a href=\"https://wandb.ai/akshaygrao/DeepLearningAssignment-3\" target=\"_blank\">Weights & Biases</a> (<a href=\"https://wandb.me/run\" target=\"_blank\">docs</a>)<br/>Sweep page:  <a href=\"https://wandb.ai/akshaygrao/DeepLearningAssignment-3/sweeps/343i8hbd\" target=\"_blank\">https://wandb.ai/akshaygrao/DeepLearningAssignment-3/sweeps/343i8hbd</a>"
            ]
          },
          "metadata": {}
        },
        {
          "output_type": "stream",
          "name": "stdout",
          "text": [
            "Config: {'beam_search': False, 'decoder_layers': 2, 'dropout': 0.3, 'embedding_out_dim': 128, 'encoder_layers': 7, 'epochs': 5, 'latent_dim': 64, 'lr': 0.0001, 'rnn_type': 'RNN'}\n",
            "Model: \"model\"\n",
            "__________________________________________________________________________________________________\n",
            " Layer (type)                   Output Shape         Param #     Connected to                     \n",
            "==================================================================================================\n",
            " input_1 (InputLayer)           [(None, 26)]         0           []                               \n",
            "                                                                                                  \n",
            " embedding (Embedding)          (None, 26, 128)      3456        ['input_1[0][0]']                \n",
            "                                                                                                  \n",
            " simple_rnn (SimpleRNN)         [(None, 26, 64),     12352       ['embedding[0][0]']              \n",
            "                                 (None, 64)]                                                      \n",
            "                                                                                                  \n",
            " simple_rnn_1 (SimpleRNN)       [(None, 26, 64),     8256        ['simple_rnn[0][0]']             \n",
            "                                 (None, 64)]                                                      \n",
            "                                                                                                  \n",
            " simple_rnn_2 (SimpleRNN)       [(None, 26, 64),     8256        ['simple_rnn_1[0][0]']           \n",
            "                                 (None, 64)]                                                      \n",
            "                                                                                                  \n",
            " simple_rnn_3 (SimpleRNN)       [(None, 26, 64),     8256        ['simple_rnn_2[0][0]']           \n",
            "                                 (None, 64)]                                                      \n",
            "                                                                                                  \n",
            " simple_rnn_4 (SimpleRNN)       [(None, 26, 64),     8256        ['simple_rnn_3[0][0]']           \n",
            "                                 (None, 64)]                                                      \n",
            "                                                                                                  \n",
            " input_2 (InputLayer)           [(None, 26)]         0           []                               \n",
            "                                                                                                  \n",
            " simple_rnn_5 (SimpleRNN)       [(None, 26, 64),     8256        ['simple_rnn_4[0][0]']           \n",
            "                                 (None, 64)]                                                      \n",
            "                                                                                                  \n",
            " embedding_1 (Embedding)        (None, 26, 128)      8192        ['input_2[0][0]']                \n",
            "                                                                                                  \n",
            " simple_rnn_6 (SimpleRNN)       [(None, 26, 64),     8256        ['simple_rnn_5[0][0]']           \n",
            "                                 (None, 64)]                                                      \n",
            "                                                                                                  \n",
            " simple_rnn_7 (SimpleRNN)       [(None, 26, 64),     12352       ['embedding_1[0][0]',            \n",
            "                                 (None, 64)]                      'simple_rnn_6[0][1]']           \n",
            "                                                                                                  \n",
            " simple_rnn_8 (SimpleRNN)       [(None, 26, 64),     8256        ['simple_rnn_7[0][0]',           \n",
            "                                 (None, 64)]                      'simple_rnn_6[0][1]']           \n",
            "                                                                                                  \n",
            " final (Dense)                  (None, 26, 64)       4160        ['simple_rnn_8[0][0]']           \n",
            "                                                                                                  \n",
            "==================================================================================================\n",
            "Total params: 98,304\n",
            "Trainable params: 98,304\n",
            "Non-trainable params: 0\n",
            "__________________________________________________________________________________________________\n",
            "Epoch 1/5\n",
            "1185/1582 [=====================>........] - ETA: 1:10 - loss: 1.4608 - accuracy: 0.6592"
          ]
        }
      ]
    },
    {
      "cell_type": "code",
      "source": [
        "model = build_model('LSTM',32,2,3,0.3,64)"
      ],
      "metadata": {
        "id": "ogRAn6HcdRL2"
      },
      "execution_count": null,
      "outputs": []
    },
    {
      "cell_type": "code",
      "source": [
        "model.compile(optimizer=\"adam\", loss=keras.losses.SparseCategoricalCrossentropy(reduction='none'), metrics=[\"accuracy\"])"
      ],
      "metadata": {
        "id": "TzZNiKxOGs61"
      },
      "execution_count": null,
      "outputs": []
    },
    {
      "cell_type": "code",
      "source": [
        "hist=model.fit([train_input_tensor, train_target_tensor],tf.concat([train_target_tensor[:,1:],tf.zeros((train_target_tensor[:,:].shape[0],1))], axis=1),batch_size=32,epochs=5,shuffle=True)"
      ],
      "metadata": {
        "colab": {
          "base_uri": "https://localhost:8080/"
        },
        "id": "5GxbPO6Yf6Fx",
        "outputId": "64fd2688-c22f-4c91-cd12-bfac71a848f5"
      },
      "execution_count": null,
      "outputs": [
        {
          "output_type": "stream",
          "name": "stdout",
          "text": [
            "Epoch 1/5\n",
            "1582/1582 [==============================] - 111s 70ms/step - loss: 0.8703 - accuracy: 0.7522\n",
            "Epoch 2/5\n",
            "1582/1582 [==============================] - 109s 69ms/step - loss: 0.7699 - accuracy: 0.7803\n",
            "Epoch 3/5\n",
            "1582/1582 [==============================] - 114s 72ms/step - loss: 0.6420 - accuracy: 0.8164\n",
            "Epoch 4/5\n",
            "1582/1582 [==============================] - 111s 70ms/step - loss: 0.5391 - accuracy: 0.8443\n",
            "Epoch 5/5\n",
            "1582/1582 [==============================] - 111s 70ms/step - loss: 0.4597 - accuracy: 0.8663\n"
          ]
        }
      ]
    },
    {
      "cell_type": "code",
      "source": [
        "# Save model\n",
        "model.save(\"s2s.keras\")\n",
        "# Run inferencing\n",
        "# Restore the model and construct the encoder and decoder.\n",
        "inf = keras.models.load_model(\"/content/s2s.keras\")\n",
        "encoder_model,decoder_model=build_inference_model(inf,encoder_layers=2,decoder_layers=3,latent_dim=64)"
      ],
      "metadata": {
        "id": "_4PpsZv6mahJ"
      },
      "execution_count": null,
      "outputs": []
    }
  ]
}